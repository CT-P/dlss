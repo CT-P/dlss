{
  "cells": [
    {
      "cell_type": "markdown",
      "metadata": {
        "id": "E8cy0OkfIlCO"
      },
      "source": [
        "## Week 12 - Class 11"
      ]
    },
    {
      "cell_type": "markdown",
      "metadata": {
        "id": "oCJ3Yj41Iiip"
      },
      "source": [
        "This notebook have the most important exercises for theoretical class 11, which covers chapter 10 and 11 from the book. The labs from https://github.com/fchollet/deep-learning-with-python-notebooks are a guide for this notebook, mainly the labs 10,11\n",
        "\n"
      ]
    },
    {
      "cell_type": "markdown",
      "source": [
        "Dataset source:\n",
        "https://keras.io/examples/timeseries/timeseries_weather_forecasting/"
      ],
      "metadata": {
        "id": "PqQ5WSMEe1Q1"
      }
    },
    {
      "cell_type": "code",
      "execution_count": null,
      "metadata": {
        "id": "-HzPRitYI3wA"
      },
      "outputs": [],
      "source": [
        "import pandas as pd\n",
        "import numpy as np\n",
        "from tensorflow import keras\n",
        "from tensorflow.keras import layers"
      ]
    },
    {
      "cell_type": "code",
      "execution_count": null,
      "metadata": {
        "id": "jvIe5n5LIHU_"
      },
      "outputs": [],
      "source": [
        "#get the time series data, it is weather data\n",
        "!wget https://s3.amazonaws.com/keras-datasets/jena_climate_2009_2016.csv.zip\n",
        "!unzip jena_climate_2009_2016.csv.zip"
      ]
    },
    {
      "cell_type": "code",
      "execution_count": null,
      "metadata": {
        "id": "SaYC_f-sIf5h"
      },
      "outputs": [],
      "source": [
        "df=pd.read_csv('jena_climate_2009_2016.csv')"
      ]
    },
    {
      "cell_type": "code",
      "execution_count": null,
      "metadata": {
        "id": "qTCpPMLBI1qs"
      },
      "outputs": [],
      "source": [
        "df.head()"
      ]
    },
    {
      "cell_type": "code",
      "execution_count": null,
      "metadata": {
        "id": "VkDt-h6YKq2g"
      },
      "outputs": [],
      "source": [
        "df.columns"
      ]
    },
    {
      "cell_type": "code",
      "execution_count": null,
      "metadata": {
        "id": "9SnfZVAqKzVP"
      },
      "outputs": [],
      "source": [
        "df.shape"
      ]
    },
    {
      "cell_type": "code",
      "execution_count": null,
      "metadata": {
        "id": "bkGAB6kOK1qc"
      },
      "outputs": [],
      "source": [
        "24*6*10\n",
        "#every 10min"
      ]
    },
    {
      "cell_type": "code",
      "execution_count": null,
      "metadata": {
        "id": "CpxND5VUI7ID"
      },
      "outputs": [],
      "source": [
        "from matplotlib import pyplot as plt\n",
        "plt.plot(range(len(df['T (degC)'])), df['T (degC)'])"
      ]
    },
    {
      "cell_type": "code",
      "execution_count": null,
      "metadata": {
        "id": "NNkT0flzKwEm"
      },
      "outputs": [],
      "source": [
        "#plot first 10 days\n",
        "\n",
        "plt.plot(range(1440),  df['T (degC)'][:1440])"
      ]
    },
    {
      "cell_type": "code",
      "execution_count": null,
      "metadata": {
        "id": "Y3e8oQP-N4dR"
      },
      "outputs": [],
      "source": [
        "df.columns"
      ]
    },
    {
      "cell_type": "code",
      "execution_count": null,
      "metadata": {
        "id": "HO0F8g0TNzZg"
      },
      "outputs": [],
      "source": [
        "#remove first column (we don't input timestamps)\n",
        "df_raw=df[['p (mbar)', 'T (degC)', 'Tpot (K)', 'Tdew (degC)',\n",
        "       'rh (%)', 'VPmax (mbar)', 'VPact (mbar)', 'VPdef (mbar)', 'sh (g/kg)',\n",
        "       'H2OC (mmol/mol)', 'rho (g/m**3)', 'wv (m/s)', 'max. wv (m/s)',\n",
        "       'wd (deg)']]\n",
        "\n",
        "#or:\n",
        "#df_raw = df.drop('Date Time', axis=1)"
      ]
    },
    {
      "cell_type": "code",
      "execution_count": null,
      "metadata": {
        "id": "rHGjvh8RNk11"
      },
      "outputs": [],
      "source": [
        "raw_data=df_raw.to_numpy()"
      ]
    },
    {
      "cell_type": "code",
      "execution_count": null,
      "metadata": {
        "id": "fozYVK2lNvmP"
      },
      "outputs": [],
      "source": [
        "raw_data.shape"
      ]
    },
    {
      "cell_type": "code",
      "execution_count": null,
      "metadata": {
        "id": "IAnQXVLkNx1o"
      },
      "outputs": [],
      "source": []
    },
    {
      "cell_type": "code",
      "execution_count": null,
      "metadata": {
        "id": "hdUHBBl0K-wO"
      },
      "outputs": [],
      "source": [
        "# define indexes of training, validation, testing datasets\n",
        "\n",
        "num_train_samples = int(0.5 * len(raw_data))\n",
        "num_val_samples = int(0.25 * len(raw_data))\n",
        "num_test_samples = len(raw_data) - num_train_samples - num_val_samples\n",
        "print(\"num_train_samples:\", num_train_samples)\n",
        "print(\"num_val_samples:\", num_val_samples)\n",
        "print(\"num_test_samples:\", num_test_samples)"
      ]
    },
    {
      "cell_type": "markdown",
      "source": [
        "Since every feature has values with varying ranges, we do normalization to confine feature values to a range of [0, 1] before training a neural network. "
      ],
      "metadata": {
        "id": "7LhE501wf7o1"
      }
    },
    {
      "cell_type": "code",
      "execution_count": null,
      "metadata": {
        "id": "-LpvnISbMCQc"
      },
      "outputs": [],
      "source": [
        "#normalize the data\n",
        "\n",
        "mean = raw_data[:num_train_samples].mean(axis=0)\n",
        "raw_data -= mean\n",
        "std = raw_data[:num_train_samples].std(axis=0)\n",
        "raw_data /= std"
      ]
    },
    {
      "cell_type": "code",
      "source": [],
      "metadata": {
        "id": "FIKleGvRkCcD"
      },
      "execution_count": null,
      "outputs": []
    },
    {
      "cell_type": "markdown",
      "source": [
        "Consider indices [0, 1, ... 99]. With sequence_length=10, sampling_rate=2, sequence_stride=3, shuffle=False\n",
        "\n",
        "\n",
        "First sequence:  [0  2  4  6  8 10 12 14 16 18]\n",
        "\n",
        "Second sequence: [3  5  7  9 11 13 15 17 19 21]\n",
        "\n",
        "Third sequence:  [6  8 10 12 14 16 18 20 22 24]\n",
        "\n",
        "...\n",
        "\n",
        "Last sequence:   [78 80 82 84 86 88 90 92 94 96]"
      ],
      "metadata": {
        "id": "Y9uFJEdElRLH"
      }
    },
    {
      "cell_type": "markdown",
      "source": [
        "# timeseries_dataset_from_array\n",
        "\n",
        "**sampling_rate** = Observations will be sampled at one data point per hour: we will only keep one data\n",
        "point out of 6.\n",
        "\n",
        "\n",
        "**sequence_length** = Observations will go back 5 days (120 hours). This is considering already the sampling rate.\n",
        "\n",
        "\n",
        "**delay** = sampling_rate * (sequence_length + 24 - 1)—The target for a sequence will be the temperature 24 hours after the end of the sequence."
      ],
      "metadata": {
        "id": "VF0WJcT9mDNX"
      }
    },
    {
      "cell_type": "code",
      "source": [
        "sampling_rate = ...\n",
        "sequence_length = ...\n",
        "delay = ...\n",
        "batch_size = 256"
      ],
      "metadata": {
        "id": "0-rKYjnQnYex"
      },
      "execution_count": null,
      "outputs": []
    },
    {
      "cell_type": "code",
      "source": [
        "train_dataset = keras.utils.timeseries_dataset_from_array(\n",
        "    data=... ,\n",
        "    targets=,\n",
        "    sampling_rate=...,\n",
        "    sequence_length=...,\n",
        "    shuffle=True,\n",
        "    batch_size=batch_size,\n",
        "    start_index=...,\n",
        "    end_index=...)\n",
        "\n",
        "val_dataset = keras.utils.timeseries_dataset_from_array(\n",
        "    data=..., #same\n",
        "    targets=..., #same\n",
        "    sampling_rate=..., #same\n",
        "    sequence_length=...,#same\n",
        "    shuffle=True,\n",
        "    batch_size=batch_size,\n",
        "    start_index=...,\n",
        "    end_index=...)\n",
        "\n",
        "test_dataset = keras.utils.timeseries_dataset_from_array(\n",
        "    data=...,#same\n",
        "    targets=...,#same\n",
        "    sampling_rate=...,#same\n",
        "    sequence_length=...,#same\n",
        "    shuffle=True,\n",
        "    batch_size=batch_size,\n",
        "    start_index=...)"
      ],
      "metadata": {
        "id": "D7Pwra8-maEi"
      },
      "execution_count": null,
      "outputs": []
    },
    {
      "cell_type": "code",
      "execution_count": null,
      "metadata": {
        "id": "VlhK0HwcMPD1"
      },
      "outputs": [],
      "source": [
        "for samples, targets in train_dataset:\n",
        "    print(\"samples shape:\", samples.shape)\n",
        "    print(\"targets shape:\", targets.shape)\n",
        "    break"
      ]
    },
    {
      "cell_type": "code",
      "execution_count": null,
      "metadata": {
        "id": "3gBZjJBPM3kn"
      },
      "outputs": [],
      "source": []
    },
    {
      "cell_type": "code",
      "execution_count": null,
      "metadata": {
        "id": "81aJWI-_MdGb"
      },
      "outputs": [],
      "source": [
        "inputs = keras.Input(shape=(sequence_length, raw_data.shape[-1]))\n",
        "x = layers.LSTM(16)(inputs)\n",
        "outputs = layers.Dense(1)(x)\n",
        "model = keras.Model(inputs, outputs)\n",
        "\n",
        "callbacks = [\n",
        "    keras.callbacks.ModelCheckpoint(\"jena_lstm.keras\",\n",
        "                                    save_best_only=True)\n",
        "]\n",
        "model.compile(optimizer=\"rmsprop\", loss=\"mse\", metrics=[\"mae\"])\n",
        "history = model.fit(train_dataset,\n",
        "                    epochs=2,\n",
        "                    validation_data=val_dataset,\n",
        "                    callbacks=callbacks)\n",
        "\n",
        "model = keras.models.load_model(\"jena_lstm.keras\")\n",
        "print(f\"Test MAE: {model.evaluate(test_dataset)[1]:.2f}\")"
      ]
    },
    {
      "cell_type": "code",
      "source": [
        "model.summary()"
      ],
      "metadata": {
        "id": "gpDi8FkQqcw6"
      },
      "execution_count": null,
      "outputs": []
    },
    {
      "cell_type": "code",
      "execution_count": null,
      "metadata": {
        "id": "uB7HLyOxMhMY"
      },
      "outputs": [],
      "source": [
        "import matplotlib.pyplot as plt\n",
        "loss = history.history[\"mae\"]\n",
        "val_loss = history.history[\"val_mae\"]\n",
        "epochs = range(1, len(loss) + 1)\n",
        "plt.figure()\n",
        "plt.plot(epochs, loss, \"bo\", label=\"Training MAE\")\n",
        "plt.plot(epochs, val_loss, \"b\", label=\"Validation MAE\")\n",
        "plt.title(\"Training and validation MAE\")\n",
        "plt.legend()\n",
        "plt.show()"
      ]
    },
    {
      "cell_type": "markdown",
      "source": [
        "LSTM explanation: https://colah.github.io/posts/2015-08-Understanding-LSTMs/"
      ],
      "metadata": {
        "id": "P0r1wPrdhdLO"
      }
    },
    {
      "cell_type": "code",
      "execution_count": null,
      "metadata": {
        "id": "IpBU_wOcPG7S"
      },
      "outputs": [],
      "source": [
        "# simple NN manual code\n",
        "import numpy as np\n",
        "timesteps = 100\n",
        "input_features = 32\n",
        "output_features = 64\n",
        "inputs = np.random.random((timesteps, input_features))\n",
        "state_t = np.zeros((output_features,))\n",
        "W = np.random.random((output_features, input_features))\n",
        "U = np.random.random((output_features, output_features))\n",
        "b = np.random.random((output_features,))\n",
        "successive_outputs = []\n",
        "for input_t in inputs:\n",
        "    output_t = np.tanh(np.dot(W, input_t) + np.dot(U, state_t) + b)\n",
        "    successive_outputs.append(output_t)\n",
        "    state_t = output_t\n",
        "final_output_sequence = np.stack(successive_outputs, axis=0)"
      ]
    },
    {
      "cell_type": "code",
      "source": [
        "#number of units in LSTM\n",
        "#number of parmeters \n",
        "#latent dimension: because is the size of internal matrix\n",
        "final_output_sequence.shape\n"
      ],
      "metadata": {
        "id": "WyAECZaDiuXE"
      },
      "execution_count": null,
      "outputs": []
    },
    {
      "cell_type": "code",
      "source": [
        "inputs.shape"
      ],
      "metadata": {
        "id": "HIO9WkoTi1he"
      },
      "execution_count": null,
      "outputs": []
    },
    {
      "cell_type": "code",
      "execution_count": null,
      "metadata": {
        "id": "00MP-xFUQQ4C"
      },
      "outputs": [],
      "source": [
        "# simple NN, try different parameters for return_sequences\n",
        "\n",
        "num_features = 14\n",
        "steps = 120\n",
        "inputs = keras.Input(shape=(steps, num_features))\n",
        "outputs = layers.SimpleRNN(16, return_sequences=True)(inputs)\n",
        "print(outputs.shape)"
      ]
    },
    {
      "cell_type": "code",
      "execution_count": null,
      "metadata": {
        "colab": {
          "background_save": true
        },
        "id": "3iLLMKn_QRTS"
      },
      "outputs": [],
      "source": [
        "# LSTM with dropout\n",
        "\n",
        "inputs = keras.Input(shape=(sequence_length, raw_data.shape[-1]))\n",
        "x = layers.LSTM(32, recurrent_dropout=0.25)(inputs)\n",
        "x = layers.Dropout(0.5)(x)\n",
        "outputs = layers.Dense(1)(x)\n",
        "model = keras.Model(inputs, outputs)\n",
        "\n",
        "callbacks = [\n",
        "    keras.callbacks.ModelCheckpoint(\"jena_lstm_dropout.keras\",\n",
        "                                    save_best_only=True)\n",
        "]\n",
        "model.compile(optimizer=\"rmsprop\", loss=\"mse\", metrics=[\"mae\"])\n",
        "history = model.fit(train_dataset,\n",
        "                    epochs=2,\n",
        "                    validation_data=val_dataset,\n",
        "                    callbacks=callbacks)\n"
      ]
    },
    {
      "cell_type": "markdown",
      "source": [
        "Same sequence but with text: https://github.com/fchollet/deep-learning-with-python-notebooks/blob/master/chapter11_part02_sequence-models.ipynb\n"
      ],
      "metadata": {
        "id": "P2AH54PHsZo9"
      }
    },
    {
      "cell_type": "code",
      "execution_count": null,
      "metadata": {
        "id": "cN3npbbBQp_l"
      },
      "outputs": [],
      "source": []
    }
  ],
  "metadata": {
    "colab": {
      "provenance": []
    },
    "kernelspec": {
      "display_name": "Python 3",
      "name": "python3"
    },
    "language_info": {
      "name": "python"
    }
  },
  "nbformat": 4,
  "nbformat_minor": 0
}