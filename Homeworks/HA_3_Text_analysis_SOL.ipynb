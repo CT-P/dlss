{
  "nbformat": 4,
  "nbformat_minor": 0,
  "metadata": {
    "colab": {
      "provenance": []
    },
    "kernelspec": {
      "name": "python3",
      "display_name": "Python 3"
    },
    "language_info": {
      "name": "python"
    }
  },
  "cells": [
    {
      "cell_type": "markdown",
      "source": [
        "## Homework 3: text analysis with transformers"
      ],
      "metadata": {
        "id": "Aw6RRGsLsMz6"
      }
    },
    {
      "cell_type": "markdown",
      "source": [
        "Download and upzip the file named:  ef616c40-13c0-4212-b7cb-b3d3bbb08bff__2023_05_31T18_07_51.tsv.xz\n",
        "\n",
        "You can find it in OLAT under the materials for the Session 13.\n",
        "\n",
        "You will select part of the data, pre process it and apply a transformer for classification.\n",
        "\n",
        "Source: https://swissdox.linguistik.uzh.ch/"
      ],
      "metadata": {
        "id": "6oyEmDESLnFE"
      }
    },
    {
      "cell_type": "code",
      "execution_count": 2,
      "metadata": {
        "id": "k16p0e0isLlH",
        "colab": {
          "base_uri": "https://localhost:8080/",
          "height": 565
        },
        "outputId": "99688278-f784-4416-b4c8-7ac94159f3d1"
      },
      "outputs": [
        {
          "output_type": "execute_result",
          "data": {
            "text/plain": [
              "         id                 pubtime medium_code           medium_name  \\\n",
              "0  37375401  2019-07-08 00:00:00+02         NZZ  Neue Zürcher Zeitung   \n",
              "1  36234856  2019-01-23 00:00:00+01         NZZ  Neue Zürcher Zeitung   \n",
              "2  39162757  2020-03-14 00:00:00+01         NZZ  Neue Zürcher Zeitung   \n",
              "3  37863590  2019-09-21 00:00:00+02         NZZ  Neue Zürcher Zeitung   \n",
              "4  35212980  2018-09-29 00:00:00+02         NZZ  Neue Zürcher Zeitung   \n",
              "\n",
              "       rubric  regional doctype       doctype_description language  \\\n",
              "0       Front       NaN     PND  National daily newspaper       de   \n",
              "1       Sport       NaN     PND  National daily newspaper       de   \n",
              "2  Feuilleton       NaN     PND  National daily newspaper       de   \n",
              "3     Schweiz       NaN     PND  National daily newspaper       de   \n",
              "4  Wirtschaft       NaN     PND  National daily newspaper       de   \n",
              "\n",
              "   char_count         dateline  \\\n",
              "0        5637              NaN   \n",
              "1        4726              NaN   \n",
              "2        8641              NaN   \n",
              "3         212              NaN   \n",
              "4        2202  Herausgegriffen   \n",
              "\n",
              "                                                head  \\\n",
              "0                  Deutsche Bank mit radikalem Umbau   \n",
              "1  Europäische Basketballer werden in der weltbes...   \n",
              "2                       Was soll dieses Geschwurbel?   \n",
              "3                                    RICHTIGSTELLUNG   \n",
              "4         Wenn es Himmelsstürmern zu langweilig wird   \n",
              "\n",
              "                                             subhead  \\\n",
              "0    Umstrittene Investmentbank wird redimensioniert   \n",
              "1  Der 19-jährige Luka Doncic und der 40-jährige ...   \n",
              "2  Geht es um Literatur, wird das Fernsehen zum T...   \n",
              "3                                                NaN   \n",
              "4                                                NaN   \n",
              "\n",
              "                             content_id  \\\n",
              "0  000139ce-b726-82b2-f007-fb15cdb95418   \n",
              "1  0001b5d5-8813-bd8d-cd3b-cd82b8ea3afe   \n",
              "2  0001d221-6383-4f0c-d818-17bf10ce294c   \n",
              "3  0001f88a-0a85-53ee-51da-c969b6b42012   \n",
              "4  00028240-09bd-09f1-b5ac-deb63840e86a   \n",
              "\n",
              "                                             content  \n",
              "0  <tx><ld><p>Mit einer tiefgreifenden Restruktur...  \n",
              "1  <tx><au>ROMAN SCHUPPLI</au><p>Vielleicht hänge...  \n",
              "2  <tx><au>Rainer Moritz</au><p>Vielleicht sollte...  \n",
              "3  <tx><p>Die Redaktion weist darauf hin, dass Re...  \n",
              "4  <tx><p><au>Christian Steiner, Moskau</au>· Der...  "
            ],
            "text/html": [
              "\n",
              "  <div id=\"df-b407167e-9aef-452f-8e41-433a1c175685\">\n",
              "    <div class=\"colab-df-container\">\n",
              "      <div>\n",
              "<style scoped>\n",
              "    .dataframe tbody tr th:only-of-type {\n",
              "        vertical-align: middle;\n",
              "    }\n",
              "\n",
              "    .dataframe tbody tr th {\n",
              "        vertical-align: top;\n",
              "    }\n",
              "\n",
              "    .dataframe thead th {\n",
              "        text-align: right;\n",
              "    }\n",
              "</style>\n",
              "<table border=\"1\" class=\"dataframe\">\n",
              "  <thead>\n",
              "    <tr style=\"text-align: right;\">\n",
              "      <th></th>\n",
              "      <th>id</th>\n",
              "      <th>pubtime</th>\n",
              "      <th>medium_code</th>\n",
              "      <th>medium_name</th>\n",
              "      <th>rubric</th>\n",
              "      <th>regional</th>\n",
              "      <th>doctype</th>\n",
              "      <th>doctype_description</th>\n",
              "      <th>language</th>\n",
              "      <th>char_count</th>\n",
              "      <th>dateline</th>\n",
              "      <th>head</th>\n",
              "      <th>subhead</th>\n",
              "      <th>content_id</th>\n",
              "      <th>content</th>\n",
              "    </tr>\n",
              "  </thead>\n",
              "  <tbody>\n",
              "    <tr>\n",
              "      <th>0</th>\n",
              "      <td>37375401</td>\n",
              "      <td>2019-07-08 00:00:00+02</td>\n",
              "      <td>NZZ</td>\n",
              "      <td>Neue Zürcher Zeitung</td>\n",
              "      <td>Front</td>\n",
              "      <td>NaN</td>\n",
              "      <td>PND</td>\n",
              "      <td>National daily newspaper</td>\n",
              "      <td>de</td>\n",
              "      <td>5637</td>\n",
              "      <td>NaN</td>\n",
              "      <td>Deutsche Bank mit radikalem Umbau</td>\n",
              "      <td>Umstrittene Investmentbank wird redimensioniert</td>\n",
              "      <td>000139ce-b726-82b2-f007-fb15cdb95418</td>\n",
              "      <td>&lt;tx&gt;&lt;ld&gt;&lt;p&gt;Mit einer tiefgreifenden Restruktur...</td>\n",
              "    </tr>\n",
              "    <tr>\n",
              "      <th>1</th>\n",
              "      <td>36234856</td>\n",
              "      <td>2019-01-23 00:00:00+01</td>\n",
              "      <td>NZZ</td>\n",
              "      <td>Neue Zürcher Zeitung</td>\n",
              "      <td>Sport</td>\n",
              "      <td>NaN</td>\n",
              "      <td>PND</td>\n",
              "      <td>National daily newspaper</td>\n",
              "      <td>de</td>\n",
              "      <td>4726</td>\n",
              "      <td>NaN</td>\n",
              "      <td>Europäische Basketballer werden in der weltbes...</td>\n",
              "      <td>Der 19-jährige Luka Doncic und der 40-jährige ...</td>\n",
              "      <td>0001b5d5-8813-bd8d-cd3b-cd82b8ea3afe</td>\n",
              "      <td>&lt;tx&gt;&lt;au&gt;ROMAN SCHUPPLI&lt;/au&gt;&lt;p&gt;Vielleicht hänge...</td>\n",
              "    </tr>\n",
              "    <tr>\n",
              "      <th>2</th>\n",
              "      <td>39162757</td>\n",
              "      <td>2020-03-14 00:00:00+01</td>\n",
              "      <td>NZZ</td>\n",
              "      <td>Neue Zürcher Zeitung</td>\n",
              "      <td>Feuilleton</td>\n",
              "      <td>NaN</td>\n",
              "      <td>PND</td>\n",
              "      <td>National daily newspaper</td>\n",
              "      <td>de</td>\n",
              "      <td>8641</td>\n",
              "      <td>NaN</td>\n",
              "      <td>Was soll dieses Geschwurbel?</td>\n",
              "      <td>Geht es um Literatur, wird das Fernsehen zum T...</td>\n",
              "      <td>0001d221-6383-4f0c-d818-17bf10ce294c</td>\n",
              "      <td>&lt;tx&gt;&lt;au&gt;Rainer Moritz&lt;/au&gt;&lt;p&gt;Vielleicht sollte...</td>\n",
              "    </tr>\n",
              "    <tr>\n",
              "      <th>3</th>\n",
              "      <td>37863590</td>\n",
              "      <td>2019-09-21 00:00:00+02</td>\n",
              "      <td>NZZ</td>\n",
              "      <td>Neue Zürcher Zeitung</td>\n",
              "      <td>Schweiz</td>\n",
              "      <td>NaN</td>\n",
              "      <td>PND</td>\n",
              "      <td>National daily newspaper</td>\n",
              "      <td>de</td>\n",
              "      <td>212</td>\n",
              "      <td>NaN</td>\n",
              "      <td>RICHTIGSTELLUNG</td>\n",
              "      <td>NaN</td>\n",
              "      <td>0001f88a-0a85-53ee-51da-c969b6b42012</td>\n",
              "      <td>&lt;tx&gt;&lt;p&gt;Die Redaktion weist darauf hin, dass Re...</td>\n",
              "    </tr>\n",
              "    <tr>\n",
              "      <th>4</th>\n",
              "      <td>35212980</td>\n",
              "      <td>2018-09-29 00:00:00+02</td>\n",
              "      <td>NZZ</td>\n",
              "      <td>Neue Zürcher Zeitung</td>\n",
              "      <td>Wirtschaft</td>\n",
              "      <td>NaN</td>\n",
              "      <td>PND</td>\n",
              "      <td>National daily newspaper</td>\n",
              "      <td>de</td>\n",
              "      <td>2202</td>\n",
              "      <td>Herausgegriffen</td>\n",
              "      <td>Wenn es Himmelsstürmern zu langweilig wird</td>\n",
              "      <td>NaN</td>\n",
              "      <td>00028240-09bd-09f1-b5ac-deb63840e86a</td>\n",
              "      <td>&lt;tx&gt;&lt;p&gt;&lt;au&gt;Christian Steiner, Moskau&lt;/au&gt;· Der...</td>\n",
              "    </tr>\n",
              "  </tbody>\n",
              "</table>\n",
              "</div>\n",
              "      <button class=\"colab-df-convert\" onclick=\"convertToInteractive('df-b407167e-9aef-452f-8e41-433a1c175685')\"\n",
              "              title=\"Convert this dataframe to an interactive table.\"\n",
              "              style=\"display:none;\">\n",
              "        \n",
              "  <svg xmlns=\"http://www.w3.org/2000/svg\" height=\"24px\"viewBox=\"0 0 24 24\"\n",
              "       width=\"24px\">\n",
              "    <path d=\"M0 0h24v24H0V0z\" fill=\"none\"/>\n",
              "    <path d=\"M18.56 5.44l.94 2.06.94-2.06 2.06-.94-2.06-.94-.94-2.06-.94 2.06-2.06.94zm-11 1L8.5 8.5l.94-2.06 2.06-.94-2.06-.94L8.5 2.5l-.94 2.06-2.06.94zm10 10l.94 2.06.94-2.06 2.06-.94-2.06-.94-.94-2.06-.94 2.06-2.06.94z\"/><path d=\"M17.41 7.96l-1.37-1.37c-.4-.4-.92-.59-1.43-.59-.52 0-1.04.2-1.43.59L10.3 9.45l-7.72 7.72c-.78.78-.78 2.05 0 2.83L4 21.41c.39.39.9.59 1.41.59.51 0 1.02-.2 1.41-.59l7.78-7.78 2.81-2.81c.8-.78.8-2.07 0-2.86zM5.41 20L4 18.59l7.72-7.72 1.47 1.35L5.41 20z\"/>\n",
              "  </svg>\n",
              "      </button>\n",
              "      \n",
              "  <style>\n",
              "    .colab-df-container {\n",
              "      display:flex;\n",
              "      flex-wrap:wrap;\n",
              "      gap: 12px;\n",
              "    }\n",
              "\n",
              "    .colab-df-convert {\n",
              "      background-color: #E8F0FE;\n",
              "      border: none;\n",
              "      border-radius: 50%;\n",
              "      cursor: pointer;\n",
              "      display: none;\n",
              "      fill: #1967D2;\n",
              "      height: 32px;\n",
              "      padding: 0 0 0 0;\n",
              "      width: 32px;\n",
              "    }\n",
              "\n",
              "    .colab-df-convert:hover {\n",
              "      background-color: #E2EBFA;\n",
              "      box-shadow: 0px 1px 2px rgba(60, 64, 67, 0.3), 0px 1px 3px 1px rgba(60, 64, 67, 0.15);\n",
              "      fill: #174EA6;\n",
              "    }\n",
              "\n",
              "    [theme=dark] .colab-df-convert {\n",
              "      background-color: #3B4455;\n",
              "      fill: #D2E3FC;\n",
              "    }\n",
              "\n",
              "    [theme=dark] .colab-df-convert:hover {\n",
              "      background-color: #434B5C;\n",
              "      box-shadow: 0px 1px 3px 1px rgba(0, 0, 0, 0.15);\n",
              "      filter: drop-shadow(0px 1px 2px rgba(0, 0, 0, 0.3));\n",
              "      fill: #FFFFFF;\n",
              "    }\n",
              "  </style>\n",
              "\n",
              "      <script>\n",
              "        const buttonEl =\n",
              "          document.querySelector('#df-b407167e-9aef-452f-8e41-433a1c175685 button.colab-df-convert');\n",
              "        buttonEl.style.display =\n",
              "          google.colab.kernel.accessAllowed ? 'block' : 'none';\n",
              "\n",
              "        async function convertToInteractive(key) {\n",
              "          const element = document.querySelector('#df-b407167e-9aef-452f-8e41-433a1c175685');\n",
              "          const dataTable =\n",
              "            await google.colab.kernel.invokeFunction('convertToInteractive',\n",
              "                                                     [key], {});\n",
              "          if (!dataTable) return;\n",
              "\n",
              "          const docLinkHtml = 'Like what you see? Visit the ' +\n",
              "            '<a target=\"_blank\" href=https://colab.research.google.com/notebooks/data_table.ipynb>data table notebook</a>'\n",
              "            + ' to learn more about interactive tables.';\n",
              "          element.innerHTML = '';\n",
              "          dataTable['output_type'] = 'display_data';\n",
              "          await google.colab.output.renderOutput(dataTable, element);\n",
              "          const docLink = document.createElement('div');\n",
              "          docLink.innerHTML = docLinkHtml;\n",
              "          element.appendChild(docLink);\n",
              "        }\n",
              "      </script>\n",
              "    </div>\n",
              "  </div>\n",
              "  "
            ]
          },
          "metadata": {},
          "execution_count": 2
        }
      ],
      "source": [
        "import pandas as pd\n",
        "#this dataset takes around 7min to laod, although you can start your code even if the whole file isn't loaded in colab environment\n",
        "df=pd.read_csv('/content/ef616c40-13c0-4212-b7cb-b3d3bbb08bff__2023_05_31T18_07_51.tsv', sep='\\t')\n",
        "df.head()"
      ]
    },
    {
      "cell_type": "code",
      "source": [
        "#See the unique rubrics available in the dataset\n",
        "df.rubric.unique()"
      ],
      "metadata": {
        "colab": {
          "base_uri": "https://localhost:8080/"
        },
        "id": "w-cdubiFsvrP",
        "outputId": "e3830266-4be5-43ff-bf73-13d81493bcc5"
      },
      "execution_count": 3,
      "outputs": [
        {
          "output_type": "execute_result",
          "data": {
            "text/plain": [
              "array(['Front', 'Sport', 'Feuilleton', 'Schweiz', 'Wirtschaft',\n",
              "       'International', 'Briefe an die NZZ', 'Zürich und Region',\n",
              "       'Reisen', 'Olympische Winterspiele', 'Meinung und Debatte',\n",
              "       'Geldanlage', 'Literatur und Kunst', 'Panorama',\n",
              "       'Börsen und Märkte', 'Wochenende', 'Reflexe', 'Unternehmenspraxis',\n",
              "       'Gesellschaft', 'NZZ Domizil', 'Anlagefonds', 'Steuern sparen',\n",
              "       'Finanzjahr', 'Fokus der Wirtschaft', 'Weltmeisterschaft',\n",
              "       'Forschung und Technik', 'Mobilität'], dtype=object)"
            ]
          },
          "metadata": {},
          "execution_count": 3
        }
      ]
    },
    {
      "cell_type": "markdown",
      "source": [
        "# Q1 (17.5 points)\n",
        "A) Select the rubrics from: 'Schweiz','Zürich und Region', 'Meinung und Debatte'\n",
        "\n",
        "B) Create two arrays, one with the text (cleaned) (this is ***text***) and another with the rubric name (this ***labels***)"
      ],
      "metadata": {
        "id": "3ojvXivKMRB6"
      }
    },
    {
      "cell_type": "code",
      "source": [
        "#SOL\n",
        "df1=df.loc[df['rubric'].isin(['Schweiz','Zürich und Region', 'Meinung und Debatte'])]"
      ],
      "metadata": {
        "id": "qJK7pKQaMnF_"
      },
      "execution_count": 4,
      "outputs": []
    },
    {
      "cell_type": "code",
      "source": [
        "#SOL\n",
        "import re\n",
        "text=[]\n",
        "labels=[]\n",
        "for index, row in df.iterrows():\n",
        "    y=''.join(str(row['rubric']))\n",
        "    x=''.join([str(row['head']), str(row['subhead']), str(row['content'])])\n",
        "    x=x.replace('nan', '.')\n",
        "    x=re.sub(r\"<(.*?)>\", \".\", x)\n",
        "    text.append(x)\n",
        "    labels.append(y)\n",
        ""
      ],
      "metadata": {
        "id": "JJsTa42wtRz4"
      },
      "execution_count": 5,
      "outputs": []
    },
    {
      "cell_type": "code",
      "source": [
        "#check their length\n",
        "len(text), len(labels)\n",
        "\n"
      ],
      "metadata": {
        "colab": {
          "base_uri": "https://localhost:8080/"
        },
        "id": "lZi5v2TUuhCE",
        "outputId": "caba9e74-d3da-4bce-ef82-8e7ed454f1cb"
      },
      "execution_count": 6,
      "outputs": [
        {
          "output_type": "execute_result",
          "data": {
            "text/plain": [
              "(222, 222)"
            ]
          },
          "metadata": {},
          "execution_count": 6
        }
      ]
    },
    {
      "cell_type": "code",
      "source": [
        "#See the numebr of news pieces per class\n",
        "import collections, numpy as np\n",
        "counter = collections.Counter(labels)\n",
        "counter"
      ],
      "metadata": {
        "colab": {
          "base_uri": "https://localhost:8080/"
        },
        "id": "5njstAh1yq5t",
        "outputId": "32113b21-7c65-4306-c2bf-d5aaf6628b5f"
      },
      "execution_count": 7,
      "outputs": [
        {
          "output_type": "execute_result",
          "data": {
            "text/plain": [
              "Counter({'Front': 6,\n",
              "         'Sport': 19,\n",
              "         'Feuilleton': 14,\n",
              "         'Schweiz': 20,\n",
              "         'Wirtschaft': 41,\n",
              "         'International': 41,\n",
              "         'Briefe an die NZZ': 3,\n",
              "         'Zürich und Region': 17,\n",
              "         'Reisen': 3,\n",
              "         'Olympische Winterspiele': 1,\n",
              "         'Meinung und Debatte': 13,\n",
              "         'Geldanlage': 5,\n",
              "         'Literatur und Kunst': 2,\n",
              "         'Panorama': 7,\n",
              "         'Börsen und Märkte': 10,\n",
              "         'Wochenende': 1,\n",
              "         'Reflexe': 5,\n",
              "         'Unternehmenspraxis': 1,\n",
              "         'Gesellschaft': 1,\n",
              "         'NZZ Domizil': 1,\n",
              "         'Anlagefonds': 1,\n",
              "         'Steuern sparen': 1,\n",
              "         'Finanzjahr': 1,\n",
              "         'Fokus der Wirtschaft': 2,\n",
              "         'Weltmeisterschaft': 2,\n",
              "         'Forschung und Technik': 3,\n",
              "         'Mobilität': 1})"
            ]
          },
          "metadata": {},
          "execution_count": 7
        }
      ]
    },
    {
      "cell_type": "markdown",
      "source": [
        "#Q2 (17.5 points)\n",
        "Create directories with the files in the right format for creating keras datasets:\n",
        "\n",
        "swiss_dox_nzz/test/Meinung und Debatte\n",
        "\n",
        "swiss_dox_nzz/test/Zürich und Region\n",
        "\n",
        "swiss_dox_nzz/test/Schweiz\n",
        "\n",
        "The same for train and val, for each class"
      ],
      "metadata": {
        "id": "6UENuhcmO1k8"
      }
    },
    {
      "cell_type": "code",
      "source": [
        "#This code creates the file paths with the files in the right format for creating keras datasets\n",
        "import os, pathlib, shutil, random\n",
        "for class_ in ['Schweiz','Zürich und Region', 'Meinung und Debatte']:\n",
        "  sample_text=[x for x,y in zip(text,labels) if y==class_]\n",
        "  os.makedirs('swiss_dox_nzz' , exist_ok=True)\n",
        "  main_path=pathlib.Path('swiss_dox_nzz')\n",
        "  test_dir='test'\n",
        "  train_dir='train'\n",
        "  val_dir='val'\n",
        "  os.makedirs(main_path / test_dir / class_, exist_ok=True)\n",
        "  os.makedirs(main_path / train_dir / class_, exist_ok=True)\n",
        "  os.makedirs(main_path / val_dir / class_, exist_ok=True)\n",
        "  print(class_)\n",
        "\n",
        "  np.random.shuffle(sample_text)\n",
        "  ss=np.array_split(sample_text, 10)\n",
        "  training, test, validate = ss[:7], ss[7:9], ss[9:]\n",
        "\n",
        "  [np.savetxt(str(main_path)+'/'+test_dir+\"/\"+class_+\"/sample\"+str(np.random.randint(1000))+'.txt', x, newline=\" \", fmt='%s') for x in test]\n",
        "  [np.savetxt(str(main_path)+'/'+train_dir+\"/\"+class_+\"/sample\"+str(np.random.randint(1000))+'.txt', x, newline=\" \", fmt='%s') for x in training]\n",
        "  [np.savetxt(str(main_path)+'/'+val_dir+\"/\"+class_+\"/sample\"+str(np.random.randint(1000))+'.txt', x, newline=\" \", fmt='%s') for x in validate]\n",
        ""
      ],
      "metadata": {
        "colab": {
          "base_uri": "https://localhost:8080/"
        },
        "id": "r0id3bVDzuXY",
        "outputId": "02377908-d604-4f63-bf61-0efb90890e48"
      },
      "execution_count": 8,
      "outputs": [
        {
          "output_type": "stream",
          "name": "stdout",
          "text": [
            "Schweiz\n",
            "Zürich und Region\n",
            "Meinung und Debatte\n"
          ]
        }
      ]
    },
    {
      "cell_type": "code",
      "source": [
        "sample_text"
      ],
      "metadata": {
        "id": "RO4ZcueLGVUz",
        "colab": {
          "base_uri": "https://localhost:8080/"
        },
        "outputId": "596a91af-da05-4708-cb14-aaf258fd04dd"
      },
      "execution_count": 9,
      "outputs": [
        {
          "output_type": "execute_result",
          "data": {
            "text/plain": [
              "['Mangelnde Mobilität...Von KONRAD PAUL LIESSMANN..Ein heisser Sommer geht zu Ende, der Frühherbst kündigt sich an, die unerbittlichen Touristenströme in den historischen Stadtzentren ebben ab, die demütigenden Schlangen an den Flughäfen werden etwas kürzer, die unübersehbaren Staus auf den Autobahnen lockern sich, in den Fernzügen findet man vereinzelt wieder Sitzplätze, die Zelte werden abgebrochen, die Wohnwagen bilden nicht mehr endlose Kolonnen, die infernalisch dröhnenden Motorradfahrer verschwinden von den Alpenpässen, nur die grossen Kreuzfahrtschiffe lichten noch immer die Anker. Viele Menschen waren unterwegs in diesen Monaten und huldigten dem Gott der motorisierten Mobilität. Gleichzeitig aber nahm in diesem Sommer das Erschrecken über jenes Ansteigen der Temperaturen zu, das sich nicht zuletzt dieser Mobilität verdankt...Machen wir uns nichts vor: Theoretisch sind wir vom Klimawandel überzeugt und warnen vor seinen negativen Folgen, moralisch sorgen wir uns um die sich erwärmende Erde und versichern den Opfern dieses Prozesses unsere Solidarität, praktisch sind wir Klimawandelleugner. Nicht nur im umweltbelastenden Verhalten des Einzelnen drückt sich dies aus, sondern in der grundsätzlichen Einstellung zu all den Prozessen, die die Atmosphäre erhitzen und zu denen vorrangig nahezu alle Facetten unserer Mobilität zählen. Wir denken nicht daran, unsere Einstellung dazu so zu ändern, wie es unsere Rede über die drohenden Klimakatastrophen eigentlich nahelegte. Die Katastrophen sind immer die Katastrophen der anderen, und der Glaube, sich durch ein bisschen Elektromobilität und das Fahrverbot für Dieselautos von aller Schuld freikaufen zu können, ist ungebrochen. Der moderne Ablasshandel floriert bestens...Gerne beschwören wir die Disruption, den plötzlichen Auftritt des Neuen als Motor des Fortschritts, in Wahrheit versetzen uns schon der kleinste Perspektivenwechsel oder ein ungewohnter Gedanke in Angst und Schrecken. Dass unser Problem nicht in der einen oder anderen Technologie, sondern in unserer Einstellung zur Mobilität selbst liegen könnte, wollen und können wir nicht wahrhaben. Dabei geht es überhaupt nicht darum, den Menschen die Freiheit der Bewegung zu nehmen, sondern darum, wenigstens jene Exzesse einzudämmen, die nurmehr als sinnlose Opfer auf dem Altar des Mobilitätsgottes gedeutet werden können...Solange es profitabler ist, verderbliche Nahrungsmittel in riesigen Kühlcontainern rund um den Erdball zu schicken, anstatt sie vor Ort anzupflanzen, zu ernten, zu verkaufen und zu verzehren, solange die Auslandsreise eines Wissenschafters für seine Karriere wichtiger ist als ein kluger Gedanke, solange unterwegs sein als ein Menschenrecht gedeutet wird, das durch Billigflüge und Massentourismus eingelöst wird, solange der Individualverkehr zunimmt und der Geländewagen das beliebteste Vehikel von Stadtbewohnern ist, solange unendliche Ströme von Waren und Menschen fliessen müssen, damit ein gesamtes Wirtschafts- und Gesellschaftssystem am Leben erhalten wird, solange Motorsportveranstaltungen als Kulturgut gelten, solange all dies affirmiert, gefeiert, subventioniert und ideologisch legitimiert wird, sind die Tränen über die Erderwärmung Ausdruck lediglich unserer ökologischen Bigotterie...Tatsächlich mangelt es an geistiger Beweglichkeit, an einer Weitung des intellektuellen Horizonts, an innerer Mobilität. Erst eine solche erlaubte uns, jene Verkehrskonzepte prinzipiell infrage zu stellen, die ohnehin nurmehr zu einem rasenden Stillstand führen, die Erfahrung des Immergleichen produzieren und nebenbei das Weltklima gefährden....Konrad Paul Liessmann ist Professor für Methoden der Vermittlung von Philosophie und Ethik an der Universität Wien. Es gibt keine Fragen, die seiner Kolumne fremd sind....',\n",
              " 'Putin betreibt historisches Säbelrasseln...Von Ulrich Speck..«Wer die Vergangenheit kontrolliert, der kontrolliert auch die Zukunft», hat George Orwell, der hellsichtige Analyst des Totalitären, geschrieben. Ganz in diesem Sinne hat sich der russische Präsident Wladimir Putin in jüngster Zeit der sowjetischen Geschichte zugewandt. Wobei es ihm eben nicht um eine an Wahrheit orientierte Aufarbeitung geht, wie sie nach dem Zusammenbruch des sowjetischen Imperiums 1991 begonnen wurde, sondern um ein politisches nützliches Narrativ...Insbesondere konzentriert sich Putin in seinen verschiedenen Einlassungen auf einen der düstersten Aspekte der Herrschaft von Stalin: auf die Zusammenarbeit mit Hitler in den Jahren 1939 bis 1941 bei der gemeinsamen Aufteilung Mitteleuropas. In Putins weissgewaschener Geschichte war nicht die Sowjetunion, sondern ausgerechnet Polen – das in Wahrheit zum Opfer beider Grossmächte wurde – der Akteur, der Hitler den Weg in den Zweiten Weltkrieg bahnte...Putins Erzählung einer ungebrochenen heroischen Vergangenheit hat offenbar zur Aufgabe, den russischen Nationalismus zu stärken und damit die heutige Leidensfähigkeit einer Bevölkerung, deren Rechte und Entwicklungschancen von einem autokratischen Regime stark eingeschränkt werden...Darüber hinaus wird damit aber auch ein aussenpolitischer Anspruch ideologisch untermauert: eine domi.te Rolle in Ost- und Mitteleuropa zu spielen. Die Konsolidierung der Macht im Inneren ist in den letzten Jahren zunehmend von einer Konsolidierung der Macht nach aussen ergänzt worden. Mittlerweile betreibt Putin eine neoimperiale Machtpolitik, die darauf abzielt, die Ergebnisse der Jahre 1990 und 1991 zu revidieren, also den Zusammenbruch der Sowjetunion und des Warschauer Pakts zumindest tendenziell rückgängig zu machen...Russland beansprucht Vorrang und Vorherrschaft in Osteuropa und im Kaukasus und bemüht sich um prägenden Einfluss in Mitteleuropa. Zu diesem neoimperialen Projekt gehört seit einiger Zeit auch die Rückkehr Moskaus in den Nahen Osten und nach Nordafrika...Zur ideologischen Unterfütterung dieses Projekts hat sich Putin jetzt der sowjetischen Geschichte angenommen. Nicht nur verlangt er für Russland das gesamte sowjetische Erbe, er ist auch bestrebt, dieses Erbe von seinen zahlreichen dunklen Flecken zu reinigen...Dabei wird nicht nur Stalin zum neuen Säulenheiligen stilisiert, es werden auch die Opfer der Sowjetunion noch stärker heroisiert als bisher. Bei der Einweihung eines Denkmals für die Belagerung von Leningrad in Jerusalem im Januar hat Putin sich sogar dazu verstiegen, das Kriegsleiden von Sowjetbürgern auf die gleiche Ebene wie den Holocaust zu stellen...Wären das alles nur die privaten Reflexionen eines pensionierten Hobbyhistorikers, dann wäre das kein Anlass zur Beunruhigung. Doch Putin ist eben zugleich Herr eines Landes, das die Ukraine, den friedlichen Nachbarn, angegriffen hat. Ein Herrscher, dessen aggressives Auftreten, inklusive nuklearen Säbelrasselns, weite Teile Mittel- und Osteuropas in Unruhe versetzt – und die Nato dazu gebracht hat, sich wieder verstärkt um Abschreckung zu bemühen. Deshalb beunruhigt eine neue offizielle russische Geschichtserzählung, die die sowjetische Eroberungspolitik und Gewaltherrschaft in Mitteleuropa legitimieren soll, diejenigen, die darunter gelitten haben, mit guten, keineswegs nur historischen Gründen....Ulrich Speck ist Senior Visiting Fellow am German Marshall Fund in Berlin....',\n",
              " 'Die SP-Initiative würde die Verschwendung verstärken...Christof Forster..Sie kommt schmuck daher, die von der SP am Donnerstag eingereichte Volksinitiative zu den Krankenkassenprämien. Kein Haushalt soll mehr als 10 Prozent seines verfügbaren Einkommens für Prämien aufwenden müssen. Die durchschnittliche Belastung aller Haushalte liegt bei rund 7 Prozent. Bei dem Fünftel der Haushalte mit den tiefsten Einkommen waren es nach Berücksichtigung der Prämienverbilligungen im Mittel 14 Prozent. Die SP schätzt die Mehrkosten aufgrund der Initiative auf jährlich 3 bis 4 Milliarden Franken. Belastet würden Gutverdienende: Die Umverteilung von oben nach unten würde verstärkt. Nachdem die Partei bei früheren Versuchen mit lohnabhängigen Prämien an der Urne gescheitert ist, versucht sie es auf einem anderen, indirekten Weg. Es wäre jedoch transparenter, wenn die Sozialdemokraten per Volksinitiative eine Erhöhung der direkten Bundessteuer forderten. Diese belastet mit ihrer starken Progression Vielverdiener verhältnismässig stark. Die Höhe der Umverteilung ist durchaus politisch auszuhandeln. Die von der SP beabsichtigte Vernebelung hat zudem schädliche Nebenwirkungen auf das Gesundheitswesen. Mit der Initiative würden nämlich weniger Haushalte die Kostensteigerungen direkt spüren, weil ihre Prämienausgaben plafoniert sind. Damit sinkt die Bereitschaft, sich auf Reformen einzulassen, die tatsächlich Einsparungen bringen...Das Volksbegehren würde das allgemeine Malaise im Gesundheitswesen verstärken. Die zentralen Akteure haben keinen grossen Sparanreiz. Deshalb werden jährlich Milliarden verschwendet. Laut Experten wäre die heutige Versorgungsqualität zu tieferen Kosten zu haben. Jüngstes Beispiel ist das Ringen um den Ärztetarif für ambulante Leistungen. Die beiden Krankenkassenverbände sind nicht fähig, sich an einen Tisch zu setzen und gemeinsam mit der Ärztegewerkschaft FMH einen Tarifvertrag auszuhandeln. Dabei, so würde man meinen, sollten sie die gleichen Interessen haben: den Anstieg der Kosten und damit der Prämien zu dämpfen. Curafutura kämpft für den neuen Ärztetarif Tardoc, der jede Leistung einzeln tarifiert; Santésuisse für Pauschalen. Dabei braucht es beides im ambulanten Bereich. Von aussen kann dabei der Eindruck entstehen, es gehe den Verbänden auch um ihre eigene Profilierung...Auch bei der einheitlichen Fi.zierung von stationären und ambulanten Leistungen ist Sand im Getriebe. Die vorberatende Kommission des Ständerats hält die Reform, die längerfristig zu namhaften Einsparungen führen dürfte, in der jetzigen Fassung für nicht mehrheitsfähig. Es bleibt fraglich, ob ein Kompromiss mit den Kantonen gelingt...Hinzu kommt ein Gesundheitsminister, der nach acht Jahren Ringen mit der Branche ermüdet wirkt und wohl lieber heute als morgen das Departement wechseln würde, falls sich eine Gelegenheit ergibt. So schiebt Alain Berset beispielsweise die Senkung der Vertriebsmargen auf Medikamente vor sich her. Die Beseitigung des Fehlanreizes, der zum Verkauf von teureren Arzneimitteln animiert, bringt Einsparungen im dreistelligen Millionenbereich...In der Verantwortung steht aber auch jeder Einzelne. Die jährlichen Befragungen zum Gesundheitsmonitor zeigen zwar, dass für ein Drittel der Befragten die Prämien ein dauerhaftes oder gelegentliches Problem sind. Doch die Befragten gewichten Qualität, Quantität und den freien Zugang zu Medikamenten höher als Kostenüberlegungen. Wir pochen auf die beste medizinische Behandlung, das Spital vor der Haustüre und die freie Arztwahl. Wir haben ebenfalls keinen Sparanreiz, im Krankheitsfall zahlt ja die Krankenkasse...Die zentralen Akteure haben keinen grossen Sparanreiz. Deshalb werden jährlich Milliarden verschwendet...',\n",
              " 'Lackmustest für Kanzler Kurz...In Österreich ändern sich die Dinge derzeit rasant – aber bleibt vielleicht doch alles gleich? Das Land hat vor knapp einem halben Jahr eine neue Regierung unter Kanzler Kurz erhalten. Das Bündnis von bürgerlicher ÖVP und rechtsnationaler FPÖ löste das «ewige» österreichische Regierungsmodell einer grossen rot-schwarzen Koalition ab. Ebenfalls findet in der österreichischen «Schattenregierung» eine Umwälzung statt. In den Bundesländern sind drei der mächtigsten Landeschefs, gegen deren Willen sich in Wien faktisch kaum etwas durchsetzen liess, abgetreten. Und bei den Sozialpartnern – Wirtschaftskammer, Arbeiterkammer und Gewerkschaften – ist ein Generationenwechsel im Gang. Das biete wohl eine gute Gelegenheit, das «grosskoalitionäre, strukturkonservative Denken zu beenden und das neue Jahrtausend auch in Österreich willkommen zu heissen», meinte ein hiesiger Kommentator...Tatsächlich ist die Regierung von Kanzler Kurz mit einem gross inszenierten Versprechen der Veränderung angetreten. Derzeit findet allerdings eine Ausmarchung statt, ob sich davon auch etwas umsetzen lässt. Als Spielfeld dafür dient eine geplante Reform der Sozialversicherungen, vor allem des Krankenkassen- und Gesundheitswesens. Das ist in sich ein höchst komplexes Thema, über das selbst in der österreichischen Öffentlichkeit meist nur oberflächlich diskutiert wird, und die Bedeutung der Reform für die Zukunft Österreichs ist überschaubar. Aber sie hat sich zu einem ersten Lackmustest dafür ausgewachsen, ob sich die Regierung gegen die «Schattenregierung» durchsetzen kann. Im Wesentlichen soll nämlich der grosse Einfluss der Länder und Sozialpartner in den Krankenkassen zurückgedrängt werden. Kanzler Kurz selbst hat das Thema zu einer Grundsatzfrage hochstilisiert: Es gehe etwa um den Kampf gegen «Funktionäre und Privilegien, die es so in Österreich nicht braucht»...Das erste grosse Kräftemessen könnte jedoch zu einer Niederlage für die Regierung führen. Wie sich abzeichnet, dürfte eher an der Verpackung als an den zentralen Stellschrauben des Systems etwas geändert werden. Der Widerstand der Sozialpartner und der Länder erweist sich einfach als zu gross. Dabei sind es in den Ländern pikanterweise vor allem die Parteifreunde von Kurz aus der ÖVP, die der Regierung Paroli bieten...Die Episode verdeutlicht drei grundlegende Tendenzen, die die von Kanzler Kurz ausgerufene «Zeit für Neues» kennzeichnen. Zum Ersten zeigt sich, dass die eigentliche Opposition nicht im Parlament sitzt. Die grössten Widersacher sind die «Schwarzen» aus den eigenen Reihen – also jene ÖVP-Exponenten in den Ländern und in der Sozialpartnerschaft, die die von Kurz betriebene Umfärbung der ÖVP in eine «türkise» Bewegung nicht mitmachen wollen. Zum Zweiten wird deutlich, dass die Regierung ihre Energie vielerorts auf die falschen Themen konzentriert. Zwar ist eine Reform der Sozialversicherungen nicht verkehrt. Aber selbst wenn die Regierung ihre Vorstellungen vollständig umsetzen könnte, wäre kaum viel für die Effizienz des Gesundheitssystems gewonnen. Dafür brauchte es vor allem eine Entflechtung der verworrenen Zuständigkeiten von Bund und Ländern. Diese wäre Teil einer dringend nötigen, umfassenden Staatsreform, die die Regierung Kurz bis anhin nicht anzupacken wagt...Drittens wird deutlich, dass Kanzler Kurz bis jetzt stark von einer Inszenierung der Veränderung lebt. Stösst man in die Details der eingeleiteten Schritte vor, bleibt inhaltlich häufig wenig Substanz übrig. Das könnte sich rächen: Die Menschen werden früher oder später fragen, wo der versprochene Wandel wirklich bleibt...',\n",
              " 'Wir müssen uns auf weiteres Wachstum einstellenOb die Pandemie die Zuwanderung in die Schweiz und den Kanton Zürich bremst, ist alles andere als sicher. Es wäre falsch, deswegen die politische Agenda umzukrempeln...Von Stefan Hotz..Das Bonmot wird einer Reihe sehr unterschiedlicher Väter zugeschrieben: «Prognosen sind schwierig, besonders wenn sie die Zukunft betreffen.» Hinterher klingt das je nachdem tröstlich oder hämisch, wenn eine Entwicklung ganz anders verlief als zunächst erwartet. Es lässt sich daraus aber ebenso ableiten, das eigene Handeln besser nicht allzu sehr auf errechnete Vorhersagen abzustellen. Ein Beispiel bietet die jüngere Geschichte des öffentlichen Verkehrs in Zürich...Gegen Ende des letzten Jahrhunderts schwante den Verantwortlichen von Kanton und SBB, dass die 1990 nach einem Kraftakt eröffnete Zürcher S-Bahn nicht genügt. Der starke Anstieg der Fahrgäste und das nationale Projekt «Bahn 2000» liessen auf dem Schienennetz in Zürich bald neue Engpässe erwarten. Die Lösung ist bekannt: Gemeinsam gelang es, dem Bund die Zürcher Durchmesserlinie schmackhaft zu machen, die 2001 in der Volksabstimmung sagenhafte 82 Prozent Zustimmung erzielte. Diese Erfolgsgeschichte war der Auftakt zu einer generellen Angebotserweiterung des öV im ganzen Kanton Zürich, die im letzten Jahr ihren vorläufigen Abschluss fand...Nicht eingetroffene Szenarien..Vergessen ist heute, welche Wachstumsprognose der Entscheidung einst zugrunde lag. In einem Strategiepapier der Zürcher Regierung aus dem Jahr 1999 zum künftigen Verkehrsaufkommen liest man verwundert, die Bevölkerung werde sich insgesamt nur schwach entwickeln. Tatsächlich: Das statistische Amt erwartete damals für die Jahre 1995 bis 2010 im Kanton Zürich einen Anstieg der Einwohnerzahl um 3 Prozent – über den ganzen Zeitraum. Für die nächste Periode von 15 Jahren bis 2025 ging es – man glaubt es im Rückblick kaum – von einem Bevölkerungswachstum null aus. Wäre dieses Szenario eingetreten, würde der Kanton Zürich heute statt über 1,5 Millionen etwa 300 000 Bewohner weniger zählen...War der Ausbau des öV also ein Fehler? Sicher nicht, erinnert man sich an die in den Hauptverkehrszeiten überfüllten Züge, Trams und Busse ante Coronavirus. Die Pandemie ändert vorerst auch nichts daran, dass bis zum nächsten Ausbauschritt 2035 wieder Kapazitätsengpässe zu erwarten sind. Die Bevölkerungsprognose am Ende des letzten Jahrhunderts stand unter dem Eindruck der lang andauernden, hartnäckigen Rezession der neunziger Jahre. Ein Glück, haben die Verantwortlichen den pessimistischen Ausblick – ein Zentrumskanton, der kaum mehr wächst – nicht allzu stark gewichtet und ihre Bahnprojekte mutig vorangetrieben...Jetzt also die Corona-Krise. Selbstverständlich liegen noch keine belastbaren Zahlen zu einer möglichen Bevölkerungsentwicklung nach der Pandemie vor. Wir stecken unverändert mitten in der Krise, deren Ausgang ungewiss bleibt. Bis anhin sind in der Schweiz knapp 2000 Personen an Covid-19 gestorben. Sie fallen bei insgesamt rund 60 000 Todesfällen im Jahr – rein statistisch betrachtet natürlich – auf lange Frist nicht ins Gewicht. Hoffen wir, dass es dabei bleibt. Dass die Verhaltensregeln mit dem Gebot, Abstand zu wahren, zu einem spürbaren Rückgang der Geburtenrate führt, wäre sicher ein voreiliger Schluss...Am meisten Einfluss hat die Pandemie, wenn überhaupt, auf den wichtigsten Treiber der Bevölkerungsentwicklung: die Zuwanderung. Seit zwölf Jahren trägt sie bei einer insgesamt brummenden Wirtschaft hauptsächlich zu einem konstant hohen Wachstum in der Schweiz bei. Vor einem Monat veröffentlichte das Bundesamt für Statistik (BfS) seine neuste Prognose, die bis 2050 reicht. Nach dem mittleren von drei Szenarien steigt die Anzahl Einwohner in der Schweiz von heute 8,6 auf dannzumal rund 10,4 Millionen. Die Entwicklung in den Kantonen ist dabei sehr unterschiedlich. Während das BfS für das Tessin und Graubünden gar von einem Rückgang der Bevölkerung ausgeht, erwartet es nur in den Kantonen Genf, Aargau, Zug und Waadt ein höheres Wachstum als in Zürich. Hier würde bei einem Zuwachs um knapp 30 Prozent bis zur Mitte des Jahrhunderts die Anzahl der Bewohner auf etwa 2 Millionen steigen...Aber eben: Derzeit stellt die Pandemie so vieles grundlegend infrage. Welche Auswirkungen sie langfristig auf die Bevölkerungsentwicklung hat, ist indes ungewiss. Einen starken Einfluss übe in der Regel der Verlauf der Konjunktur aus, schreiben die Statistiker und schränken sogleich ein: Falls die Schweiz in der Lage sei, die wirtschaftlichen Folgen, welche die Bekämpfung des Coronavirus nach sich gezogen habe, besser zu begrenzen als andere, könne die Zuwanderung wie nach der letzten Wirtschaftskrise wieder rasch ansteigen. Gemeint ist die Fi.zkrise von 2008. Sie hat in der Wissenschaft Untersuchungen zu Auswirkungen auf die Migration ausgelöst über einen Zeitraum zurück bis zur Weltwirtschaftskrise der dreissiger Jahre. Sie ergaben jedoch keine eindeutigen Erkenntnisse. Generell gilt, dass eine weltweite Krise international das Gefälle zwischen armen und reichen Ländern erhöht, was wiederum ein Treiber für Wanderungsbewegungen ist...Die Ungewissheit über die künftige Bevölkerungsentwicklung betrifft auch die Diskussion über die Begrenzungsinitiative, über die im September abgestimmt wird. Für die Zuwanderung in den nächsten Jahren kommt es nicht nur darauf an, wie tief der erwartete wirtschaftliche Einbruch die Schweiz isoliert betrachtet ausfällt. Entscheidender ist, wie sich die Schweiz angesichts der Pandemie im Verhältnis zum europäischen Umfeld schlägt. Da besteht ein breiter Konsens, alles vorzukehren, um dabei gut abzuschneiden und die Unternehmen möglichst unbeschadet über die Krise zu retten...Aus dem gleichen Grund ist abgesehen von kurzfristigen Effekten auch eine Rückwanderung ansässiger Arbeitnehmer aus dem Ausland nicht zu erwarten. Ein Vorgehen wie nach dem Ölschock der siebziger Jahre, als die Schweiz eine drohende Massenarbeitslosigkeit vermeiden konnte, indem sie die soge.nten Gastarbeiter wieder nach Hause schickte, ist zu Recht nicht mehr möglich. Wer jahrelang hier arbeitete und Steuern zahlte, hat auch das Recht zu bleiben...Es ist durchaus ein ähnliches Szenario denkbar wie nach der Fi.zkrise vor gut zehn Jahren. Sie hinterliess im Bevölkerungswachstum der Schweiz nur eine kleine Delle, ehe sich der Anstieg verstärkt fortsetzte. Für den Wirtschaftskanton Zürich kommt dazu, dass er von jeher eine starke Zuwanderung aus der übrigen Schweiz aufwies. Das BfS erkennt keine Anzeichen, dass der Trend der letzten Jahre mit einem überdurchschnittlich starken Anstieg der Einwohnerzahl in den Grossräumen Zürich und der Region Genfersee ein Ende finden dürfte...Auf Wachstum vorbereitet sein..In einer Umfrage vor den kantonalen Wahlen 2019 bezeichnete eine klare Mehrheit das anhaltend hohe Wachstum im Raum Zürich und dessen Bewältigung als problematisch. Dennoch sollte man sich an die Vorstellung eines 2-Millionen-Kantons in etwa 30 Jahren gewöhnen, auch wenn das im Moment gerade etwas schwerfällt. Andernfalls läuft man Gefahr, den rechtzeitig nötigen Ausbau der Infrastruktur zu verpassen. So haben die Bildungsbehörden allzu lange die steigenden Schülerzahlen nicht wahrhaben wollen. An ihnen ändert die Corona-Krise wenig, denn die künftigen Schulkinder sind meist bereits geboren. Die Stadt Zürich kommt seit Jahren kaum nach mit der Bereitstellung von Schulraum. Der Kanton erstellt ganze Gymnasien zuerst als Provisorien und schiebt einen Nachholbedarf an Neubauten und Sanierungen vor sich her, der nun im Nachgang der Krise schwer zu fi.zieren ist...Die Corona-Pandemie ändert eben nicht alles, auch nicht in der Raumplanung. Deswegen verkehrt sich die Reurbanisierung kaum in eine neue Stadtflucht. Um der Zersiedelung entgegenzuwirken, ist das Baugebiet beschränkt, und das künftige Wachstum soll zu 80 Prozent in den städtischen Gebieten stattfinden. An diesem Prinzip braucht man nicht zu rütteln, es ist inzwischen weitgehend akzeptiert. Die anfängliche Befürchtung in ländlichen Gebieten, ihre Entwicklung werde abgewürgt, ist der Einschätzung gewichen, dass die Bevölkerung ohnehin keine Ausdehnung des Siedlungsgebiets ins Grüne mehr will. In den städtischen Gebieten blieb es bei vereinzelten untauglichen Versuchen, das Wachstum über die kommunale Bauordnung bremsen zu wollen...Auf Schiene und Strasse ist das Bevölkerungswachstum, das zeigte sich in den letzten Jahrzehnten, eben nur ein Faktor für den Anstieg des Verkehrsaufkommens. Wichtiger ist die individuelle Mobilität, welche Distanz wir im Durchschnitt täglich zurücklegen. Auch hier sind Infrastrukturprojekte nicht voreilig abzuschreiben. Aber man darf Lehren aus dem Lockdown ziehen, der drastisch vor Augen führte, wie sich mit Home-Office der Pendlerverkehr reduzieren lässt. Vor der Pandemie prägten oft genug Stau auf den Strassen und übervolle Trams und Züge das Bild. Aus dieser Erfahrung sollten wir im Verkehrsverhalten etwas ändern, statt einfach zur Normalität zurückzukehren...Man sollte sich an die Vorstellung eines 2-Millionen-Kantons in etwa 30 Jahren gewöhnen, auch wenn das im Moment gerade etwas schwerfällt....In Stadt und Kanton Zürich ist trotz der Pandemie mit einem anhaltenden Wachstum zu rechnen: der Prime Tower im Stadtkreis 5..Dominic Steinmann/ Keystone....',\n",
              " 'Immer älter – und deshalb immer teurer?Gastkommentar..von Friedrich Breyer..Die Bevölkerung in der Schweiz, in Deutschland und vielen anderen europäischen Ländern altert zusehends. Zum einen nimmt die Lebenserwartung jedes Jahrzehnt um 1,5 bis 2 Jahre zu, und zum anderen ist die Geburtenzahl viel tiefer, als es für eine stabile Altersstruktur nötig wäre. Es wird in Zukunft also mehr alte und weniger junge Menschen geben als heute. Da alte Menschen jedoch mehr Leistungen aus dem Gesundheits- und Pflegesystem benötigen als junge, kursiert seit einiger Zeit die Befürchtung, dass die Sozialversicherung in den nächsten Jahrzehnten unfi.zierbar werde...Aber stimmt es überhaupt, dass die Alterung der Bevölkerung ein Kostentreiber im Gesundheitswesen ist? Was auf den ersten Blick offensichtlich erscheint, ist in der Wissenschaft seit zwei Jahrzehnten heftig umstritten. Die Zusammenhänge sind nämlich kompliziert, denn ein Anstieg der Lebenserwartung hat mehrere empirisch gesicherte Effekte auf die Gesundheitsausgaben, sowohl steigernde als auch dämpfende...Um diese zu verstehen, lohnt es sich, eine Unterscheidung zwischen zwei Gruppen von Versicherten (bzw. zwei Lebensabschnitten) vorzunehmen, die auf den Zürcher Gesundheitsökonomen Peter Zweifel und sein Team zurückgeht, nämlich diejenigen, die sich in den letzten vier Jahren vor dem Tod befinden und «Sterbende» ge.nt werden, und allen übrigen, die «Überlebende» heissen. Die Ausgaben für die Behandlung von Sterbenden sind dabei im Mittel wesentlich höher als die von Überlebenden; so kostet das letzte Lebensjahr etwa zehnmal so viel wie ein durchschnittliches Jahr. Zudem ist der Effekt des Lebensalters in beiden Gruppen sehr unterschiedlich: Während die Ausgaben für Überlebende etwa vom 60. Lebensjahr an stark ansteigen, sind die Ausgaben für Sterbende dann am höchsten, wenn diese zwischen dem 50. und dem 70. Lebensjahr sterben, und sinken mit zunehmendem Alter, weil die Todesursachen verschieden sind. Ein Anstieg der Lebenserwartung erhöht daher die Gesamtausgaben für die Überlebenden und senkt die Ausgaben für die Sterbenden. Da auf die letzten vier Lebensjahre jedoch nur etwa 20 Prozent aller Gesundheitsausgaben entfallen, überwiegt der steigernde Effekt leicht...Neben diesem indirekten, über eine veränderte Altersstruktur wirkenden Effekt der Lebenserwartung auf die Gesundheitsausgaben gibt es jedoch noch einen direkten Effekt, der ebenfalls empirisch nachgewiesen wurde: Wenn die Lebenserwartung zunimmt, hat ein durchschnittlicher 80-Jähriger des Jahres 2040 im Mittel mehr Lebensjahre vor sich als ein 80-Jähriger des Jahres 2019, und er wird auch entsprechend gesünder sein. Wenn nun eine schwere Krankheit eintritt, die durch eine aufwendige oder riskante Operation behandelt werden könnte, so werden der Patient und sein Arzt Nutzen und Risiken der Therapie abwägen. Auf der Seite des Nutzens wird dabei auch eine Rolle spielen, wie lange der Patient voraussichtlich noch von den Früchten einer erfolgreichen Therapie profitieren wird, was ich den «Eubie-Blake-Effekt» ge.nt habe, weil der Jazzpianist Eubie Blake an seinem 96. Geburtstag gesagt hat: «Wenn ich gewusst hätte, wie alt ich werde, hätte ich mich mehr um meine Gesundheit gekümmert.» Bei den Risiken einer Operation ist der Allgemeinzustand des Patienten zu berücksichtigen. Beide Kriterien sprechen dafür, dass eine Entscheidung für die Therapie bei dem 80-Jährigen des Jahres 2040 eher getroffen wird als bei dem heutigen, so dass mit der Lebenserwartung auch die Gesundheitsausgaben steigen...Insgesamt wird mit der Alterung der Bevölkerung ein Anstieg der Pro-Kopf-Ausgaben in der Kranken- und Pflegeversicherung verbunden sein, der für sich genommen das System aber nicht zum Kollaps bringen wird. Hinzu kommen nun zwei weitere Entwicklungen, die seine Fi.zierbarkeit gefährden könnten. Da ist zum einen der Einfluss der Alterung auf die Einnahmen der Sozialversicherung. Da Rentner im Mittel ein geringeres Einkommen beziehen als Personen im Erwerbsalter, schwächt eine Alterung der Bevölkerung die Beitragsbasis, sofern die Beiträge als Prozentsatz des Einkommens erhoben werden wie in Deutschland, und die Beitragssätze steigen. In der Schweiz, wo pro Kopf einheitliche Kassenbeiträge erhoben werden, tritt dieser Effekt zwar nicht auf; allerdings werden die Ausgaben für die Prämienverbilligung steigen, wenn der Rentneranteil zunimmt...Die zweite, weit grössere Herausforderung ist der medizinische Fortschritt, der immer neue und meist teure Innovationen wie die personalisierte Krebstherapie offeriert und schon in der Vergangenheit bewirkt hat, dass die Ausgaben im Gesundheitswesen schneller steigen als das Volkseinkommen. Auf die Dauer wird die Gesellschaft daher um die schwierige Entscheidung nicht herumkommen, wie viel ihr die Gesundheit wert ist....Friedrich Breyer ist Professor für Wirtschafts- und Sozialpolitik an der Universität Konstanz....',\n",
              " 'Die polnische Rechte bekämpft die kommunistische Vergangenheit, baut aber auf deren DenkstrukturenGastkommentar..von Reinhold Vetter..Ohne Zweifel ist Polen heute ein ganz anderes Land als vor dem Systemwechsel des Jahres 1989. Es gilt die Verfassung von 1997, die weitgehend westlichen Vorbildern nachempfunden ist. Anders als in sozialistischen Zeiten fanden nach 1989 wiederholt freie Wahlen statt. Politische Parteien konkurrieren mitei.der. Zwar mehren sich die Zensurversuche, aber noch können unabhängige Medien wirken. Es gibt keine politischen Häftlinge, keinen Schiessbefehl gegen oppositionelle Demonstranten. Die Ökonomie des Landes basiert auf einem marktwirtschaftlichen Ordnungsrahmen...Kaczynskis Machtfülle..Doch seit dem Machtantritt der nationalkonservativen Partei Recht und Gerechtigkeit (PiS) von Jaroslaw Kaczynski im Jahr 2015 mehren sich auch die Kommentare von Historikern, Juristen, Publizisten und Kulturschaffenden, in denen strukturelle, rechtliche, politische und kulturelle Verbindungslinien zwischen den Verhältnissen in der Volksrepublik vor 1989 und der Machtausübung der PiS gezogen werden. Diese Partei, so heisst es, die sich doch so antikommunistisch gebe und die damalige Volksrepublik als «nicht polnisch» verurteile, baue Schritt für Schritt ein System auf, das fatal an die sozialistischen Zeiten erinnere...Die drastische Art und Weise, in der die PiS auf staatliche und öffentliche Institutionen zugreift, gleicht jener «führenden Rolle» der kommunistischen Polnischen Vereinigten Arbeiterpartei (PVAP) in der damaligen Volksrepublik. Besonders die Machtfülle des PiS-Vorsitzenden Jaroslaw Kaczynski, welcher personelle und inhaltliche Entscheidungen der Regierung vorgibt, ist nicht verfassungsrechtlich abgesichert...Disponible Richter..Mit dem Gesetz über die Struktur der allgemeinen Gerichtsbarkeit, das von der PiS auf den Weg gebracht wurde und das dem Justizminister umfangreiche Vollmachten bei der Berufung und Absetzung von Gerichtspräsidenten landesweit einräumt, hat die Partei einen wichtigen Schritt gemacht hin zur Schaffung einer Kaste «disponibler Richter», wie sie der ehemalige Präsident des Verfassungsgerichts, Andrzej Rzeplinski, in seinen wissenschaftlichen Publikationen über die damalige Volksrepublik beschrieben hat...Dem entsprechen die neuen rechtlichen Regelungen für den Landesgerichtsrat, die dieses Gremium in seiner wichtigsten Funktion, die Unabhängigkeit der Richterschaft zu schützen, stark behindern. Die von der PiS durchgesetzten neuen Gesetzesvorschriften für die Tätigkeit des Obersten Gerichtshofs, die es dieser höchsten Instanz der polnischen Gerichtsbarkeit massiv erschweren, ihrer Aufgabe als Berufungsgericht in erster und zweiter Instanz gerecht zu werden, entsprechen fast deckungsgleich denen in sozialistischen Zeiten, die dieses Gericht «in ein Instrument der bedarfs- und erwartungsgemässen Einwirkung der Gerichte durch die Partei sowie die Regierung» (Rzeplinski) verwandelten...Gesetze ohne Debatte..Anders als in sozialistischen Zeiten, in denen Sitzungen des Sejm fast durchgängig eine von der PVAP orchestrierte Veranstaltung waren, gab und gibt es auch nach dem Wahlsieg der PiS noch politische Ausei.dersetzungen und dementsprechend kontroverse Debatten in Sejm und Senat bzw. in deren Ausschüssen...Doch unter dem Druck der PiS-Mehrheit nähert man sich zielstrebig dem sozialistischen «Parlamentarismus» früherer Zeiten an. «Die Rolle des Sejm wurde auf die automatische Annahme von Gesetzen reduziert», betonte der Historiker Andrzej Friszke. Tatsächlich wurden wiederholt in nächtlichen Sitzungen ohne vorherige Anhörung von Experten und ohne Debatte Gesetze von der PiS-Mehrheit durchgepeitscht...Abendliche Regierungspropaganda..Gefragt, ob er die abendliche Hauptnachrichtensendung des öffentlichrechtlichen Fernsehsenders TVP verfolge, antwortet der ehemalige Präsident des Obersten Gerichts, Adam Strzembosz, in seiner als Interview angelegten Autobiografie mit dem Titel «Zwischen Recht und Gerechtigkeit»: «Es hat keinen Sinn, diesen miserablen Propagandisten zu viel Zeit zu schenken. Ich habe diese Erfahrung schon während der ganzen Volksrepublik gemacht und weiss daher, dass man auf Propaganda nicht hören soll, weil diese den Menschen zu Hass erzieht.»..In der Tat hat sich diese Sendung, vergleichbar den Umständen in sozialistischen Zeiten, zu einer völlig undifferenzierten und unkritischen Verlautbarungsinstanz der Regierung entwickelt. Der Historiker Andrzej Friszke erklärte, die simplifizierende Sprache in den TVP-Sendungen, die auch öffentliche Ansprachen von PiS-Funktionären kennzeichne, erinnere ihn an die Auftritte des früheren Ersten Sekretärs der PVAP, Wladyslaw Gomulka, in den sechziger Jahren...Schwarz-Weiss-Geschichtsbild..Geht es um Geschichtspolitik bzw. historische Erinnerung, dann ähnelt auch da das gegenwärtige Auftreten der PiS dem Verhalten der PVAP in sozialistischen Zeiten. Mögen die Inhalte und Zielsetzungen heute anders sein als während der Volksrepublik, so sind die Methoden die gleichen wie damals. Vermittelte die PVAP ein Schwarz-Weiss-Geschichtsbild mit bestimmten martyrologischen Nuancen, so tut dies auch die Partei Kaczynskis, nur eben mit anderen Martyrologien. Glaubt man der PiS, dann gab es in der polnischen Geschichte hauptsächlich Helden und Verräter...Bestimmte historische Ereignisse, die ins Weltbild der PiS passen, werden stark überhöht bzw. überschätzt, andere kleingeredet oder ganz verschwiegen. Es fehlen die Zwischentöne, die eben auch zu einem verantwortungsbewussten Umgang mit der Geschichte gehören...Wunsch nach Obrigkeit..Das Bestreben der PiS, einen starken Staat mit autoritären Zügen zu schaffen, entspricht dem Verlangen eines Teils der polnischen Gesellschaft nach einem Obrigkeitsstaat mit sozialstaatlicher Komponente. Mindestens ein Drittel der Polen, so der Historiker Andrzej Friszke, akzeptiere autoritäre Regierungsformen, die ja auch von der katholischen Kirche unterstützt würden...Diese Menschen verlangten vom Staat, dass er sie schütze, besonders in von ihnen als bedrohlich empfundenen extremen Situationen – etwa angesichts der Flüchtlingskrise. Auch das erinnert an sozialistische Zeiten, insbesondere an die siebziger Jahre, als Edward Gierek an der Spitze der PVAP stand....Reinhold Vetter lebt als Publizist in Berlin und Warschau. Diesen Frühling ist im Berliner Wissenschaftsverlag erschienen: «Polens diensteifriger General: Späte Einsichten des Kommunisten Wojciech Jaruzelski»....Glaubt man der PiS, dann gab es in der Geschichte hauptsächlich Helden und Verräter...',\n",
              " 'Neue Chancen in den USA...Die Demokraten haben bei den Zwischenwahlen in den USA eine knappe Mehrheit im Repräsentantenhaus errungen und damit die umfassende Kontrolle der Republikaner über Präsidentschaft und beide Kammern des Kongresses gebrochen. Das Land erhält wieder ein «divided government» wie während der letzten sechs Jahre von Präsident Obama. Diese Zeit ist in Erinnerung geblieben als Periode legislativen Stillstands, bei der die beiden Parteien die parlamentarische Arbeit gegenseitig blockierten und Lösungen für wichtige Probleme auf die lange Bank schoben. Gleichzeitig nahm die Polarisierung laufend zu. Muss nun für die nächsten zwei Jahre wieder mit einer ähnlichen Situation gerechnet werden?..Die Kontrolle der Demokraten über das Repräsentantenhaus hat nicht nur negative Folgen. Aus staatspolitischer Sicht ist sie zu begrüssen. Sie führt dazu, dass die viel gerühmten Checks and Balances zwischen dem Weissen Haus und dem Kongress wieder voll wirksam werden können. Ein Kongress, der von der Partei des Präsidenten kontrolliert wird, wird diesen nach Möglichkeit schützen...Gerade bei Präsident Trump, der für seine Geringschätzung geltender Normen bekannt ist, ist eine solide Aufsicht über die Präsidentschaft durch den Kongress wünschenswert. Zwar haben in den letzten zwei Jahren verschiedene republikanisch dominierte Kongressausschüsse Trumps Regierungstätigkeit und Vergangenheit untersucht, doch sind sie meist eine stumpfe Waffe geblieben. Im neuen Repräsentantenhaus werden die Demokraten die Kontrolle über alle Ausschüsse übernehmen. Dies bedeutet, dass sie Untersuchungen auf die Agenda setzen, Dokumente einfordern und Zeugen vorladen können. Im Falle von Fehlverhalten des Präsidenten wäre das Repräsentantenhaus eine mächtige Stimme, die – anders als die von Trump häufig angegriffenen Medien – für sich in Anspruch nehmen kann, eine Mehrheit der Wähler zu repräsentieren...Der Gesetzgebungsprozess dürfte durch die neue Konstellation weiter erschwert werden. Dies muss aber nicht notwendigerweise zu einer Blockade führen. Präsident Trump stehen grundsätzlich zwei Wege offen. Im ersten Fall besinnt er sich auf seine von ihm selbst vielgerühmten Fähigkeiten als «Dealmaker» und versucht, mit dem Repräsentantenhaus Kompromisse zu schliessen und auf diese Weise die Gesetzgebung in Gang zu halten. Die Chancen, dass dies gelingen könnte, sind durchaus intakt. Auch die Demokraten werden im Hinblick auf die nächste Präsidentenwahl ein Interesse haben, der Nation zu zeigen, dass sie nicht nur Obstruktion betreiben können, sondern auch konstruktiv für das Wohl der Amerikaner arbeiten. Bei gewissen Themen, etwa bei einer Steuerreform für die Mittelklasse, ist eine gemeinsame Lösung durchaus denkbar...Die Alternative wäre der Versuch Trumps, mit seiner gefürchteten aggressiven Rhetorik direkt beim amerikanischen Volk gegen die Demokraten Stimmung zu machen. Er könnte damit demokratische Abgeordnete, die stark von den Stimmen von Wechselwählern abhängen, unter Druck setzen und so die Einheitsfront der Demokraten im Repräsentantenhaus brechen. Für eine konstruktive amerikanische Politik ist dies nicht wünschenswert. Es würde bedeuten, dass die gegenwärtige Polarisierung noch weiter zunimmt, mit allen negativen Folgen für die Institutionen. Letztlich wird es aber in erster Linie von Präsident Trump abhängen, wie die Regierungszusammenarbeit zwischen den beiden Parteien funktionieren wird. Trotz dem Machtwechsel im Repräsentantenhaus bleibt er am längeren Hebel...',\n",
              " 'Die Nachlassplanung «entstauben»...Michael Ferber..In angelsächsischen Ländern ist der Trust weit verbreitet. Das Rechtsinstrument wird unter anderem in der Nachlassplanung verwendet. Bei einem Trust werden Vermögenswerte von einem Treugeber auf einen Verwalter (Trustee) übertragen. Dieser verwaltet das Vermögen für Begünstigte. Auch in der Schweiz sind Trusts seit dem Jahr 2007 nach dem Haager Trust-Abkommen anerkannt und werden von Kunden nachgefragt. Dabei handelt es sich aber um Trusts, die auf ausländischer Gesetzgebung beruhen\\xa0– einen Schweizer Trust gibt es bis jetzt nicht. Das Parlament hat nun den Bundesrat angewiesen, eine Gesetzesgrundlage für die Einführung von Trusts in das Schweizer Recht auszuarbeiten. Es gibt einige Argumente für die Schaffung von Schweizer Trusts. Allerdings könnte die Einführung kompliziert und langwierig werden, und es gilt die rechtliche Situation genau abzuklären. Alternativ sollte eine Weiterentwicklung der Schweizer Familienstiftung geprüft werden...Befürworter argumentieren, die Einführung eines Schweizer Trusts würde vermögenden Personen eine weitere Möglichkeit bei der Planung des Nachlasses oder der Unternehmensnachfolge eröffnen. Dass es in der Schweiz schon viele Berührungspunkte bezüglich Trusts gibt und dass diese eine wirtschaftliche Realität sind, ist ein weiteres Argument für die Schaffung eines Schweizer Trusts. Derzeit müssen Kunden, die das Instrument anwenden wollen, auf ausländische Gesetzgebungen ausweichen\\xa0– einheimische Trusts brächten wohl mehr Transparenz und könnten besser überwacht werden. Zudem könnte die Einführung von Schweizer Trusts Akteuren am Schweizer Fi.zplatz ein Geschäft verschaffen. Da die Schweiz nicht selber heimische Regeln im Umgang mit Trusts erlassen könne, entgehe ihr hohe Wertschöpfung und es gebe eine Rechtslücke, heisst es in einem Argumentarium des Verbands Swiss Association of Trust Companies. Aufgrund dessen werde der Schweizer Fi.zplatz auch oft mit Common-Law-Jurisdiktionen unvorteilhaft in Verbindung gebracht...Es gibt also durchaus Argumente für einen Schweizer Trust. Allerdings dürfte dessen Einführung alles andere als einfach sein\\xa0– und es stellt sich die Frage, wie ein solcher Schweizer Trust auszugestalten wäre. Letztlich handelt es sich dabei nämlich um ein Rechtsinstrument aus dem angelsächsischen Common Law, das nicht einfach in das römischrechtlich geprägte Schweizer Zivilrecht passt. So stützt sich das Trust-Recht eher auf die Rechtsprechung und weniger auf Gesetze...Die Schaffung eines Schweizer Gefässes für die Nachlassplanung ist laut Fachleuten aber durchaus wünschenswert. Dafür sollte auch die Weiterentwicklung der bestehenden Schweizer Familienstiftung in Betracht gezogen werden. Diese ist bisher nur für gewisse Zwecke zugelassen\\xa0– wie es in Artikel 335 des Schweizerischen Zivilgesetzbuchs heisst, zählen dazu «die Bestreitung der Kosten der Erziehung, Ausstattung oder Unterstützung von Familie.gehörigen». Laut Dominique Jakob, dem Leiter des Zentrums für Stiftungsrecht an der Universität Zürich, kommt dies daher, dass der Gesetzgeber früher neofeudale Strukturen verhindern und dem Müssiggang nachfolgender Generationen vorbeugen wollte. Problematisch und überholt wirkt in diesem Zusammenhang heute die strenge Rechtsprechung des Bundesgerichts in Bezug auf die Familienstiftung. Neben der Prüfung der Einführung eines Schweizer Trusts wäre es also ebenfalls sinnvoll, die bereits vorhandenen Rechtsinstrumente wie die Familienstiftung von Zwängen zu «entstauben»...',\n",
              " 'Wer kümmert sich, wenn die «Kümmerer» fehlen?Gastkommentar von Daniel Dettling..Deutschland gehen die Kümmerer aus. Der demografische Wandel führt zu einer doppelten Herausforderung. Mehr Kinder werden geboren, und mehr Ältere müssen versorgt und gepflegt werden. Die Folge: Fachkräfte im Sozial- und Gesundheitswesen werden dringend gesucht. In den nächsten Jahren fehlen in den Kitas, Schulen und Pflegeheimen Hunderttausende Erzieher, Lehrer und Pfleger. 50 000 sind es im Pflegebereich, 300 000 in den Kitas und 35 000 allein in den Grundschulen...Mit einer Kombination aus fi.ziellen Anreizen und der Anwerbung von ausländischen Fachkräften versucht die Bundesregierung aus Union und SPD den Personalnotstand in den Griff zu bekommen. Ihre Massnahmen sind notwendig, aber nicht hinreichend. Es fehlt eine umfassende Fachkräftestrategie, die früher ansetzt und die Betroffenen auch jenseits von fi.ziellen Anreizen überzeugt...Nachfrage nach sinnvollen Jobs..Der amerikanische Bestsellerautor David Graeber, der an der London School of Economics and Political Science lehrt, stellt in seinem neuen Buch eine provokante These auf: Rund jede zweite Arbeitsverrichtung sei ein «Bullshit-Job» – ein Job, der nicht vermisst wird, wenn er wegfällt. Zu den «vermissten Jobs» gehören vor allem jene Berufe, die nicht die Anerkennung bekommen, die sie verdienen. Jobs, die auch im Zeitalter der Maschinen und der künstlichen Intelligenz nachgefragt werden. Denn je stärker die Automatisierung voranschreite, desto bedeutender werde der Fürsorgecharakter von Arbeit, so Graeber. Die Jobs am Menschen werden bis jetzt schlecht bezahlt, sind körperlich und seelisch anstrengend und sozial nicht besonders gut angesehen. So wie die rund fünf Millionen Beschäftigten in den sozialen Berufen in Deutschland. 80 Prozent von ihnen sind Frauen...Der gesellschaftliche Wertewandel führt zu einer Nachfrage nach sinnvollen Jobs, die nicht vermisst werden können. Die Generationen Y und Z wollen anders leben und arbeiten. In Befragungen antworten sie auf die Frage nach ihren wichtigsten Lebenszielen: einen sinnvollen Job neben Unabhängigkeit und Spass, das eigene Leben zu geniessen. Die Jahrgänge 1980 bis 2000 legen mehr Wert auf Freizeit und Zeit für Familie und Freunde. Sie wissen, was Stress, Zeitnot und Burnout aus ihren Eltern gemacht haben. Und sie können sich auf einem leergefegten Arbeitsmarkt ihren Arbeitgeber aussuchen...Nicht die Arbeitnehmer, die Arbeitgeber müssen sich künftig um die jungen Talente und Köpfe bewerben. Wer die künftigen «Kümmerer» für Kindergärten, Grundschulen und Pflege gewinnen will, wird sich etwas einfallen lassen müssen. Der Dienst am Menschen muss aufgewertet werden – mit mehr Geld, attraktiven Arbeitsbedingungen und einem besseren Image. Höhere Löhne allein werden den Notstand in den Pflegeheimen, Kitas und Schulen nicht beheben, solange sonst alles beim Alten bleibt...Die Pläne des neuen, von Bundesgesundheitsminister Jens Spahn erstmals eingesetzten Pflegebeauftragten geben dabei die Richtung auch für die Berufe der Erzieher und Lehrer vor. Zu den Punkten einer «guten und verlässlichen Pflege» gehören Prämien für Rückkehrer, die Vollzeit arbeiten, und für Teilzeitkräfte. Zudem werden die Kosten für die Ausbildung künftig entfallen. Neben mehr Geld geht es auch um mehr Zeit. Kaum eine Pflegekraft, ein Erzieher(-in) oder Lehrer(-in) will Vollzeit arbeiten. In einigen Bundesländern beträgt die durchschnittliche Verweildauer im Pflegeberuf gerade einmal acht Jahre. Ein bundesweites Flächenmodell, nach dem alle Fachkräfte den vollen Lohn erhalten, obwohl sie nur 80 Prozent arbeiten, wäre eine Zäsur in der deutschen Arbeitspolitik. Der Verteilungsbegriff bezieht sich nicht mehr nur auf höhere Gehälter, sondern auch auf mehr Zeit. Der neue Weg heisst «kurze Vollzeit». Vollzeit arbeitet dann auch, wer weniger als die volle Stundenzahl tätig ist...Ändern muss sich auch die Ausbildung selbst. Sie ist zu starr, zu lang und bietet zu wenig Aufstiegsmöglichkeiten. Jedes Bundesland verteidigt seine eigene Ausbildungsordnung und lehnt einheitliche Standards ab...Digitale Kreidezeit..Mit der Politik müssen sich auch die Arbeitgeber ändern. Neben mehr Geld und neuen Arbeitszeitmodellen geht es vor allem um einen Imagewandel. Wohlfahrtsverbände wie Caritas und Diakonie gehören zwar zu den grössten Arbeitgebern in Deutschland, ihre Attraktivität als Arbeitgeber ist jedoch offensichtlich gering. Kaum eine Rolle spielen in der Ausbildung und Qualifizierung der Erzieher, Lehrer und Pfleger bis jetzt die Zukunftstechnologien Digitalisierung und künstliche Intelligenz. Während der Rest der Wirtschaft zur digitalen Offensive bläst, befinden sich die deutschen Kitas, Grundschulen und Pflegeeinrichtungen in der digitalen Kreidezeit...Dabei ist das digitale Potenzial gross. Roboter und künstliche Assistenzsysteme geben Pflegekräften und Ärzten mehr Zeit für ihre eigentliche Aufgabe: sich um Menschen und Patienten zu kümmern. Gemäss Umfragen und Studien sind beide, Pflegekräfte und zu Pflegende, von den Chancen der neuen Technologien stärker überzeugt als der Rest der Bevölkerung. Telemedizin und Monitoring-Apps werden von den Betroffenen akzeptiert und zunehmend praktiziert...Wo die Älteren möglichst lange selbstbestimmt in den eigenen vier Wänden wohnen wollen, wollen Kinder modern betreut und unterrichtet werden. In Kitas und Schulen werden die digitalen Möglichkeiten jedoch ebenfalls kaum genutzt. Roboter bei der Sprachförderung und individuelles Lernen, unterstützt von Apps und neuen Medien, stossen in Deutschland zu schnell auf Vorbehalte und Vorurteile. In deutschen Universitätsstädten laufen die Eltern gegen den Einsatz digitaler Medien sogar Sturm. Lieber gewöhnt sich das Bildungsbürgertum an Ergebnisse wie Iglu und Pisa, die dem deutschen Bildungswesen seit Jahren ein katastrophales Zeugnis ausstellen...Um den Notstand bei den sozialen Berufen zu beheben, wird in Deutschland derzeit auch die Einführung einer «allgemeinen Dienstpflicht» bzw. eines «verpflichtenden Gesellschaftsjahres» für junge Männer und Frauen diskutiert. Von den 700 000 jungen Erwachsenen in Deutschland sind bereits 100 000 in sozialen Diensten und bei der Bundeswehr freiwillig tätig. Gegen die Einführung eines Zwangsdienstes sprechen jedoch Verfassungsgründe und die Europäische Menschenrechtskonvention. Auch die deutsche Wirtschaft, die Verteidigungsministerin und selbst die Wohlfahrtsverbände sprechen sich gegen eine Dienstpflicht aus...Jenseits von Pflichtdienst und Freiwilligkeit gibt es noch einen dritten Weg. Junge Menschen wissen meist nicht, was sie später genau machen wollen. Daher wählen sie oft den vermeintlich leichtesten Weg und wählen eine Ausbildung oder ein Studium, das ihr Umfeld kennt und schätzt. Soziale Berufe sind in den Peer Groups der Jugend «out». Es gibt in den sozialen Netzwerken keine «Influencer», die einen Erzieher- oder Pflegeberuf haben. Die Lebensphase zwischen 12 und 16 Jahren ist aber entscheidend für die Berufsorientierung. Der Sozial- und Gesundheitsbereich hat in dieser Altersgruppe eine der geringsten Engagementquoten...Lust auf Dienst am Menschen..Das liegt nicht an den Jugendlichen, sondern an einem Mangel an Gelegenheiten und Sinn. Bund und Länder sollten eine Initiative starten mit dem Namen «Care first!» Jeder Jugendliche macht während der Schulzeit ein soziales Praktikum in einer Kita, einer Schule oder einem Pflegeheim. Vorbild könnte eine Initiative sein, die vor zehn Jahren im deutschen Schulwesen nach amerikanischem Vorbild begann: «Teach first!»..Die Idee ist auch auf Pflegeheime und Kitas anwendbar: Hochschulabsolventen werden für zwei Jahre bezahlt und sind an Schulen in sozialen Brennpunkten tätig, um dort gezielt lernschwache Kinder zu stärken und zu fördern. Was früher der Wehr- und Zivildienst war, ist in Zukunft ein flexibler «Dienst am Menschen». Bevor man eine Ausbildung oder ein Studium beginnt, kümmert man sich freiwillig und ordentlich bezahlt für einige Monate um bedürftige Menschen...Kommende Generationen sind für eine Tätigkeit im Pflege-, Erzieher- und Schulbereich zu gewinnen, wenn sie darin für sich einen Sinn erkennen. Es geht in Zukunft nicht nur um Pflege und die Fürsorge für andere, es geht auch um Selbstfürsorge und Selbstwirksamkeit. Irgendwas mit Medien, Menschen und Maschinen? Die sozialen Berufe könnten eine sinnvolle Antwort darauf geben. «Bullshit-Jobs» sind sie nicht....Daniel Dettling ist Zukunftsforscher und Gründer des Instituts für Zukunftspolitik. Zuletzt erschienen: «Wie wollen wir in Zukunft leben? Eine Agenda für die Neo-Republik» (2014)....Neben mehr Geld und neuen Arbeitszeitmodellen geht es in sozialen Berufen vor allem um einen Imagewandel...',\n",
              " 'Neue Flexibilität der SelbstverteidigungGastkommentar \\xa0von Oliver Thränert..Oliver Thränert..Das Ende des INF-Vertrages markiert eine Zäsur für die europäische Sicherheit. Die USA und Russland hatten im Zuge dieses Abkommens eigentlich für immer auf bodengestützte Mittelstreckenwaffen im Reichweitenband zwischen 500 und 5500 Kilometern verzichtet. Doch Moskau hielt sich nicht an die Vereinbarung und stationierte nuklearfähige Marschflugkörper vom Typ SSC-8, die weiter als 500 Kilometer \\xadfliegen können...Noch ist nicht absehbar, wie viele dieser Waffen Russland wo aufzustellen gedenkt. In jedem Fall basiert Rüstungskontrolle indes auf dem Kerngedanken der gemeinsamen Sicherheit. Diese Grundlage hat Russland mit seinem Vertragsverstoss missachtet. Die amerikanische Kündigung des INF-Vertrages ist insofern konsequent. Doch folgt daraus für die USA oder die Nato keineswegs die Notwendigkeit, selbst zusätzliche Atomwaffen in Europa zu stationieren, die der INF-Vertrag verbot...Mögliche grosse Belastungsprobe..Eine erneute nukleare «Nachrüstung» könnte zu schweren politischen Verwerfungen innerhalb wichtiger europäischer Staaten sowie zwischen ihnen führen. Besonders in Deutschland, sicherlich ein potenzielles Stationierungsland, wäre mit massivem Widerstand zu rechnen. Während auch andere westeuropäische Staaten die Stationierung zusätzlicher Kernwaffen kritisch sähen, würden osteuropäische Nato-Mitglieder, vor allem Polen, eine Stationierung von US-Atomwaffen auf ihrem Territorium begrüssen. Die Allianz wäre einer grossen Belastungsprobe ausgesetzt. Genau in diese Falle möchte Moskau die Nato locken. Sie sollte nicht hineintappen...Doch welche militärstrategischen Probleme stellen sich mit dem Ende des INF-Vertrages?..Zunächst gilt es sich zu vergegenwärtigen: Russland ist nicht die Sowjetunion. Heutzutage kann Moskau ungeachtet der Fortschritte bei seiner Militärreform nicht mehr, wie noch während des Kalten Krieges, mit einer umfassenden Invasion drohen. Russland ist vielmehr eine regionale Herausforderung für die Flanken der Nato, etwa das Baltikum...Zu beachten ist allerdings, dass der Stellenwert von Kernwaffen in der russischen militärischen Planung massiv gewachsen ist. Seit Jahren stationiert Moskau konventionell oder nuklear beladbare Iskander-Raketen in seinen westlichen Militärbezirken, darunter auch im Gebiet Kaliningrad. Zur See werden Kalibr-Marschflugkörper ebenfalls für konventionelle oder nukleare Einsätze bereitgehalten. Hinzu kommt die gegen den INF-Vertrag verstossende SSC-8, mit der Russland in der Lage ist, wichtige Kommunikations- und andere kritische Infrastrukturen bis weit hinein nach Westeuropa während einer Krise unter nukleare Drohung zu stellen...Damit verfügt Russland über eine zahlenmässige Überlegenheit bei nichtstrategischen Kernwaffen. Im Westen wird von vielen befürchtet, Moskau könnte das Baltikum in einem Fait accompli besetzen. Es könnte dann die Nato mittels der Drohung einer nuklearen Eskalation daran zu hindern versuchen, die russische Aggression im Zuge konventioneller Gege.griffe rückgängig zu machen. Sollte dieses Szenario eintreten, hätte sich die Allianz als Papiertiger erwiesen...Auch wenn diese Überlegungen als eher unwahrscheinlich eingeschätzt werden mögen: Die Allianz muss auf entsprechende Szenarien vorbereitet sein. Wichtig war in diesem Zusammenhang die bereits erfolgte Bereitstellung von vier multinationalen Kampfgruppen in den baltischen Ländern sowie in Polen. Zudem gilt es die Einsatzbereitschaft der Very High Readiness Joint Task Force (VJTF), einer multinationalen, schnell verlegbaren Truppe, weiter zu verbessern. Ferner müssen die Nato-Staaten dafür sorgen, dass die von ihnen im Juni 2018 beschlossene Nato Readiness Initiative wie geplant umgesetzt wird. Demnach sollen die Nato-Staaten in der Lage sein, innerhalb von 30 Tagen 30 Heeresbataillone, 30 Fliegerstaffeln und 30 Kampfschiffe einsatzbereit zu machen. All dies stärkt die konventionelle Abschreckung der Nato und beeinflusst Moskaus Risikokalkül. Ein Überraschungsangriff soll möglichst ausgeschlossen bleiben...Darüber hinaus gilt es, im russischen Hinterland für die Kriegführung wichtige Ziele unter Drohung stellen zu können. Dafür sind jedoch keine neuen Kernwaffen erforderlich. Vielmehr könnten konventionell bestückte Marschflugkörper in Europa stationiert werden. Umgekehrt könnte die Nato mehr tun, um wichtige Knotenpunkte wie Kommandozentralen, Flughäfen und Häfen besser gegen russische Raketen und Marschflugkörper zu schützen. In der Allianz regen sich erste Befürworter einer gestärkten erweiterten Luftverteidigung oder Raketenabwehr zum Schutz vor Moskau...Ferner ist auf amerikanischer Seite die Stationierung einer kleinen Anzahl von Atomwaffen mit flexibler, möglichst geringer Sprengkraft auf Schiffen oder U-Booten angedacht. Auch sollen neue seegestützte Marschflugkörper beschafft werden. Ziel ist es, Russland mit begrenzten Nuklearschlägen drohen zu können. Kritiker befürchten, dadurch würde ein Atomkrieg führbarer und damit wahrscheinlicher. Dem kann entgegengehalten werden, dass flexible Nuklearoptionen die Abschreckung stärken, da Russland mit ihrem Einsatz rechnen müsste, gerade weil dies nicht mit einem allumfassenden Nuklearkrieg gleichzusetzen wäre...Gefragt: Zusammenhalt..Schliesslich gilt es die bewährte Praxis der nuklearen Teilhabe innerhalb der Nato beizubehalten und dafür erforderliche Systeme zu erneuern. Derzeit werden die in Belgien, den Niederlanden, Deutschland, Italien und der Türkei stationierten amerikanischen nuklearen Freifallbomben vom Typ B-61 modernisiert. Wichtig ist darüber hinaus die bereits zum grossen Teil geplante Beschaffung moderner Kampfflugzeuge seitens der erwähnten europäischen Nato-Partner (die Türkei spielt hier eine Sonderrolle), um die nukleare Teilhabe zukunftssicher zu machen. Dies ist nicht mit einer Stationierung neuer Kernwaffen zu verwechseln und erfolgt unabhängig vom INF-Vertrag, da die entsprechenden Systeme nicht von ihm erfasst werden. Die nukleare Teilhabe dient dazu, die amerikanische und die europäische Sicherheit auch nuklear mitei.der zu verbinden und die entsprechende Lastenteilung im Bündnis sicherzustellen. Ihre Preisgabe würde Moskau wichtige Räume eröffnen, um – was es schon lange anstrebt – den transatlantischen Verbund zu schwächen...Bisher hat die Nato in der Krise rund um den INF-Vertrag bemerkenswert gut zusammengehalten. Dies sollte auch in Zukunft das übergeordnete Ziel bleiben. Eine Stationierung neuer US-Atomwaffen in Europa könnte dieses Ansinnen unterlaufen....Oliver Thränert leitet den Think-Tank am Center for Security Studies der ETH Zürich und ist Non-Resident Senior Fellow der Stiftung Wissenschaft und Politik in Berlin....Eine erneute nukleare «Nachrüstung» könnte in Europa zu schweren politischen Verwerfungen führen...',\n",
              " 'Italien: Ein guter Job ist Luxus 5/5...Seit dem Mittelalter werden im italienischen Prato Textilien hergestellt. Die Industrie verschmähte auch Lumpen nicht: Gebrauchte Kleider und textiles Packmaterial wurden dort aufbereitet und gingen, zu Garn oder Stoff verarbeitet, wieder in die Welt hinaus. Ateliers in Prato produzierten auch für die grossen Modelabels – Arbeit, die schnell und zu konkurrenzfähigen Preisen geleistet werden musste. So begann man, sie in den 1990er Jahren an oft illegal tätige chinesische Subunternehmer abzugeben, die sich vor Ort niedergelassen hatten. Viele dieser Produktionsstätten haben sich inzwischen selbständig gemacht; wegen der dort herrschenden Arbeitsbedingungen sind sie ebenso in Verruf geraten wie wegen der mangelhaften Qualität der aus mehrheitlich chinesischen Materialien hergestellten Kleidungsstücke und Accessoires. Dass diese dennoch als «made in Italy» verkauft werden dürfen, kratzt die auf ihre Modekultur stolzen Italiener ganz besonders. Für den Fotografen Michele Borzoni allerdings stehen die menschenunwürdigen Verhältnisse im Vordergrund, unter denen die in den Sweatshops Beschäftigten leben: Da viele von ihnen keine Aufenthalts- und Arbeitserlaubnis haben, müssen sie nicht nur die bis zu 18 Stunden dauernde Schicht, sondern auch die Ruhezeit versteckt in der Werkhalle verbringen. Hier entdeckte die Polizei bei einer Razzia einen als Schrank getarnten Durchgang zu dem Raum, wo sich die Schlaf- und Kochgelegenheiten befinden...',\n",
              " 'Draghis Erbe und kein Ende....Wenn Mario Draghi im Herbst zurücktritt, hinterlässt er eine Europäische Zentralbank, die tief im Schlamassel steckt. Hochverschuldete Euro-Mitgliedstaaten hängen am Tropf billigen Geldes. Spielraum für eine Normalisierung gibt es kaum. Gastkommentar von.Jürgen Stark....Die achtjährige Amtszeit von EZB-Präsident Mario Draghi endet am 31. Oktober dieses Jahres. Aus der Sicht vieler Beobachter kann Draghi sicher sein, Eingang in die Geschichtsbücher zu finden, da er den Euro und die EU vor ihrem Zerfall bewahrt habe. Diese Einschätzung ist jedoch höchst zwiespältig. Denn Draghi hat die EZB nicht nur ohne Kompass in geldpolitisches Neuland geführt und ein grosses Experiment mit unbekanntem Ausgang gestartet. Während seiner Präsidentschaft wurde die EZB auch zu einer mächtigen, hochpolitisierten und damit auch angreifbaren Institution...Wie schon in der ersten Dekade hat die EZB auch unter Draghi ihr Kernmandat erfüllt und Preisstabilität gewährleistet. Die Inflationsrate im Euro-Gebiet beläuft sich im Durchschnitt der vergangenen zwanzig Jahre auf 1,7 Prozent. Das ist ein bemerkenswertes Ergebnis. Insbesondere in den vergangenen fünf Jahren war die Inflationsrate äusserst niedrig. Doch darin sah die EZB eine besondere Herausforderung. Sie erklärte die sehr niedrige Inflationsrate als nicht mit Preisstabilität vereinbar, diagnostizierte drohende Deflationsgefahren im Euro-Raum und schaltete 2014 von einer bereits sehr akkommodierenden in eine äusserst lockere Geldpolitik...Keine reale Deflationsgefahr..Als erste grosse Zentralbank beschloss sie 2014 einen negativen Einlagenzins. Selbst die Federal Reserve und die Bank of England hatten diesen Schritt gescheut. Und sie hat seit 2015 durch ihr Anleihen-Ankaufprogramm («quantitative easing») die Bilanz des Euro-Systems aufgebläht und zusätzliche Liquidität von über 2,6 Billionen Euro geschaffen. Damit ist die derzeitige EZB-Politik seit langem viel aggressiver, als sie es je während der Fi.zkrise 2008/09 und der nachfolgenden Staatsschuldenkrise im Euro-Raum war. Sie war auch angesichts des mehrjährigen wirtschaftlichen Booms, der jetzt zu Ende zu gehen scheint, nicht zu rechtfertigen...Warum also diese Politik? Warum noch keine überzeugende Exit-Strategie?..Entgegen allen Beteuerungen hat eine reale Deflationsgefahr im Euro-Raum nie bestanden. Bereits 2014 war erkennbar, dass der starke Rückgang der Inflationsrate vor allem durch den Kollaps der Rohstoffpreise bedingt war. Basieren die EZB-Entscheidungen von 2014/15 also auf einer Fehldiagnose, oder waren sie von anderen Überlegungen getrieben? Später begründete man die Fortsetzung der aggressiven Politik mit einer zu langen Phase zu niedriger Inflation und .nte als Ziel eine Inflationsrate von «unter, aber nahe 2 Prozent». Und man verzögerte den Ausstieg mit dem Argument, die Inflationsrate müsse sich nachhaltig dem Inflationsziel anpassen. Dabei bestand doch Preisstabilität, und die Inflationserwartungen zeigten weder Deflations- noch Inflationsgefahren!..Verständlich wird diese Politik nur als Folge eines geldpolitischen Paradigmenwechsels. Die EZB konvertierte zu den «main stream inflation targeters». Deren geldpolitische Strategie ist es, Preisstabilität zu sichern, indem die Zentralbank auf Abweichungen veröffentlichter Inflationsprognosen von einem angekündigten Inflationsziel reagiert. Daraus wird eine Reaktionsfunktion abgeleitet, von der die EZB inzwischen ebenfalls spricht. Bekanntlich neigen Konvertiten dazu, den Wechsel radikal zu vollziehen und überangepasst zu sein. So ist die EZB heute die einzige grosse Zentralbank, die für die Inflationsrate ein striktes Punktziel verfolgt...Eine Legende ist in diesem Zusammenhang, die Überprüfung der geldpolitischen EZB-Strategie im Jahr 2003 habe zu einer Revision der Strategie geführt. Preisstabilität sei neu definiert worden als eine jährliche Inflationsrate von «nahe, aber unter 2 Prozent», und die ursprüngliche Zweisäulenstrategie mit den wirtschaftlichen und monetären Analysen sei durch ein flexibles «inflation targeting»-Regime ersetzt worden...Faktum ist, dass die Strategieüberprüfung («review») 2003 im Ergebnis die Definition von Preisstabilität als einem Anstieg der Inflationsrate von unter 2 Prozent bestätigte mit der Klarstellung, «innerhalb dieser Definition» mittelfristig eine Inflationsrate von «unter, aber nahe 2 Prozent» anzustreben. Der monetären Säule wurde zwar keine prominente Rolle mehr zugebilligt, aber in der Folgezeit wurden umfangreiche EZB-interne Arbeiten durchgeführt, um die monetäre Analyse zu erweitern und zu stärken. So wurden zum Beispiel die Modelle der Geldnachfrage im Euro-Raum verbessert, geldbasierte Inflationsindikatoren entwickelt und die Zusammenhänge zwischen Geldmenge, Kreditentwicklung und Vermögenspreisen sowie deren Implikationen für die Verbraucherpreisinflation analysiert...Insbesondere der letztge.nte Aspekt ist nach wie vor von hoher politischer Relevanz. Die Geldpolitik hat hier eine Verantwortung. Und es zeichnete gerade die monetäre Analyse der EZB aus, mit einer umfassenden Beurteilung der Liquiditäts- und Marktentwicklungen frühzeitige Informationen über entstehende Fi.zstabilitätsrisiken liefern zu können. Bis 2011 stand die EZB für den Ansatz «leaning against the wind» wachsender fi.zieller Ungleichgewichte...Die Beharrlichkeit der EZB-Politik liess manche Beobachter vermuten, sie verfolge die «hidden agenda», die Refi.zierungskosten von hochverschuldeten Euro-Mitgliedstaaten zu begrenzen oder zu senken. In der Tat bleibt der massive Ankauf von Staatspapieren durch die EZB umstritten. Juristische und ökonomische Beurteilungen fallen ausei.der. Trotz bestehenden Zweifeln sahen sowohl der Europäische Gerichtshof als auch das deutsche Bundesverfassungsgericht wiederholt den Ankauf von Staatspapieren als mit EU-Recht und dem deutschen Grundgesetz vereinbar, allerdings unter bestimmten Auflagen. Letzteres erhärtet die Zweifel, dass es sich um Geldpolitik handelt. Die ökonomische Wirkung des Ankaufs von Staatsanleihen wird eindeutig in der Absenkung der staatlichen Refi.zierungskosten sichtbar. Das ist monetäre Staatsfi.zierung, die nach den Europäischen Verträgen und dem Statut der EZB verboten ist...Gefangene der eigenen Politik..Während die Leitzinsen 2019 negativ oder bei null Prozent bleiben werden, wurde das Anleihe-Kaufprogramm Ende 2018 beendet. Aber die EZB wird noch lange durch die Reinvestition fällig werdender Papiere in den Märkten präsent sein. Je nach Reinvestitionsstrategie können dies bis zu fünf Jahre sein, ohne dass die Bilanz abgeschmolzen wird. Im Gegenteil: Es stehen neue langfristige Operationen zur Diskussion, um einer partiellen Liquiditätsverknappung entgegenzuwirken. Es ist eine Normalisierung weder der Zinsen noch der Zentralbankbilanzen in Sicht. Die EZB hat den Ausstieg aus dieser Politik letztlich verpasst. Oder sie will ihn gar nicht, sondern sieht in den nichtkonventionellen Massnahmen und einer starken Zentralbank-Position im Markt, gemeinsam mit «forward guidance» und Negativzinsen, die neue Normalität...Negativzinsen und «quantitative easing» sind die gravierendsten Fehlentscheidungen in der 20-jährigen Geschichte der EZB. Eine ganze Dekade extrem lockerer Geldpolitik hat das Verhalten von Politikern und Marktteilnehmern nachhaltig beeinflusst. Wirtschaftsakteure und Marktteilnehmer wurden u. a. über Portfolioreallokation ins wirtschaftliche und fi.zielle Risiko gedrängt. Die Märkte wurden verzerrt und Risiken wegen der Zentralbankinterventionen nicht richtig bepreist. Diese Effekte und die längerfristigen Folgen werden von der EZB völlig ignoriert. Die EZB ist damit längst selbst zu einem Risiko für die Fi.zstabilität geworden. Sie dürfte den Exit auch deshalb immer wieder verschoben haben, weil man abrupte Marktkorrekturen befürchtete...Wer auch immer Mario Draghi am 1. November 2019 nachfolgen wird, seine Politik wirkt infolge des Paradigmenwechsels lange über seine Amtszeit hinaus. Die geldpolitische Geisterfahrt wird mit seinem Ausscheiden nicht enden. Der Spielraum für eine rasche Politikänderung geht gegen null, wenn man den wirtschaftlichen Abschwung, die Risiken auf den Fi.zmärkten, die fortschreitende Zombifizierung von Banken und Unternehmen und die hohe Staatsverschuldung des Euro-Raums mit in den Blick nimmt. Die EZB ist unter Fiskal- und Fi.zmarktdomi.z geraten, und sie bleibt gleichzeitig Gefangene ihrer Politik. Spätestens die nächste Krise wird die Verantwortung der EZB hierfür offenlegen. Das wird nicht ohne weitere Konsequenzen bleiben...Sollte Draghi in die Geschichtsbücher eingehen, so steht das endgültige historische Urteil über sein Wirken noch aus. Ohne Zweifel hat er die EZB umgesteuert. Das stand im kurzfristigen politischen Interesse vieler Mitgliedstaaten. Im letzten Kapitel werden der unkontrollierte Machtzuwachs infolge der Selbstermächtigung der EZB und die Folgen ihrer Politisierung vor dem Hintergrund der demokratischen Legitimität ihres Handelns zu bewerten sein. Im Kern geht es um die Frage eines engen oder weiten Mandats einer Zentralbank in einem demokratischen und marktwirtschaftlichen System. Die Geschichte lehrt, dass die Aufgabenüberfrachtung einer Zentralbank letzten Endes zu gravierenden wirtschaftlichen und gesellschaftlichen Fehlentwicklungen und zu neuen Krisen führt....Jürgen Stark war von 2006 bis 2012 Chefökonom und Mitglied im Direktorium der Europäischen Zentralbank. Er arbeitet heute als unabhängiger Berater....Negativzinsen und «quantitative easing» sind die gravierendsten Fehlentscheidungen in der 20-jährigen Geschichte der EZB...']"
            ]
          },
          "metadata": {},
          "execution_count": 9
        }
      ]
    },
    {
      "cell_type": "markdown",
      "source": [
        "#Q3 (17.5 points)\n",
        "Create a dataset from the directory created"
      ],
      "metadata": {
        "id": "ijXxJ_8KNWna"
      }
    },
    {
      "cell_type": "code",
      "source": [
        "#SOL\n",
        "from tensorflow import keras\n",
        "batch_size = 32\n",
        "train_ds = keras.utils.text_dataset_from_directory(\n",
        "    \"swiss_dox_nzz/train\", batch_size=batch_size\n",
        ")\n",
        "val_ds = keras.utils.text_dataset_from_directory(\n",
        "    \"swiss_dox_nzz/val\", batch_size=batch_size\n",
        ")\n",
        "\n",
        "test_ds = keras.utils.text_dataset_from_directory(\n",
        "    \"swiss_dox_nzz/test\", batch_size=batch_size\n",
        ")\n",
        "text_only_train_ds = train_ds.map(lambda x, y: x)"
      ],
      "metadata": {
        "colab": {
          "base_uri": "https://localhost:8080/"
        },
        "id": "-V1qwXsI51SG",
        "outputId": "15b702a2-7d54-46e4-f263-c68eb4363b64"
      },
      "execution_count": 10,
      "outputs": [
        {
          "output_type": "stream",
          "name": "stdout",
          "text": [
            "Found 21 files belonging to 3 classes.\n",
            "Found 3 files belonging to 3 classes.\n",
            "Found 6 files belonging to 3 classes.\n"
          ]
        }
      ]
    },
    {
      "cell_type": "code",
      "source": [
        "#Data Transformation\n",
        "\n",
        "from tensorflow.keras import layers\n",
        "#resulting in a tensor of shape [batch_size, output_sequence_length], can be padded or truncated\n",
        "max_length = 600\n",
        "#The maximum size of the vocabulary for this layer.\n",
        "max_tokens = 20000\n",
        "#if output mode is 'tf-idf'\n",
        "    #It weights a given term by taking “term frequency,”\n",
        "    #how many times the term appears in the current document,\n",
        "    #and dividing it by a measure of “document frequency,”\n",
        "    #which estimates how often the term comes up across the dataset\n",
        "text_vectorization = layers.TextVectorization(\n",
        "    max_tokens=max_tokens,\n",
        "    output_mode=\"int\",\n",
        "    output_sequence_length=max_length,\n",
        ")\n",
        "\n",
        "#just like fit\n",
        "text_vectorization.adapt(text_only_train_ds)\n",
        "\n",
        "int_train_ds = train_ds.map(\n",
        "    lambda x, y: (text_vectorization(x), y),\n",
        "    num_parallel_calls=4)\n",
        "\n",
        "int_val_ds = val_ds.map(\n",
        "    lambda x, y: (text_vectorization(x), y),\n",
        "    num_parallel_calls=4)\n",
        "\n",
        "\n",
        "int_test_ds = test_ds.map(\n",
        "    lambda x, y: (text_vectorization(x), y),\n",
        "    num_parallel_calls=4)"
      ],
      "metadata": {
        "id": "n4uNDxjHv3Qr"
      },
      "execution_count": 11,
      "outputs": []
    },
    {
      "cell_type": "code",
      "source": [
        "for x,y in int_train_ds:\n",
        "  print(x)\n",
        "  print('nnn')\n",
        "  print(y)\n",
        "  break"
      ],
      "metadata": {
        "colab": {
          "base_uri": "https://localhost:8080/"
        },
        "id": "2zPOWXJ6AC9q",
        "outputId": "f88661c0-a4ee-4924-9c19-b0898fc6ab54"
      },
      "execution_count": 12,
      "outputs": [
        {
          "output_type": "stream",
          "name": "stdout",
          "text": [
            "tf.Tensor(\n",
            "[[ 283 1501  582 ... 6940 1930   17]\n",
            " [   2  985 2406 ...    0    0    0]\n",
            " [4692 2854  104 ...  776 7059   30]\n",
            " ...\n",
            " [ 175  286   11 ... 4312   18 3615]\n",
            " [6296 6404   20 ...   44   36 1715]\n",
            " [  17   36  100 ...   60   45  666]], shape=(21, 600), dtype=int64)\n",
            "nnn\n",
            "tf.Tensor([2 0 1 2 0 1 0 0 0 1 0 2 1 2 2 1 1 0 2 2 1], shape=(21,), dtype=int32)\n"
          ]
        }
      ]
    },
    {
      "cell_type": "markdown",
      "source": [
        "#Q4 (17.5 points)\n",
        "Create a model baseline"
      ],
      "metadata": {
        "id": "02UPfSpBNi79"
      }
    },
    {
      "cell_type": "code",
      "source": [],
      "metadata": {
        "id": "6xirqkybNiu-"
      },
      "execution_count": 12,
      "outputs": []
    },
    {
      "cell_type": "code",
      "source": [
        "#SOL\n",
        "max_length=600\n",
        "hidden_dim=16\n",
        "\n",
        "inputs = keras.Input(shape=(max_length,))\n",
        "x = layers.Dense(hidden_dim, activation=\"relu\")(inputs)\n",
        "x = layers.Dropout(0.5)(x)\n",
        "outputs = layers.Dense(3, activation=\"softmax\")(x)\n",
        "model_baseline = keras.Model(inputs, outputs)\n",
        "model_baseline.compile(optimizer=\"adam\",\n",
        "              loss=\"SparseCategoricalCrossentropy\",\n",
        "              metrics=[\"accuracy\"])\n",
        "\n",
        "model_baseline.summary()\n",
        "\n",
        "callbacks = [\n",
        "    keras.callbacks.ModelCheckpoint(\"baseline_text.keras\",\n",
        "                                    save_best_only=True)\n",
        "]\n",
        "\n",
        "#takes around 1h for the 10 epochs with the free colab version\n",
        "model_baseline.fit(int_train_ds, validation_data=int_val_ds, epochs=1, callbacks=callbacks)\n",
        "model_baseline = keras.models.load_model(\"baseline_text.keras\")\n",
        "print(f\"Test acc: {model_baseline.evaluate(int_test_ds)[1]:.3f}\")"
      ],
      "metadata": {
        "colab": {
          "base_uri": "https://localhost:8080/"
        },
        "id": "lo5z2Cg8v44Y",
        "outputId": "e9b2301d-6a48-46d8-cd92-6b02fd531809"
      },
      "execution_count": 13,
      "outputs": [
        {
          "output_type": "stream",
          "name": "stdout",
          "text": [
            "Model: \"model\"\n",
            "_________________________________________________________________\n",
            " Layer (type)                Output Shape              Param #   \n",
            "=================================================================\n",
            " input_1 (InputLayer)        [(None, 600)]             0         \n",
            "                                                                 \n",
            " dense (Dense)               (None, 16)                9616      \n",
            "                                                                 \n",
            " dropout (Dropout)           (None, 16)                0         \n",
            "                                                                 \n",
            " dense_1 (Dense)             (None, 3)                 51        \n",
            "                                                                 \n",
            "=================================================================\n",
            "Total params: 9,667\n",
            "Trainable params: 9,667\n",
            "Non-trainable params: 0\n",
            "_________________________________________________________________\n",
            "1/1 [==============================] - 1s 1s/step - loss: 3020.3950 - accuracy: 0.3810 - val_loss: 2062.0088 - val_accuracy: 0.0000e+00\n",
            "1/1 [==============================] - 0s 198ms/step - loss: 1005.8701 - accuracy: 0.5000\n",
            "Test acc: 0.500\n"
          ]
        }
      ]
    },
    {
      "cell_type": "markdown",
      "source": [
        "#Q5 (17.5 points)\n",
        "Create a Transformer encoder (you might need to define the classes: TransformerEncoder, PositionalEmbedding)"
      ],
      "metadata": {
        "id": "ABcgToTqNrN6"
      }
    },
    {
      "cell_type": "code",
      "source": [
        "class PositionalEmbedding(layers.Layer):\n",
        "    def __init__(self, sequence_length, input_dim, output_dim, **kwargs):\n",
        "        super().__init__(**kwargs)\n",
        "        self.token_embeddings = layers.Embedding(\n",
        "            input_dim=input_dim, output_dim=output_dim)\n",
        "        self.position_embeddings = layers.Embedding(\n",
        "            input_dim=sequence_length, output_dim=output_dim)\n",
        "        self.sequence_length = sequence_length\n",
        "        self.input_dim = input_dim\n",
        "        self.output_dim = output_dim\n",
        "\n",
        "    def call(self, inputs):\n",
        "        length = tf.shape(inputs)[-1]\n",
        "        positions = tf.range(start=0, limit=length, delta=1)\n",
        "        embedded_tokens = self.token_embeddings(inputs)\n",
        "        embedded_positions = self.position_embeddings(positions)\n",
        "        return embedded_tokens + embedded_positions\n",
        "\n",
        "    def compute_mask(self, inputs, mask=None):\n",
        "        return tf.math.not_equal(inputs, 0)\n",
        "\n",
        "    def get_config(self):\n",
        "        config = super().get_config()\n",
        "        config.update({\n",
        "            \"output_dim\": self.output_dim,\n",
        "            \"sequence_length\": self.sequence_length,\n",
        "            \"input_dim\": self.input_dim,\n",
        "        })\n",
        "        return config"
      ],
      "metadata": {
        "id": "OpD0bxzh924A"
      },
      "execution_count": 14,
      "outputs": []
    },
    {
      "cell_type": "code",
      "source": [
        "import tensorflow as tf\n",
        "from tensorflow import keras\n",
        "from tensorflow.keras import layers\n",
        "\n",
        "class TransformerEncoder(layers.Layer):\n",
        "    def __init__(self, embed_dim, dense_dim, num_heads, **kwargs):\n",
        "        super().__init__(**kwargs)\n",
        "        self.embed_dim = embed_dim\n",
        "        self.dense_dim = dense_dim\n",
        "        self.num_heads = num_heads\n",
        "        self.attention = layers.MultiHeadAttention(\n",
        "            num_heads=num_heads, key_dim=embed_dim)\n",
        "        self.dense_proj = keras.Sequential(\n",
        "            [layers.Dense(dense_dim, activation=\"relu\"),\n",
        "             layers.Dense(embed_dim),]\n",
        "        )\n",
        "        self.layernorm_1 = layers.LayerNormalization()\n",
        "        self.layernorm_2 = layers.LayerNormalization()\n",
        "\n",
        "    def call(self, inputs, mask=None):\n",
        "        if mask is not None:\n",
        "            mask = mask[:, tf.newaxis, :]\n",
        "        attention_output = self.attention(\n",
        "            inputs, inputs, attention_mask=mask)\n",
        "        proj_input = self.layernorm_1(inputs + attention_output)\n",
        "        proj_output = self.dense_proj(proj_input)\n",
        "        return self.layernorm_2(proj_input + proj_output)\n",
        "\n",
        "    def get_config(self):\n",
        "        config = super().get_config()\n",
        "        config.update({\n",
        "            \"embed_dim\": self.embed_dim,\n",
        "            \"num_heads\": self.num_heads,\n",
        "            \"dense_dim\": self.dense_dim,\n",
        "        })\n",
        "        return config"
      ],
      "metadata": {
        "id": "Y0ROBdsH-1yk"
      },
      "execution_count": 15,
      "outputs": []
    },
    {
      "cell_type": "code",
      "source": [
        "vocab_size = 20000\n",
        "sequence_length = 600\n",
        "embed_dim = 256\n",
        "num_heads = 2\n",
        "dense_dim = 32\n",
        "\n",
        "inputs = keras.Input(shape=(None,), dtype=\"int64\")\n",
        "#order\n",
        "x = PositionalEmbedding(sequence_length, vocab_size, embed_dim)(inputs)\n",
        "#context\n",
        "x = TransformerEncoder(embed_dim, dense_dim, num_heads)(x)\n",
        "x = layers.GlobalMaxPooling1D()(x)\n",
        "x = layers.Dropout(0.5)(x)\n",
        "outputs = layers.Dense(3, activation=\"softmax\")(x)\n",
        "model = keras.Model(inputs, outputs)\n",
        "model.compile(optimizer=\"rmsprop\",\n",
        "              loss=\"sparse_categorical_crossentropy\",\n",
        "              metrics=[\"sparse_categorical_accuracy\"])\n",
        "model.summary()\n",
        "\n",
        "callbacks = [\n",
        "    keras.callbacks.ModelCheckpoint(\"full_transformer_encoder.keras\",\n",
        "                                    save_best_only=True)\n",
        "]\n",
        "model.fit(int_train_ds, validation_data=int_val_ds, epochs=5, callbacks=callbacks)\n",
        "model = keras.models.load_model(\n",
        "    \"full_transformer_encoder.keras\",\n",
        "    custom_objects={\"TransformerEncoder\": TransformerEncoder,\n",
        "                    \"PositionalEmbedding\": PositionalEmbedding})\n",
        "print(f\"Test acc: {model.evaluate(int_test_ds)[1]:.3f}\")"
      ],
      "metadata": {
        "colab": {
          "base_uri": "https://localhost:8080/"
        },
        "id": "vqCtf5lJ-4oB",
        "outputId": "b17450d8-b60e-4c6f-af1c-4639c5d58517"
      },
      "execution_count": 16,
      "outputs": [
        {
          "output_type": "stream",
          "name": "stdout",
          "text": [
            "Model: \"model_1\"\n",
            "_________________________________________________________________\n",
            " Layer (type)                Output Shape              Param #   \n",
            "=================================================================\n",
            " input_2 (InputLayer)        [(None, None)]            0         \n",
            "                                                                 \n",
            " positional_embedding (Posit  (None, None, 256)        5273600   \n",
            " ionalEmbedding)                                                 \n",
            "                                                                 \n",
            " transformer_encoder (Transf  (None, None, 256)        543776    \n",
            " ormerEncoder)                                                   \n",
            "                                                                 \n",
            " global_max_pooling1d (Globa  (None, 256)              0         \n",
            " lMaxPooling1D)                                                  \n",
            "                                                                 \n",
            " dropout_1 (Dropout)         (None, 256)               0         \n",
            "                                                                 \n",
            " dense_4 (Dense)             (None, 3)                 771       \n",
            "                                                                 \n",
            "=================================================================\n",
            "Total params: 5,818,147\n",
            "Trainable params: 5,818,147\n",
            "Non-trainable params: 0\n",
            "_________________________________________________________________\n",
            "Epoch 1/5\n",
            "1/1 [==============================] - 5s 5s/step - loss: 4.9634 - sparse_categorical_accuracy: 0.3810 - val_loss: 2.2763 - val_sparse_categorical_accuracy: 0.3333\n",
            "Epoch 2/5\n",
            "1/1 [==============================] - 3s 3s/step - loss: 3.4207 - sparse_categorical_accuracy: 0.5714 - val_loss: 2.2585 - val_sparse_categorical_accuracy: 0.3333\n",
            "Epoch 3/5\n",
            "1/1 [==============================] - 3s 3s/step - loss: 2.4342 - sparse_categorical_accuracy: 0.4762 - val_loss: 1.9946 - val_sparse_categorical_accuracy: 0.3333\n",
            "Epoch 4/5\n",
            "1/1 [==============================] - 3s 3s/step - loss: 1.4528 - sparse_categorical_accuracy: 0.5238 - val_loss: 1.5778 - val_sparse_categorical_accuracy: 0.3333\n",
            "Epoch 5/5\n",
            "1/1 [==============================] - 3s 3s/step - loss: 0.3725 - sparse_categorical_accuracy: 0.8571 - val_loss: 1.4482 - val_sparse_categorical_accuracy: 0.3333\n",
            "1/1 [==============================] - 1s 693ms/step - loss: 1.0570 - sparse_categorical_accuracy: 0.5000\n",
            "Test acc: 0.500\n"
          ]
        }
      ]
    },
    {
      "cell_type": "markdown",
      "source": [
        "#Q6 (17.5 points)\n",
        "Apply the model to predict the class of 3 newspieces, one from 'Reisen', one from 'Wochenende', and one from'Sport' rubric categories.\n",
        "\n",
        "Compare the accuracy results for the 3, having in mind the algorithm capabilities."
      ],
      "metadata": {
        "id": "cXnICF6NPRFN"
      }
    },
    {
      "cell_type": "code",
      "source": [],
      "metadata": {
        "id": "2ps8OMmqPP-7"
      },
      "execution_count": 16,
      "outputs": []
    },
    {
      "cell_type": "code",
      "source": [],
      "metadata": {
        "id": "lN6FmUMY--Z4"
      },
      "execution_count": 16,
      "outputs": []
    },
    {
      "cell_type": "code",
      "source": [],
      "metadata": {
        "id": "fIHVmXydOYC9"
      },
      "execution_count": 16,
      "outputs": []
    },
    {
      "cell_type": "markdown",
      "source": [
        "Deliver"
      ],
      "metadata": {
        "id": "HjeHCZFZOJN6"
      }
    },
    {
      "cell_type": "code",
      "source": [
        "#HOW TO DELIVER: https://stackoverflow.com/questions/53460051/convert-ipynb-notebook-to-html-in-google-colab\n",
        "#download this notebook after all your answers and upload it to the files tab on the left\n",
        "#right click on it to check the path\n",
        "#replace the path ('/content/Untitled0.ipynb') by your file path\n",
        "%%shell\n",
        "jupyter nbconvert --to html /content/Untitled0.ipynb\n",
        "\n",
        "#refresh the folder (not the page)\n",
        "#download the html"
      ],
      "metadata": {
        "id": "pzPppXs2OJ0h",
        "colab": {
          "base_uri": "https://localhost:8080/",
          "height": 1000
        },
        "outputId": "e3f233e9-601a-4dd5-dddd-e1618285f404"
      },
      "execution_count": 17,
      "outputs": [
        {
          "output_type": "stream",
          "name": "stdout",
          "text": [
            "[NbConvertApp] WARNING | pattern '/content/Untitled0.ipynb' matched no files\n",
            "This application is used to convert notebook files (*.ipynb)\n",
            "        to various other formats.\n",
            "\n",
            "        WARNING: THE COMMANDLINE INTERFACE MAY CHANGE IN FUTURE RELEASES.\n",
            "\n",
            "Options\n",
            "=======\n",
            "The options below are convenience aliases to configurable class-options,\n",
            "as listed in the \"Equivalent to\" description-line of the aliases.\n",
            "To see all configurable class-options for some <cmd>, use:\n",
            "    <cmd> --help-all\n",
            "\n",
            "--debug\n",
            "    set log level to logging.DEBUG (maximize logging output)\n",
            "    Equivalent to: [--Application.log_level=10]\n",
            "--show-config\n",
            "    Show the application's configuration (human-readable format)\n",
            "    Equivalent to: [--Application.show_config=True]\n",
            "--show-config-json\n",
            "    Show the application's configuration (json format)\n",
            "    Equivalent to: [--Application.show_config_json=True]\n",
            "--generate-config\n",
            "    generate default config file\n",
            "    Equivalent to: [--JupyterApp.generate_config=True]\n",
            "-y\n",
            "    Answer yes to any questions instead of prompting.\n",
            "    Equivalent to: [--JupyterApp.answer_yes=True]\n",
            "--execute\n",
            "    Execute the notebook prior to export.\n",
            "    Equivalent to: [--ExecutePreprocessor.enabled=True]\n",
            "--allow-errors\n",
            "    Continue notebook execution even if one of the cells throws an error and include the error message in the cell output (the default behaviour is to abort conversion). This flag is only relevant if '--execute' was specified, too.\n",
            "    Equivalent to: [--ExecutePreprocessor.allow_errors=True]\n",
            "--stdin\n",
            "    read a single notebook file from stdin. Write the resulting notebook with default basename 'notebook.*'\n",
            "    Equivalent to: [--NbConvertApp.from_stdin=True]\n",
            "--stdout\n",
            "    Write notebook output to stdout instead of files.\n",
            "    Equivalent to: [--NbConvertApp.writer_class=StdoutWriter]\n",
            "--inplace\n",
            "    Run nbconvert in place, overwriting the existing notebook (only\n",
            "            relevant when converting to notebook format)\n",
            "    Equivalent to: [--NbConvertApp.use_output_suffix=False --NbConvertApp.export_format=notebook --FilesWriter.build_directory=]\n",
            "--clear-output\n",
            "    Clear output of current file and save in place,\n",
            "            overwriting the existing notebook.\n",
            "    Equivalent to: [--NbConvertApp.use_output_suffix=False --NbConvertApp.export_format=notebook --FilesWriter.build_directory= --ClearOutputPreprocessor.enabled=True]\n",
            "--no-prompt\n",
            "    Exclude input and output prompts from converted document.\n",
            "    Equivalent to: [--TemplateExporter.exclude_input_prompt=True --TemplateExporter.exclude_output_prompt=True]\n",
            "--no-input\n",
            "    Exclude input cells and output prompts from converted document.\n",
            "            This mode is ideal for generating code-free reports.\n",
            "    Equivalent to: [--TemplateExporter.exclude_output_prompt=True --TemplateExporter.exclude_input=True --TemplateExporter.exclude_input_prompt=True]\n",
            "--allow-chromium-download\n",
            "    Whether to allow downloading chromium if no suitable version is found on the system.\n",
            "    Equivalent to: [--WebPDFExporter.allow_chromium_download=True]\n",
            "--disable-chromium-sandbox\n",
            "    Disable chromium security sandbox when converting to PDF..\n",
            "    Equivalent to: [--WebPDFExporter.disable_sandbox=True]\n",
            "--show-input\n",
            "    Shows code input. This flag is only useful for dejavu users.\n",
            "    Equivalent to: [--TemplateExporter.exclude_input=False]\n",
            "--embed-images\n",
            "    Embed the images as base64 dataurls in the output. This flag is only useful for the HTML/WebPDF/Slides exports.\n",
            "    Equivalent to: [--HTMLExporter.embed_images=True]\n",
            "--sanitize-html\n",
            "    Whether the HTML in Markdown cells and cell outputs should be sanitized..\n",
            "    Equivalent to: [--HTMLExporter.sanitize_html=True]\n",
            "--log-level=<Enum>\n",
            "    Set the log level by value or name.\n",
            "    Choices: any of [0, 10, 20, 30, 40, 50, 'DEBUG', 'INFO', 'WARN', 'ERROR', 'CRITICAL']\n",
            "    Default: 30\n",
            "    Equivalent to: [--Application.log_level]\n",
            "--config=<Unicode>\n",
            "    Full path of a config file.\n",
            "    Default: ''\n",
            "    Equivalent to: [--JupyterApp.config_file]\n",
            "--to=<Unicode>\n",
            "    The export format to be used, either one of the built-in formats\n",
            "            ['asciidoc', 'custom', 'html', 'latex', 'markdown', 'notebook', 'pdf', 'python', 'rst', 'script', 'slides', 'webpdf']\n",
            "            or a dotted object name that represents the import path for an\n",
            "            ``Exporter`` class\n",
            "    Default: ''\n",
            "    Equivalent to: [--NbConvertApp.export_format]\n",
            "--template=<Unicode>\n",
            "    Name of the template to use\n",
            "    Default: ''\n",
            "    Equivalent to: [--TemplateExporter.template_name]\n",
            "--template-file=<Unicode>\n",
            "    Name of the template file to use\n",
            "    Default: None\n",
            "    Equivalent to: [--TemplateExporter.template_file]\n",
            "--theme=<Unicode>\n",
            "    Template specific theme(e.g. the name of a JupyterLab CSS theme distributed\n",
            "    as prebuilt extension for the lab template)\n",
            "    Default: 'light'\n",
            "    Equivalent to: [--HTMLExporter.theme]\n",
            "--sanitize_html=<Bool>\n",
            "    Whether the HTML in Markdown cells and cell outputs should be sanitized.This\n",
            "    should be set to True by nbviewer or similar tools.\n",
            "    Default: False\n",
            "    Equivalent to: [--HTMLExporter.sanitize_html]\n",
            "--writer=<DottedObjectName>\n",
            "    Writer class used to write the\n",
            "                                        results of the conversion\n",
            "    Default: 'FilesWriter'\n",
            "    Equivalent to: [--NbConvertApp.writer_class]\n",
            "--post=<DottedOrNone>\n",
            "    PostProcessor class used to write the\n",
            "                                        results of the conversion\n",
            "    Default: ''\n",
            "    Equivalent to: [--NbConvertApp.postprocessor_class]\n",
            "--output=<Unicode>\n",
            "    overwrite base name use for output files.\n",
            "                can only be used when converting one notebook at a time.\n",
            "    Default: ''\n",
            "    Equivalent to: [--NbConvertApp.output_base]\n",
            "--output-dir=<Unicode>\n",
            "    Directory to write output(s) to. Defaults\n",
            "                                  to output to the directory of each notebook. To recover\n",
            "                                  previous default behaviour (outputting to the current\n",
            "                                  working directory) use . as the flag value.\n",
            "    Default: ''\n",
            "    Equivalent to: [--FilesWriter.build_directory]\n",
            "--reveal-prefix=<Unicode>\n",
            "    The URL prefix for reveal.js (version 3.x).\n",
            "            This defaults to the reveal CDN, but can be any url pointing to a copy\n",
            "            of reveal.js.\n",
            "            For speaker notes to work, this must be a relative path to a local\n",
            "            copy of reveal.js: e.g., \"reveal.js\".\n",
            "            If a relative path is given, it must be a subdirectory of the\n",
            "            current directory (from which the server is run).\n",
            "            See the usage documentation\n",
            "            (https://nbconvert.readthedocs.io/en/latest/usage.html#reveal-js-html-slideshow)\n",
            "            for more details.\n",
            "    Default: ''\n",
            "    Equivalent to: [--SlidesExporter.reveal_url_prefix]\n",
            "--nbformat=<Enum>\n",
            "    The nbformat version to write.\n",
            "            Use this to downgrade notebooks.\n",
            "    Choices: any of [1, 2, 3, 4]\n",
            "    Default: 4\n",
            "    Equivalent to: [--NotebookExporter.nbformat_version]\n",
            "\n",
            "Examples\n",
            "--------\n",
            "\n",
            "    The simplest way to use nbconvert is\n",
            "\n",
            "            > jupyter nbconvert mynotebook.ipynb --to html\n",
            "\n",
            "            Options include ['asciidoc', 'custom', 'html', 'latex', 'markdown', 'notebook', 'pdf', 'python', 'rst', 'script', 'slides', 'webpdf'].\n",
            "\n",
            "            > jupyter nbconvert --to latex mynotebook.ipynb\n",
            "\n",
            "            Both HTML and LaTeX support multiple output templates. LaTeX includes\n",
            "            'base', 'article' and 'report'.  HTML includes 'basic', 'lab' and\n",
            "            'classic'. You can specify the flavor of the format used.\n",
            "\n",
            "            > jupyter nbconvert --to html --template lab mynotebook.ipynb\n",
            "\n",
            "            You can also pipe the output to stdout, rather than a file\n",
            "\n",
            "            > jupyter nbconvert mynotebook.ipynb --stdout\n",
            "\n",
            "            PDF is generated via latex\n",
            "\n",
            "            > jupyter nbconvert mynotebook.ipynb --to pdf\n",
            "\n",
            "            You can get (and serve) a Reveal.js-powered slideshow\n",
            "\n",
            "            > jupyter nbconvert myslides.ipynb --to slides --post serve\n",
            "\n",
            "            Multiple notebooks can be given at the command line in a couple of\n",
            "            different ways:\n",
            "\n",
            "            > jupyter nbconvert notebook*.ipynb\n",
            "            > jupyter nbconvert notebook1.ipynb notebook2.ipynb\n",
            "\n",
            "            or you can specify the notebooks list in a config file, containing::\n",
            "\n",
            "                c.NbConvertApp.notebooks = [\"my_notebook.ipynb\"]\n",
            "\n",
            "            > jupyter nbconvert --config mycfg.py\n",
            "\n",
            "To see all available configurables, use `--help-all`.\n",
            "\n"
          ]
        },
        {
          "output_type": "error",
          "ename": "CalledProcessError",
          "evalue": "ignored",
          "traceback": [
            "\u001b[0;31m---------------------------------------------------------------------------\u001b[0m",
            "\u001b[0;31mCalledProcessError\u001b[0m                        Traceback (most recent call last)",
            "\u001b[0;32m<ipython-input-17-7a6e001b5df6>\u001b[0m in \u001b[0;36m<cell line: 1>\u001b[0;34m()\u001b[0m\n\u001b[0;32m----> 1\u001b[0;31m \u001b[0mget_ipython\u001b[0m\u001b[0;34m(\u001b[0m\u001b[0;34m)\u001b[0m\u001b[0;34m.\u001b[0m\u001b[0mrun_cell_magic\u001b[0m\u001b[0;34m(\u001b[0m\u001b[0;34m'shell'\u001b[0m\u001b[0;34m,\u001b[0m \u001b[0;34m''\u001b[0m\u001b[0;34m,\u001b[0m \u001b[0;34m'jupyter nbconvert --to html /content/Untitled0.ipynb\\n\\n#refresh the folder (not the page)\\n#download the html\\n'\u001b[0m\u001b[0;34m)\u001b[0m\u001b[0;34m\u001b[0m\u001b[0;34m\u001b[0m\u001b[0m\n\u001b[0m",
            "\u001b[0;32m/usr/local/lib/python3.10/dist-packages/google/colab/_shell.py\u001b[0m in \u001b[0;36mrun_cell_magic\u001b[0;34m(self, magic_name, line, cell)\u001b[0m\n\u001b[1;32m    332\u001b[0m     \u001b[0;32mif\u001b[0m \u001b[0mline\u001b[0m \u001b[0;32mand\u001b[0m \u001b[0;32mnot\u001b[0m \u001b[0mcell\u001b[0m\u001b[0;34m:\u001b[0m\u001b[0;34m\u001b[0m\u001b[0;34m\u001b[0m\u001b[0m\n\u001b[1;32m    333\u001b[0m       \u001b[0mcell\u001b[0m \u001b[0;34m=\u001b[0m \u001b[0;34m' '\u001b[0m\u001b[0;34m\u001b[0m\u001b[0;34m\u001b[0m\u001b[0m\n\u001b[0;32m--> 334\u001b[0;31m     \u001b[0;32mreturn\u001b[0m \u001b[0msuper\u001b[0m\u001b[0;34m(\u001b[0m\u001b[0;34m)\u001b[0m\u001b[0;34m.\u001b[0m\u001b[0mrun_cell_magic\u001b[0m\u001b[0;34m(\u001b[0m\u001b[0mmagic_name\u001b[0m\u001b[0;34m,\u001b[0m \u001b[0mline\u001b[0m\u001b[0;34m,\u001b[0m \u001b[0mcell\u001b[0m\u001b[0;34m)\u001b[0m\u001b[0;34m\u001b[0m\u001b[0;34m\u001b[0m\u001b[0m\n\u001b[0m\u001b[1;32m    335\u001b[0m \u001b[0;34m\u001b[0m\u001b[0m\n\u001b[1;32m    336\u001b[0m \u001b[0;34m\u001b[0m\u001b[0m\n",
            "\u001b[0;32m/usr/local/lib/python3.10/dist-packages/IPython/core/interactiveshell.py\u001b[0m in \u001b[0;36mrun_cell_magic\u001b[0;34m(self, magic_name, line, cell)\u001b[0m\n\u001b[1;32m   2471\u001b[0m             \u001b[0;32mwith\u001b[0m \u001b[0mself\u001b[0m\u001b[0;34m.\u001b[0m\u001b[0mbuiltin_trap\u001b[0m\u001b[0;34m:\u001b[0m\u001b[0;34m\u001b[0m\u001b[0;34m\u001b[0m\u001b[0m\n\u001b[1;32m   2472\u001b[0m                 \u001b[0margs\u001b[0m \u001b[0;34m=\u001b[0m \u001b[0;34m(\u001b[0m\u001b[0mmagic_arg_s\u001b[0m\u001b[0;34m,\u001b[0m \u001b[0mcell\u001b[0m\u001b[0;34m)\u001b[0m\u001b[0;34m\u001b[0m\u001b[0;34m\u001b[0m\u001b[0m\n\u001b[0;32m-> 2473\u001b[0;31m                 \u001b[0mresult\u001b[0m \u001b[0;34m=\u001b[0m \u001b[0mfn\u001b[0m\u001b[0;34m(\u001b[0m\u001b[0;34m*\u001b[0m\u001b[0margs\u001b[0m\u001b[0;34m,\u001b[0m \u001b[0;34m**\u001b[0m\u001b[0mkwargs\u001b[0m\u001b[0;34m)\u001b[0m\u001b[0;34m\u001b[0m\u001b[0;34m\u001b[0m\u001b[0m\n\u001b[0m\u001b[1;32m   2474\u001b[0m             \u001b[0;32mreturn\u001b[0m \u001b[0mresult\u001b[0m\u001b[0;34m\u001b[0m\u001b[0;34m\u001b[0m\u001b[0m\n\u001b[1;32m   2475\u001b[0m \u001b[0;34m\u001b[0m\u001b[0m\n",
            "\u001b[0;32m/usr/local/lib/python3.10/dist-packages/google/colab/_system_commands.py\u001b[0m in \u001b[0;36m_shell_cell_magic\u001b[0;34m(args, cmd)\u001b[0m\n\u001b[1;32m    110\u001b[0m   \u001b[0mresult\u001b[0m \u001b[0;34m=\u001b[0m \u001b[0m_run_command\u001b[0m\u001b[0;34m(\u001b[0m\u001b[0mcmd\u001b[0m\u001b[0;34m,\u001b[0m \u001b[0mclear_streamed_output\u001b[0m\u001b[0;34m=\u001b[0m\u001b[0;32mFalse\u001b[0m\u001b[0;34m)\u001b[0m\u001b[0;34m\u001b[0m\u001b[0;34m\u001b[0m\u001b[0m\n\u001b[1;32m    111\u001b[0m   \u001b[0;32mif\u001b[0m \u001b[0;32mnot\u001b[0m \u001b[0mparsed_args\u001b[0m\u001b[0;34m.\u001b[0m\u001b[0mignore_errors\u001b[0m\u001b[0;34m:\u001b[0m\u001b[0;34m\u001b[0m\u001b[0;34m\u001b[0m\u001b[0m\n\u001b[0;32m--> 112\u001b[0;31m     \u001b[0mresult\u001b[0m\u001b[0;34m.\u001b[0m\u001b[0mcheck_returncode\u001b[0m\u001b[0;34m(\u001b[0m\u001b[0;34m)\u001b[0m\u001b[0;34m\u001b[0m\u001b[0;34m\u001b[0m\u001b[0m\n\u001b[0m\u001b[1;32m    113\u001b[0m   \u001b[0;32mreturn\u001b[0m \u001b[0mresult\u001b[0m\u001b[0;34m\u001b[0m\u001b[0;34m\u001b[0m\u001b[0m\n\u001b[1;32m    114\u001b[0m \u001b[0;34m\u001b[0m\u001b[0m\n",
            "\u001b[0;32m/usr/local/lib/python3.10/dist-packages/google/colab/_system_commands.py\u001b[0m in \u001b[0;36mcheck_returncode\u001b[0;34m(self)\u001b[0m\n\u001b[1;32m    135\u001b[0m   \u001b[0;32mdef\u001b[0m \u001b[0mcheck_returncode\u001b[0m\u001b[0;34m(\u001b[0m\u001b[0mself\u001b[0m\u001b[0;34m)\u001b[0m\u001b[0;34m:\u001b[0m\u001b[0;34m\u001b[0m\u001b[0;34m\u001b[0m\u001b[0m\n\u001b[1;32m    136\u001b[0m     \u001b[0;32mif\u001b[0m \u001b[0mself\u001b[0m\u001b[0;34m.\u001b[0m\u001b[0mreturncode\u001b[0m\u001b[0;34m:\u001b[0m\u001b[0;34m\u001b[0m\u001b[0;34m\u001b[0m\u001b[0m\n\u001b[0;32m--> 137\u001b[0;31m       raise subprocess.CalledProcessError(\n\u001b[0m\u001b[1;32m    138\u001b[0m           \u001b[0mreturncode\u001b[0m\u001b[0;34m=\u001b[0m\u001b[0mself\u001b[0m\u001b[0;34m.\u001b[0m\u001b[0mreturncode\u001b[0m\u001b[0;34m,\u001b[0m \u001b[0mcmd\u001b[0m\u001b[0;34m=\u001b[0m\u001b[0mself\u001b[0m\u001b[0;34m.\u001b[0m\u001b[0margs\u001b[0m\u001b[0;34m,\u001b[0m \u001b[0moutput\u001b[0m\u001b[0;34m=\u001b[0m\u001b[0mself\u001b[0m\u001b[0;34m.\u001b[0m\u001b[0moutput\u001b[0m\u001b[0;34m\u001b[0m\u001b[0;34m\u001b[0m\u001b[0m\n\u001b[1;32m    139\u001b[0m       )\n",
            "\u001b[0;31mCalledProcessError\u001b[0m: Command 'jupyter nbconvert --to html /content/Untitled0.ipynb\n\n#refresh the folder (not the page)\n#download the html\n' returned non-zero exit status 255."
          ]
        }
      ]
    }
  ]
}