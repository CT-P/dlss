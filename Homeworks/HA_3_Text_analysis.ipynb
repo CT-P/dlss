{
  "nbformat": 4,
  "nbformat_minor": 0,
  "metadata": {
    "colab": {
      "provenance": []
    },
    "kernelspec": {
      "name": "python3",
      "display_name": "Python 3"
    },
    "language_info": {
      "name": "python"
    }
  },
  "cells": [
    {
      "cell_type": "markdown",
      "source": [
        "## Homework 3: text analysis with transformers"
      ],
      "metadata": {
        "id": "Aw6RRGsLsMz6"
      }
    },
    {
      "cell_type": "markdown",
      "source": [
        "Download and upzip the file named:  ef616c40-13c0-4212-b7cb-b3d3bbb08bff__2023_05_31T18_07_51.tsv.xz\n",
        "\n",
        "You can find it in OLAT under the materials for the Session 13.\n",
        "\n",
        "You will select part of the data, pre process it and apply a transformer for classification.\n",
        "\n",
        "Source: https://swissdox.linguistik.uzh.ch/"
      ],
      "metadata": {
        "id": "6oyEmDESLnFE"
      }
    },
    {
      "cell_type": "code",
      "execution_count": null,
      "metadata": {
        "id": "k16p0e0isLlH"
      },
      "outputs": [],
      "source": [
        "import pandas as pd\n",
        "#this dataset takes around 7min to laod, although you can start your code even if the whole file isn't loaded in colab environment\n",
        "df=pd.read_csv('/content/ef616c40-13c0-4212-b7cb-b3d3bbb08bff__2023_05_31T18_07_51.tsv', sep='\\t')\n",
        "df.head()"
      ]
    },
    {
      "cell_type": "code",
      "source": [
        "#See the unique rubrics available in the dataset\n",
        "df.rubric.unique()"
      ],
      "metadata": {
        "colab": {
          "base_uri": "https://localhost:8080/"
        },
        "id": "w-cdubiFsvrP",
        "outputId": "5aa6e0e9-4717-4d5b-f78a-240f4debf9e6"
      },
      "execution_count": null,
      "outputs": [
        {
          "output_type": "execute_result",
          "data": {
            "text/plain": [
              "array(['Front', 'Sport', 'Feuilleton', 'Schweiz', 'Wirtschaft',\n",
              "       'International', 'Briefe an die NZZ', 'Zürich und Region',\n",
              "       'Reisen', 'Olympische Winterspiele', 'Meinung und Debatte',\n",
              "       'Geldanlage', 'Literatur und Kunst', 'Panorama',\n",
              "       'Börsen und Märkte', 'Wochenende', 'Reflexe', 'Unternehmenspraxis',\n",
              "       'Gesellschaft', 'NZZ Domizil', 'Anlagefonds', 'Steuern sparen',\n",
              "       'Finanzjahr', 'Fokus der Wirtschaft', 'Weltmeisterschaft',\n",
              "       'Forschung und Technik', 'Mobilität', 'Medien', 'Märkte Panorama',\n",
              "       'NZZ Executive', 'Bildung und Erziehung', 'Lucerne Festival',\n",
              "       'Recht und Gesellschaft', 'Derivate Produkte', nan, 'Grand Basel',\n",
              "       'Beilagen', 'Kunsthandel Auktionen', 'Film', 'Zukunft bauen',\n",
              "       'Outdoor', 'Bildung', 'Prix SVC Wirtschaftsraum Zürich 2020',\n",
              "       '150 Jahre ZKB Verlagsbeilage', 'Art Basel', 'Vermögensverwaltung',\n",
              "       'Zürcher Festspiele', 'Sonderbeilage Vermögensverwaltung',\n",
              "       '300 Jahre Fürstentum Liechtenstein', 'Meinung & Debatte',\n",
              "       'Credit Suisse', 'Wandern/Reisen', 'Finanzprodukte', 'Microsoft',\n",
              "       'NZZ live', 'NZZ Live', 'Sonderbeilage Trittligasse',\n",
              "       'Traueranzeigen', 'NZZ executive', 'Trittligasse'], dtype=object)"
            ]
          },
          "metadata": {},
          "execution_count": 4
        }
      ]
    },
    {
      "cell_type": "markdown",
      "source": [
        "# Q1 (17.5 points)\n",
        "A) Select the rubrics from: 'Schweiz','Zürich und Region', 'Meinung und Debatte'\n",
        "\n",
        "B) Create two arrays, one with the text (cleaned) (this is ***text***) and another with the rubric name (this ***labels***)"
      ],
      "metadata": {
        "id": "3ojvXivKMRB6"
      }
    },
    {
      "cell_type": "code",
      "source": [
        "#A\n",
        "<your-answer>\n"
      ],
      "metadata": {
        "id": "9JnRMffpttsK"
      },
      "execution_count": null,
      "outputs": []
    },
    {
      "cell_type": "code",
      "source": [
        "#B\n",
        "<your-answer>"
      ],
      "metadata": {
        "id": "XWw3w37-MqF3"
      },
      "execution_count": null,
      "outputs": []
    },
    {
      "cell_type": "code",
      "source": [
        "#check their length\n",
        "len(text), len(labels)\n",
        "\n"
      ],
      "metadata": {
        "colab": {
          "base_uri": "https://localhost:8080/"
        },
        "id": "lZi5v2TUuhCE",
        "outputId": "99046176-c1b7-404b-db91-84901799d40c"
      },
      "execution_count": null,
      "outputs": [
        {
          "output_type": "execute_result",
          "data": {
            "text/plain": [
              "(12387, 12387)"
            ]
          },
          "metadata": {},
          "execution_count": 8
        }
      ]
    },
    {
      "cell_type": "code",
      "source": [
        "#See the numebr of news pieces per class\n",
        "import collections, numpy as np\n",
        "counter = collections.Counter(labels)\n",
        "counter"
      ],
      "metadata": {
        "colab": {
          "base_uri": "https://localhost:8080/"
        },
        "id": "5njstAh1yq5t",
        "outputId": "46c239aa-183c-4604-943c-c7a2d4e7ff55"
      },
      "execution_count": null,
      "outputs": [
        {
          "output_type": "execute_result",
          "data": {
            "text/plain": [
              "Counter({'Schweiz': 4522,\n",
              "         'Zürich und Region': 4179,\n",
              "         'Meinung und Debatte': 3686})"
            ]
          },
          "metadata": {},
          "execution_count": 9
        }
      ]
    },
    {
      "cell_type": "markdown",
      "source": [
        "#Q2 (17.5 points)\n",
        "Create directories with the files in the right format for creating keras datasets:\n",
        "\n",
        "swiss_dox_nzz/test/Meinung und Debatte\n",
        "\n",
        "swiss_dox_nzz/test/Zürich und Region\n",
        "\n",
        "swiss_dox_nzz/test/Schweiz\n",
        "\n",
        "The same for train and val, for each class"
      ],
      "metadata": {
        "id": "6UENuhcmO1k8"
      }
    },
    {
      "cell_type": "markdown",
      "source": [
        "#Q3 (17.5 points)\n",
        "Create a dataset from the directory created"
      ],
      "metadata": {
        "id": "ijXxJ_8KNWna"
      }
    },
    {
      "cell_type": "code",
      "source": [
        "<your-answer>"
      ],
      "metadata": {
        "id": "R2Hebvm0NWW7"
      },
      "execution_count": null,
      "outputs": []
    },
    {
      "cell_type": "markdown",
      "source": [
        "#Q4 (17.5 points)\n",
        "Create a model baseline"
      ],
      "metadata": {
        "id": "02UPfSpBNi79"
      }
    },
    {
      "cell_type": "code",
      "source": [],
      "metadata": {
        "id": "6xirqkybNiu-"
      },
      "execution_count": null,
      "outputs": []
    },
    {
      "cell_type": "markdown",
      "source": [
        "#Q5 (17.5 points) \n",
        "Create a Transformer encoder (you might need to define the classes: TransformerEncoder, PositionalEmbedding)"
      ],
      "metadata": {
        "id": "ABcgToTqNrN6"
      }
    },
    {
      "cell_type": "markdown",
      "source": [
        "#Q6 (17.5 points)\n",
        "Apply the model to predict the class of 3 newspieces, one from 'Reisen', one from 'Wochenende', and one from'Sport' rubric categories. \n",
        "\n",
        "Compare the accuracy results for the 3, having in mind the algorithm capabilities. "
      ],
      "metadata": {
        "id": "cXnICF6NPRFN"
      }
    },
    {
      "cell_type": "code",
      "source": [],
      "metadata": {
        "id": "2ps8OMmqPP-7"
      },
      "execution_count": null,
      "outputs": []
    },
    {
      "cell_type": "code",
      "source": [],
      "metadata": {
        "id": "lN6FmUMY--Z4"
      },
      "execution_count": null,
      "outputs": []
    },
    {
      "cell_type": "code",
      "source": [],
      "metadata": {
        "id": "fIHVmXydOYC9"
      },
      "execution_count": null,
      "outputs": []
    },
    {
      "cell_type": "markdown",
      "source": [
        "Deliver"
      ],
      "metadata": {
        "id": "HjeHCZFZOJN6"
      }
    },
    {
      "cell_type": "code",
      "source": [
        "#HOW TO DELIVER: https://stackoverflow.com/questions/53460051/convert-ipynb-notebook-to-html-in-google-colab\n",
        "#download this notebook after all your answers and upload it to the files tab on the left\n",
        "#right click on it to check the path \n",
        "#replace the path ('/content/Untitled0.ipynb') by your file path\n",
        "%%shell\n",
        "jupyter nbconvert --to html /content/Untitled0.ipynb\n",
        "\n",
        "#refresh the folder (not the page)\n",
        "#download the html"
      ],
      "metadata": {
        "id": "pzPppXs2OJ0h"
      },
      "execution_count": null,
      "outputs": []
    }
  ]
}