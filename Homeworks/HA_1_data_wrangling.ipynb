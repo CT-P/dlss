{
  "cells": [
    {
      "cell_type": "markdown",
      "metadata": {
        "id": "S8U-JvQALsIZ"
      },
      "source": [
        "# Homework 1: Data wrangling with python\n",
        "\n",
        "This assignemnet focus on text as data, with groupby, apply, and text vectorization focus.\n",
        "\n",
        "We will work with this dataset: http://groups.di.unipi.it/~gulli/AG_corpus_of_news_articles.html"
      ]
    },
    {
      "cell_type": "code",
      "execution_count": null,
      "metadata": {
        "id": "qsPQlHaQqLs_"
      },
      "outputs": [],
      "source": [
        "#get the dataset for the current directory of this notebook\n",
        "!wget https://raw.githubusercontent.com/mhjabreel/CharCnn_Keras/master/data/ag_news_csv/train.csv\n"
      ]
    },
    {
      "cell_type": "code",
      "execution_count": null,
      "metadata": {
        "id": "EuHmDI6lqWJs"
      },
      "outputs": [],
      "source": [
        "#visualize the data\n",
        "import pandas as pd\n",
        "df = pd.read_csv(\"train.csv\", header=None)\n",
        "df.info()\n",
        "df.head()"
      ]
    },
    {
      "cell_type": "code",
      "execution_count": null,
      "metadata": {
        "id": "MP_H9FpDqzJF"
      },
      "outputs": [],
      "source": [
        "# See how the apply is transforming the dataset\n",
        "df.columns = [\"label\", \"title\", \"lead\"]\n",
        "label_map = {1:\"world\", 2:\"sport\", 3:\"business\", 4:\"sci/tech\"}\n",
        "def replace_label(x):\n",
        "\treturn label_map[x]\n",
        "df[\"label\"] = df[\"label\"].apply(replace_label) "
      ]
    },
    {
      "cell_type": "code",
      "execution_count": null,
      "metadata": {
        "id": "JI1FyObEsXSi"
      },
      "outputs": [],
      "source": [
        "#Print first rows\n",
        "df.head()"
      ]
    },
    {
      "cell_type": "markdown",
      "metadata": {
        "id": "1mQzLHZM4_hb"
      },
      "source": [
        "Question 1 (15 points)\n",
        "\n",
        "implement a new column text which contains the lowercased title and lead"
      ]
    },
    {
      "cell_type": "code",
      "execution_count": null,
      "metadata": {
        "id": "6SdMdF91r8An"
      },
      "outputs": [],
      "source": [
        "# TODO implement a new column text which contains the lowercased title and lead\n"
      ]
    },
    {
      "cell_type": "markdown",
      "metadata": {
        "id": "X0liWjYX5Foz"
      },
      "source": [
        "Question 2 (15 points)\n",
        "\n",
        "print the number of documents for each label"
      ]
    },
    {
      "cell_type": "code",
      "execution_count": null,
      "metadata": {
        "id": "I_j5Ye7WycB2"
      },
      "outputs": [],
      "source": [
        "# TODO print the number of documents for each label\n"
      ]
    },
    {
      "cell_type": "markdown",
      "metadata": {
        "id": "DCX6yNF55HuA"
      },
      "source": [
        "Question 3 (15 points)\n",
        "\n",
        "Create a new column with the number of words for each text"
      ]
    },
    {
      "cell_type": "code",
      "execution_count": null,
      "metadata": {
        "id": "lkB5pRGWxMk4"
      },
      "outputs": [],
      "source": [
        "# TODO create a new column with the number of words for each text\n",
        "\n",
        "\n",
        "\n",
        "\n"
      ]
    },
    {
      "cell_type": "markdown",
      "metadata": {
        "id": "BbD0mW9b5LZL"
      },
      "source": [
        "Question 4 (15 points)\n",
        "\n",
        "plot the average number of words per label "
      ]
    },
    {
      "cell_type": "code",
      "execution_count": null,
      "metadata": {
        "id": "2AhlsmZB5Klq"
      },
      "outputs": [],
      "source": [
        "# TODO plot the average number of words per label \n",
        "# tip: https://queirozf.com/entries/pandas-dataframe-plot-examples-with-matplotlib-pyplot\n"
      ]
    },
    {
      "cell_type": "markdown",
      "metadata": {
        "id": "WTgNvWrx5Pab"
      },
      "source": [
        "Question 5 (15 points)\n",
        "\n",
        "implement a function which counts how often a pattern appears in a text"
      ]
    },
    {
      "cell_type": "code",
      "execution_count": null,
      "metadata": {
        "id": "c-Dy_J3dp4qZ"
      },
      "outputs": [],
      "source": [
        "import re\n",
        "keywords = [\"switzerland\", \"usa\", \"europe\", \"israel\"]\n",
        "for keyword in keywords:\n",
        "    print(keyword)\n",
        "    \n",
        "    def count_keyword_frequencies(x):\n",
        "        #TODO implement a function which counts how often a pattern appears in a text\n",
        "        num_occurrences = x.count(keyword)\n",
        "        return num_occurrences\n",
        "    # Now, we can print how often a keyword appears in the data\n",
        "    print (df[\"text\"].apply(count_keyword_frequencies).sum())\n",
        "    print('\\n')"
      ]
    },
    {
      "cell_type": "markdown",
      "metadata": {
        "id": "QHLBflqMLaxL"
      },
      "source": [
        "Question 6 (15 points)\n",
        "\n",
        "Create a vectorization of the dataset using the SKlearn CountVectorizer with the full vocabulary\n",
        "\n",
        "How long is the vocabulary for the whole dataset?\n",
        "\n",
        "tip: https://scikit-learn.org/stable/modules/generated/sklearn.feature_extraction.text.CountVectorizer.html"
      ]
    },
    {
      "cell_type": "code",
      "execution_count": null,
      "metadata": {
        "id": "P6vLRHaMOCXP"
      },
      "outputs": [],
      "source": [
        "#TODO: Create a vectorization of the dataset using the SKlearn CountVectorizer with the full vocabulary\n",
        "\n",
        "\n",
        "\n"
      ]
    },
    {
      "cell_type": "code",
      "execution_count": null,
      "metadata": {
        "id": "UiG7HOpWPYj4"
      },
      "outputs": [],
      "source": [
        "#TODO: How long is the vocabulary for the whole dataset?\n",
        "\n"
      ]
    },
    {
      "cell_type": "markdown",
      "metadata": {
        "id": "PBZwzwj0LSkx"
      },
      "source": [
        "Question 7 (15 Points)\n",
        "\n",
        "Separate the vectorized dataset into training and testing dataset with a test size of 30%"
      ]
    },
    {
      "cell_type": "code",
      "execution_count": null,
      "metadata": {
        "id": "ZjsqUvECNORt"
      },
      "outputs": [],
      "source": [
        "#TODO: Separate the vectorized dataset into training and testing dataset with a test size of 30%\n",
        "\n",
        "\n",
        "\n"
      ]
    },
    {
      "cell_type": "markdown",
      "metadata": {
        "id": "l6BnoaK-LoFM"
      },
      "source": [
        "Deliver in HTML"
      ]
    },
    {
      "cell_type": "code",
      "execution_count": null,
      "metadata": {
        "id": "Lv6dpCVu3Uho"
      },
      "outputs": [],
      "source": [
        "#HOW TO DELIVER: https://stackoverflow.com/questions/53460051/convert-ipynb-notebook-to-html-in-google-colab\n",
        "#download this notebook after all your answers and upload it to the files tab on the left\n",
        "#right click on it to check the path \n",
        "#replace the path ('/content/Untitled0.ipynb') by your file path\n",
        "%%shell\n",
        "jupyter nbconvert --to html /content/Untitled0.ipynb\n",
        "\n",
        "#refresh the folder (not the page)\n",
        "#download the html"
      ]
    }
  ],
  "metadata": {
    "colab": {
      "provenance": []
    },
    "kernelspec": {
      "display_name": "Python 3",
      "name": "python3"
    },
    "language_info": {
      "name": "python"
    }
  },
  "nbformat": 4,
  "nbformat_minor": 0
}
