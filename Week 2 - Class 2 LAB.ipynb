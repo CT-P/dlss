{
 "cells": [
  {
   "cell_type": "markdown",
   "id": "5eb03263",
   "metadata": {},
   "source": [
    "# Week 2 - Class 2\n",
    "\n",
    "This notebook have a recap of python concepts needed throughout the course"
   ]
  },
  {
   "cell_type": "markdown",
   "id": "8d1e1128",
   "metadata": {},
   "source": [
    "# 1. Mathematical Operations\n"
   ]
  },
  {
   "cell_type": "markdown",
   "id": "62fda550",
   "metadata": {},
   "source": [
    "## 1.1 Complete with mathematical operation equivalent"
   ]
  },
  {
   "cell_type": "code",
   "execution_count": 1,
   "id": "baec12a1",
   "metadata": {},
   "outputs": [
    {
     "ename": "SyntaxError",
     "evalue": "invalid syntax (2839502908.py, line 1)",
     "output_type": "error",
     "traceback": [
      "\u001b[0;36m  Cell \u001b[0;32mIn[1], line 1\u001b[0;36m\u001b[0m\n\u001b[0;31m    print(\"Divide 30 by 6 and sum 5\", <your-answer>)\u001b[0m\n\u001b[0m                                      ^\u001b[0m\n\u001b[0;31mSyntaxError\u001b[0m\u001b[0;31m:\u001b[0m invalid syntax\n"
     ]
    }
   ],
   "source": [
    "print(\"Divide 30 by 6 and sum 5\", <your-answer>)\n",
    "print(\"Sum 34 and 21, divide by 3\", <your-answer>)\n",
    "print(\"Is it true that 3 + 2 < 5 - 7?\", <your-answer>)\n",
    "print(\"Is 5 it greater or equal than -2?\", <your-answer>)"
   ]
  },
  {
   "cell_type": "markdown",
   "id": "13db4494",
   "metadata": {},
   "source": [
    "## 1.2 Variables and printing"
   ]
  },
  {
   "cell_type": "code",
   "execution_count": null,
   "id": "db6902ff",
   "metadata": {},
   "outputs": [
    {
     "ename": "",
     "evalue": "",
     "output_type": "error",
     "traceback": [
      "\u001b[1;31mRunning cells with 'Python 3.8.10 64-bit' requires ipykernel package.\n",
      "\u001b[1;31mRun the following command to install 'ipykernel' into the Python environment. \n",
      "\u001b[1;31mCommand: '/bin/python -m pip install ipykernel -U --user --force-reinstall'"
     ]
    }
   ],
   "source": [
    "my_name = 'Zed A. Shaw'\n",
    "my_age = 35 \n",
    "my_height = 74 # inches\n",
    "\n",
    "\n",
    "print(f\"Let's talk about {my_name}.\")\n",
    "print(f\"He's {my_height} inches tall.\")\n",
    "print(f\"He's {my_age} years old.\")"
   ]
  },
  {
   "cell_type": "markdown",
   "id": "54994c0f",
   "metadata": {},
   "source": [
    "### 1.2.1 "
   ]
  },
  {
   "cell_type": "code",
   "execution_count": null,
   "id": "2909b9f4",
   "metadata": {},
   "outputs": [],
   "source": [
    "print(\"Mary had a little lamb.\")\n",
    "print(\"Its fleece was white as {}.\".format('snow'))\n",
    "print(\"And everywhere that Mary went.\")\n",
    "print(\".\" * 10)  # what'd that do?\n",
    "\n",
    "end1 = \"C\"\n",
    "end2 = \"h\"\n",
    "end3 = \"e\"\n",
    "end4 = \"e\"\n",
    "end5 = \"s\"\n",
    "end6 = \"e\"\n",
    "end7 = \"B\"\n",
    "end8 = \"u\"\n",
    "end9 = \"r\"\n",
    "end10 = \"g\"\n",
    "end11 = \"e\"\n",
    "end12 = \"r\"\n",
    "\n",
    "# watch end = ' ' at the end.  try removing it to see what happens\n",
    "print(end1 + end2 + end3 + end4 + end5 + end6, end=' ')\n",
    "print(end7 + end8 + end9 + end10 + end11 + end12)"
   ]
  },
  {
   "cell_type": "markdown",
   "id": "349d3fd5",
   "metadata": {},
   "source": [
    "## 1.3 Assignment of variables"
   ]
  },
  {
   "cell_type": "code",
   "execution_count": null,
   "id": "f2d48a7a",
   "metadata": {},
   "outputs": [],
   "source": [
    "first, second = 'Grace', 'Hopper'\n",
    "third, fourth = second, first\n",
    "# replace by the variables to have the result: Hopper Grace\n",
    "print(<your-answer>, <your-answer>)"
   ]
  },
  {
   "cell_type": "markdown",
   "id": "fdf25179",
   "metadata": {},
   "source": [
    "## 1.4 Data types"
   ]
  },
  {
   "cell_type": "code",
   "execution_count": null,
   "id": "fae056ec",
   "metadata": {},
   "outputs": [],
   "source": [
    "planet = 'Earth'\n",
    "apples = 5\n",
    "distance = 10.5\n",
    "\n",
    "#add a new cell (Esc+B) and print each variable data type\n",
    "# hint: https://stackoverflow.com/questions/402504/how-to-determine-a-python-variables-type"
   ]
  },
  {
   "cell_type": "markdown",
   "id": "b7429a02",
   "metadata": {},
   "source": [
    "# 2. Array Data"
   ]
  },
  {
   "cell_type": "markdown",
   "id": "3e2ea5a4",
   "metadata": {},
   "source": [
    "## 2.1 Slicing data"
   ]
  },
  {
   "cell_type": "code",
   "execution_count": null,
   "id": "e1fa9d2e",
   "metadata": {},
   "outputs": [],
   "source": [
    "#Search on a search engine how to 'show an image on jupyter notebook'\n",
    "#you have the image file in this directory: 'IMG1_W2.jpg'\n",
    "#hint: https://stackoverflow.com/questions/11854847/how-can-i-display-an-image-from-a-file-in-jupyter-notebook"
   ]
  },
  {
   "cell_type": "code",
   "execution_count": null,
   "id": "2778be58",
   "metadata": {},
   "outputs": [],
   "source": [
    "# loading some data from numpy package\n",
    "# This comman will give an error: How to solve that mistake? what is missing? \n",
    "\n",
    "data = np.loadtxt(fname='data/inflammation-01.csv', delimiter=',')\n"
   ]
  },
  {
   "cell_type": "code",
   "execution_count": null,
   "id": "af939825",
   "metadata": {},
   "outputs": [],
   "source": [
    "# print the data type if data\n",
    "<your-answer>"
   ]
  },
  {
   "cell_type": "code",
   "execution_count": null,
   "id": "9cb30328",
   "metadata": {},
   "outputs": [],
   "source": [
    "# print the data dimensions\n",
    "# hint: you need to know your question, and the data type of what you are dealing \n",
    "# https://stackoverflow.com/questions/3061761/numpy-array-dimensions\n",
    "<your-answer>"
   ]
  },
  {
   "cell_type": "code",
   "execution_count": null,
   "id": "a45d508c",
   "metadata": {},
   "outputs": [],
   "source": [
    "print('first value in data:', <your-answer>)"
   ]
  },
  {
   "cell_type": "code",
   "execution_count": null,
   "id": "18e672a1",
   "metadata": {},
   "outputs": [],
   "source": [
    "print('middle value in data:', <your-answer>)"
   ]
  },
  {
   "cell_type": "code",
   "execution_count": null,
   "id": "64dd2200",
   "metadata": {},
   "outputs": [],
   "source": [
    "print('First 5 rows and first 5 columns', <your-answer>)"
   ]
  },
  {
   "cell_type": "code",
   "execution_count": null,
   "id": "89db1fad",
   "metadata": {},
   "outputs": [],
   "source": [
    "maxval, minval, stdval = numpy.max(data), numpy.min(data), numpy.std(data)\n",
    "\n",
    "print('maximum inflammation:', maxval)\n",
    "print('minimum inflammation:', minval)\n",
    "print('standard deviation:', stdval)"
   ]
  },
  {
   "cell_type": "code",
   "execution_count": null,
   "id": "00e01ab9",
   "metadata": {},
   "outputs": [],
   "source": [
    "# What do the axis mean? Run next cell with your answer\n",
    "print(numpy.mean(data, axis=0))"
   ]
  },
  {
   "cell_type": "code",
   "execution_count": null,
   "id": "2eac09f4",
   "metadata": {},
   "outputs": [],
   "source": [
    "# Show the image 'IMG2_W2.jpg' here"
   ]
  },
  {
   "cell_type": "code",
   "execution_count": null,
   "id": "668337b3",
   "metadata": {},
   "outputs": [],
   "source": [
    "element = 'oxygen'\n",
    "print('first three characters:', <your-answer>)\n",
    "print('last three characters:', <your-answer>)"
   ]
  },
  {
   "cell_type": "code",
   "execution_count": null,
   "id": "f4aaff7d",
   "metadata": {},
   "outputs": [],
   "source": [
    "# plot the column average (next cell)\n",
    "#run this cell first\n",
    "# install matplotlib in the terminal and run this cell again\n",
    "import matplotlib.pyplot as plt"
   ]
  },
  {
   "cell_type": "code",
   "execution_count": null,
   "id": "7b481ebd",
   "metadata": {},
   "outputs": [],
   "source": [
    "avg_inflammation = <your-answer>\n",
    "ave_plot = plt.plot(avg_inflammation)\n",
    "plt.show()"
   ]
  },
  {
   "cell_type": "markdown",
   "id": "22daaba0",
   "metadata": {},
   "source": [
    "# 3. Python Lists"
   ]
  },
  {
   "cell_type": "markdown",
   "id": "0e0ee0b2",
   "metadata": {},
   "source": [
    "Unlike NumPy arrays, lists are built into the language so we do not have to load a library to use them. We create a list by putting values inside square brackets and separating the values with commas:"
   ]
  },
  {
   "cell_type": "code",
   "execution_count": null,
   "id": "fa36eb0e",
   "metadata": {},
   "outputs": [],
   "source": [
    "odds = [1, 3, 5, 7]\n",
    "print('odds are:', odds)"
   ]
  },
  {
   "cell_type": "code",
   "execution_count": null,
   "id": "2f691883",
   "metadata": {},
   "outputs": [],
   "source": [
    "print('first element:', <your-answer>)\n",
    "print('last element:', <your-answer>)\n",
    "print('\"-1\" element:', <your-answer>)"
   ]
  },
  {
   "cell_type": "code",
   "execution_count": null,
   "id": "3a2608f9",
   "metadata": {},
   "outputs": [],
   "source": [
    "names = ['Curie', 'Darwing', 'Turing']  # typo in Darwin's name\n",
    "print('names is originally:', names)\n",
    "# Change (assign) the second name on names list to 'Darwin' \n",
    "<your-answer> \n",
    "print('final value of names:', names)\n"
   ]
  },
  {
   "cell_type": "markdown",
   "id": "41faf842",
   "metadata": {},
   "source": [
    "## 3.1 Mutable and imutable"
   ]
  },
  {
   "cell_type": "markdown",
   "id": "1a410680",
   "metadata": {},
   "source": [
    "Be careful when modifying data in-place. If two variables refer to the same list, and you modify the list value, it will change for both variables!\n"
   ]
  },
  {
   "cell_type": "code",
   "execution_count": null,
   "id": "a1535c80",
   "metadata": {},
   "outputs": [],
   "source": [
    "salsa = ['peppers', 'onions', 'cilantro', 'tomatoes']\n",
    "my_salsa = salsa        # <-- my_salsa and salsa point to the *same* list data in memory\n",
    "salsa[0] = 'hot peppers'\n",
    "print('Ingredients in my salsa:', my_salsa)\n"
   ]
  },
  {
   "cell_type": "markdown",
   "id": "892de6b1",
   "metadata": {},
   "source": [
    "If you want variables with mutable values to be independent, you must make a copy of the value when you assign it.\n",
    "\n"
   ]
  },
  {
   "cell_type": "code",
   "execution_count": null,
   "id": "0a4a766f",
   "metadata": {},
   "outputs": [],
   "source": [
    "salsa = ['peppers', 'onions', 'cilantro', 'tomatoes']\n",
    "my_salsa = list(salsa)        # <-- makes a *copy* of the list\n",
    "salsa[0] = 'hot peppers'\n",
    "print('Ingredients in my salsa:', my_salsa)"
   ]
  },
  {
   "cell_type": "markdown",
   "id": "c1f999a4",
   "metadata": {},
   "source": [
    "## 3.2 Nested Lists"
   ]
  },
  {
   "cell_type": "code",
   "execution_count": null,
   "id": "935f21fb",
   "metadata": {},
   "outputs": [],
   "source": [
    "x = [['pepper', 'zucchini', 'onion'],\n",
    "     ['cabbage', 'lettuce', 'garlic'],\n",
    "     ['apple', 'pear', 'banana']]\n"
   ]
  },
  {
   "cell_type": "code",
   "execution_count": null,
   "id": "cd19f470",
   "metadata": {},
   "outputs": [],
   "source": [
    "print(x[0])"
   ]
  },
  {
   "cell_type": "code",
   "execution_count": null,
   "id": "26a05a66",
   "metadata": {},
   "outputs": [],
   "source": [
    "print(x[0][0])"
   ]
  },
  {
   "cell_type": "code",
   "execution_count": null,
   "id": "dd5463fb",
   "metadata": {},
   "outputs": [],
   "source": [
    "#Print lettuce\n",
    "<your-answer> "
   ]
  },
  {
   "cell_type": "markdown",
   "id": "e48eefcb",
   "metadata": {},
   "source": [
    "## 3.3 Add list items"
   ]
  },
  {
   "cell_type": "code",
   "execution_count": null,
   "id": "9df898da",
   "metadata": {},
   "outputs": [],
   "source": [
    "# Add an element at the end\n",
    "thislist = [\"apple\", \"banana\", \"cherry\"]\n",
    "thislist.append(\"orange\")\n",
    "print(thislist)"
   ]
  },
  {
   "cell_type": "code",
   "execution_count": null,
   "id": "3b464e16",
   "metadata": {},
   "outputs": [],
   "source": [
    "# Add an element at a given position: add orange in the second position\n",
    "# search: \"add element in lost at a given position python\" and choose the stackoverflow link\n",
    "thislist = [\"apple\", \"banana\", \"cherry\"]\n",
    "<your-answer> \n",
    "print(thislist)"
   ]
  },
  {
   "cell_type": "code",
   "execution_count": null,
   "id": "a2c79e32",
   "metadata": {},
   "outputs": [],
   "source": [
    "# Remove the last element of a list\n",
    "<your-answer> \n"
   ]
  },
  {
   "cell_type": "code",
   "execution_count": null,
   "id": "3e4e0645",
   "metadata": {},
   "outputs": [],
   "source": [
    "# Remove the first element of a list\n",
    "<your-answer> \n"
   ]
  },
  {
   "cell_type": "code",
   "execution_count": null,
   "id": "35b73844",
   "metadata": {},
   "outputs": [],
   "source": [
    "thislist = [\"apple\", \"banana\", \"cherry\"]\n",
    "for i in range(len(thislist)):\n",
    "  print(thislist[i])"
   ]
  },
  {
   "cell_type": "code",
   "execution_count": null,
   "id": "42de8639",
   "metadata": {},
   "outputs": [],
   "source": [
    "#print the first and last character for each element in the list thislist"
   ]
  },
  {
   "cell_type": "markdown",
   "id": "cf94403d",
   "metadata": {},
   "source": [
    "# 4. Tuples"
   ]
  },
  {
   "cell_type": "markdown",
   "id": "0257f0e9",
   "metadata": {},
   "source": [
    "Tuples are used to store multiple items in a single variable.\n",
    "\n",
    "Tuple is one of 4 built-in data types in Python used to store collections of data, the other 3 are List, Set, and Dictionary, all with different qualities and usage.\n",
    "\n",
    "A tuple is a collection which is ordered and unchangeable.\n",
    "\n",
    "Tuples are written with round brackets"
   ]
  },
  {
   "cell_type": "markdown",
   "id": "6904005f",
   "metadata": {},
   "source": [
    "### Tuple Items\n",
    "Tuple items are ordered, unchangeable, and allow duplicate values.\n",
    "\n",
    "Tuple items are indexed, the first item has index [0], the second item has index [1] etc.\n",
    "\n",
    "### Ordered\n",
    "When we say that tuples are ordered, it means that the items have a defined order, and that order will not change.\n",
    "\n",
    "### Unchangeable\n",
    "Tuples are unchangeable, meaning that we cannot change, add or remove items after the tuple has been created.\n",
    "\n",
    "### Allow Duplicates\n",
    "Since tuples are indexed, they can have items with the same value"
   ]
  },
  {
   "cell_type": "code",
   "execution_count": null,
   "id": "5c36ecfc",
   "metadata": {},
   "outputs": [],
   "source": [
    "thistuple = (\"apple\", \"banana\", \"cherry\", \"apple\", \"cherry\")\n",
    "print(thistuple)\n"
   ]
  },
  {
   "cell_type": "code",
   "execution_count": null,
   "id": "8b3ce2eb",
   "metadata": {},
   "outputs": [],
   "source": [
    "# how to change tuples?\n",
    "thistuple = (\"apple\", \"banana\", \"cherry\")\n",
    "y = list(thistuple)\n",
    "y.append(\"orange\")\n",
    "thistuple = tuple(y)"
   ]
  },
  {
   "cell_type": "markdown",
   "id": "9810c222",
   "metadata": {},
   "source": [
    "# 5. Sets"
   ]
  },
  {
   "cell_type": "markdown",
   "id": "148e044e",
   "metadata": {},
   "source": [
    "Sets cannot have two items with the same value."
   ]
  },
  {
   "cell_type": "code",
   "execution_count": null,
   "id": "115bb84b",
   "metadata": {},
   "outputs": [],
   "source": [
    "thisset = {\"apple\", \"banana\", \"cherry\"}\n",
    "mylist = [\"kiwi\", \"orange\"]\n",
    "\n",
    "thisset.update(mylist)\n",
    "\n",
    "print(thisset)"
   ]
  },
  {
   "cell_type": "code",
   "execution_count": null,
   "id": "0ff2d484",
   "metadata": {},
   "outputs": [],
   "source": [
    "thisset = {\"apple\", \"banana\", \"cherry\"}\n",
    "\n",
    "thisset.add(\"orange\")\n",
    "\n",
    "print(thisset)"
   ]
  },
  {
   "cell_type": "code",
   "execution_count": null,
   "id": "ecb6c0c8",
   "metadata": {},
   "outputs": [],
   "source": [
    "set1 = {\"a\", \"b\" , \"c\"}\n",
    "set2 = {1, 2, 3}\n",
    "\n",
    "set3 = set1.union(set2)\n",
    "print(set3)"
   ]
  },
  {
   "cell_type": "markdown",
   "id": "ed0d072f",
   "metadata": {},
   "source": [
    "# 6. Dictionaries"
   ]
  },
  {
   "cell_type": "markdown",
   "id": "9369ecb1",
   "metadata": {},
   "source": [
    "Dictionaries are used to store data values in key:value pairs.\n",
    "\n",
    "A dictionary is a collection which is ordered*, changeable and do not allow duplicates."
   ]
  },
  {
   "cell_type": "code",
   "execution_count": null,
   "id": "5544f549",
   "metadata": {},
   "outputs": [],
   "source": [
    "thisdict = {\n",
    "  \"brand\": \"Ford\",\n",
    "  \"model\": \"Mustang\",\n",
    "  \"year\": 1964\n",
    "}\n",
    "print(thisdict[\"brand\"])"
   ]
  },
  {
   "cell_type": "code",
   "execution_count": null,
   "id": "a0aee139",
   "metadata": {},
   "outputs": [],
   "source": [
    "thisdict.get(\"model\")\n"
   ]
  },
  {
   "cell_type": "code",
   "execution_count": null,
   "id": "4abe5cd9",
   "metadata": {},
   "outputs": [],
   "source": [
    "thisdict.keys()\n"
   ]
  },
  {
   "cell_type": "code",
   "execution_count": null,
   "id": "e65ca8b6",
   "metadata": {},
   "outputs": [],
   "source": [
    "child1 = {\n",
    "  \"name\" : \"Emil\",\n",
    "  \"year\" : 2004\n",
    "}\n",
    "child2 = {\n",
    "  \"name\" : \"Tobias\",\n",
    "  \"year\" : 2007\n",
    "}\n",
    "child3 = {\n",
    "  \"name\" : \"Linus\",\n",
    "  \"year\" : 2011\n",
    "}\n",
    "\n",
    "myfamily = {\n",
    "  \"child1\" : child1,\n",
    "  \"child2\" : child2,\n",
    "  \"child3\" : child3\n",
    "}"
   ]
  },
  {
   "cell_type": "code",
   "execution_count": null,
   "id": "c291dbca",
   "metadata": {},
   "outputs": [],
   "source": [
    "#print 2011\n",
    "<your-answer>"
   ]
  },
  {
   "cell_type": "markdown",
   "id": "dd6f8b6a",
   "metadata": {},
   "source": [
    "# 7. For Loops"
   ]
  },
  {
   "cell_type": "code",
   "execution_count": null,
   "id": "f65b2221",
   "metadata": {},
   "outputs": [],
   "source": [
    "odds = [1, 3, 5, 7]\n",
    "print(odds[0])\n",
    "print(odds[1])\n",
    "print(odds[2])\n",
    "print(odds[3])"
   ]
  },
  {
   "cell_type": "code",
   "execution_count": null,
   "id": "6007b112",
   "metadata": {},
   "outputs": [],
   "source": [
    "Image(filename='data/IMG3_W2.jpg') "
   ]
  },
  {
   "cell_type": "code",
   "execution_count": null,
   "id": "0ba9889f",
   "metadata": {},
   "outputs": [],
   "source": [
    "#For cycle/loop\n",
    "for num in odds:\n",
    "    print(num)"
   ]
  },
  {
   "cell_type": "code",
   "execution_count": null,
   "id": "554da068",
   "metadata": {},
   "outputs": [],
   "source": [
    "#Print the square value for each of the elements in odds array\n",
    "<your-answer> "
   ]
  },
  {
   "cell_type": "markdown",
   "id": "0e780f52",
   "metadata": {},
   "source": [
    "The glob library contains a function, also called glob, that finds files and directories whose names match a pattern. We provide those patterns as strings: the character * matches zero or more characters, while ? matches any one character. We can use this to get the names of all the CSV files in the current directory:"
   ]
  },
  {
   "cell_type": "code",
   "execution_count": null,
   "id": "29b13d74",
   "metadata": {},
   "outputs": [],
   "source": [
    "import glob"
   ]
  },
  {
   "cell_type": "code",
   "execution_count": null,
   "id": "0b262c7a",
   "metadata": {},
   "outputs": [],
   "source": [
    "print(glob.glob('data/inflammation*.csv'))"
   ]
  },
  {
   "cell_type": "code",
   "execution_count": null,
   "id": "4bfb8f8a",
   "metadata": {},
   "outputs": [],
   "source": [
    "#this peace of code has some errors due to package names defined in this notebook\n",
    "#correct the package names and run it\n",
    "\n",
    "filenames = sorted(glob.glob('inflammation*.csv'))\n",
    "filenames = filenames[0:3]\n",
    "for filename in filenames:\n",
    "    print(filename)\n",
    "\n",
    "    data = numpy.loadtxt(fname=filename, delimiter=',')\n",
    "\n",
    "    fig = matplotlib.pyplot.figure(figsize=(10.0, 3.0))\n",
    "\n",
    "    axes1 = fig.add_subplot(1, 3, 1)\n",
    "    axes2 = fig.add_subplot(1, 3, 2)\n",
    "    axes3 = fig.add_subplot(1, 3, 3)\n",
    "\n",
    "    axes1.set_ylabel('average')\n",
    "    axes1.plot(numpy.mean(data, axis=0))\n",
    "\n",
    "    axes2.set_ylabel('max')\n",
    "    axes2.plot(numpy.max(data, axis=0))\n",
    "\n",
    "    axes3.set_ylabel('min')\n",
    "    axes3.plot(numpy.min(data, axis=0))\n",
    "\n",
    "    fig.tight_layout()\n",
    "    matplotlib.pyplot.show()"
   ]
  },
  {
   "cell_type": "markdown",
   "id": "7bc9d8a6",
   "metadata": {},
   "source": [
    "# 8. Conditionals: if statement"
   ]
  },
  {
   "cell_type": "markdown",
   "id": "a6266efa",
   "metadata": {},
   "source": [
    "We can ask Python to take different actions, depending on a condition, with an if statement:"
   ]
  },
  {
   "cell_type": "code",
   "execution_count": null,
   "id": "e4f8d60f",
   "metadata": {},
   "outputs": [],
   "source": [
    "num = 37\n",
    "if num > 100:\n",
    "    print('greater')\n",
    "else:\n",
    "    print('not greater')\n",
    "print('done')"
   ]
  },
  {
   "cell_type": "markdown",
   "id": "4553c3b4",
   "metadata": {},
   "source": [
    "The second line of this code uses the keyword if to tell Python that we want to make a choice. If the test that follows the if statement is true, the body of the if (i.e., the set of lines indented underneath it) is executed, and “greater” is printed. If the test is false, the body of the else is executed instead, and “not greater” is printed. Only one or the other is ever executed before continuing on with program execution to print “done”:"
   ]
  },
  {
   "cell_type": "code",
   "execution_count": null,
   "id": "6c810339",
   "metadata": {},
   "outputs": [],
   "source": [
    "Image(filename='IMG4_W2.jpg') "
   ]
  },
  {
   "cell_type": "code",
   "execution_count": null,
   "id": "7545c786",
   "metadata": {},
   "outputs": [],
   "source": [
    "num = -3\n",
    "\n",
    "if <your-answer> :\n",
    "    print(num, 'is positive')\n",
    "elif <your-answer> :\n",
    "    print(num, 'is zero')\n",
    "else:\n",
    "    print(num, 'is negative')"
   ]
  },
  {
   "cell_type": "markdown",
   "id": "cbe45785",
   "metadata": {},
   "source": [
    "Your solution should:\n",
    "\n",
    "loop over the names of the files\n",
    "figure out which group each filename belongs in\n",
    "append the filename to that list\n",
    "In the end the three lists should be:\n",
    "\n",
    "large_files = ['inflammation-01.csv', 'inflammation-02.csv']\n",
    "\n",
    "small_files = ['small-01.csv', 'small-02.csv']\n",
    "\n",
    "other_files = ['myscript.py']"
   ]
  },
  {
   "cell_type": "code",
   "execution_count": null,
   "id": "e6777945",
   "metadata": {},
   "outputs": [],
   "source": [
    "filenames = ['inflammation-01.csv',\n",
    "         'myscript.py',\n",
    "         'inflammation-02.csv',\n",
    "         'small-01.csv',\n",
    "         'small-02.csv']\n",
    "large_files = []\n",
    "small_files = []\n",
    "other_files = []"
   ]
  },
  {
   "cell_type": "code",
   "execution_count": null,
   "id": "7f7da6bf",
   "metadata": {},
   "outputs": [],
   "source": [
    "for ... <your-answer>\n",
    "\n",
    "print('large_files:', large_files)\n",
    "print('small_files:', small_files)\n",
    "print('other_files:', other_files)"
   ]
  },
  {
   "cell_type": "markdown",
   "id": "8bee8b44",
   "metadata": {},
   "source": [
    "# 9. List comprehension"
   ]
  },
  {
   "cell_type": "code",
   "execution_count": null,
   "id": "beb98ff8",
   "metadata": {},
   "outputs": [],
   "source": [
    "# For loops in lists\n",
    "thislist = [\"apple\", \"banana\", \"cherry\"]\n",
    "for x in thislist:\n",
    "  print(x)"
   ]
  },
  {
   "cell_type": "code",
   "execution_count": null,
   "id": "68faec42",
   "metadata": {},
   "outputs": [],
   "source": [
    "fruits = [\"apple\", \"banana\", \"cherry\", \"kiwi\", \"mango\"]\n",
    "newlist = []\n",
    "\n",
    "#create a newlist with the fruits with 'a' in their name\n",
    "<your-answer> \n",
    "\n",
    "print(newlist)"
   ]
  },
  {
   "cell_type": "code",
   "execution_count": null,
   "id": "1dbb69da",
   "metadata": {},
   "outputs": [],
   "source": [
    "# Faster way to do it with list comprehension:\n",
    "fruits = [\"apple\", \"banana\", \"cherry\", \"kiwi\", \"mango\"]\n",
    "\n",
    "newlist = [x for x in fruits if \"a\" in x]\n",
    "\n",
    "print(newlist)"
   ]
  },
  {
   "cell_type": "markdown",
   "id": "58ab366a",
   "metadata": {},
   "source": [
    "newlist = [expression for item in iterable if condition == True]"
   ]
  },
  {
   "cell_type": "code",
   "execution_count": null,
   "id": "18446973",
   "metadata": {},
   "outputs": [],
   "source": [
    "[x for x in fruits if x != \"apple\"]"
   ]
  },
  {
   "cell_type": "code",
   "execution_count": null,
   "id": "4e9534ff",
   "metadata": {},
   "outputs": [],
   "source": [
    "[x for x in fruits]"
   ]
  },
  {
   "cell_type": "code",
   "execution_count": null,
   "id": "4442fa7a",
   "metadata": {},
   "outputs": [],
   "source": [
    "[x for x in range(10)]"
   ]
  },
  {
   "cell_type": "code",
   "execution_count": null,
   "id": "841bd21e",
   "metadata": {},
   "outputs": [],
   "source": [
    "[x for x in range(10) if x < 5]"
   ]
  },
  {
   "cell_type": "code",
   "execution_count": null,
   "id": "928eae8c",
   "metadata": {},
   "outputs": [],
   "source": [
    "[x.upper() for x in fruits]"
   ]
  },
  {
   "cell_type": "code",
   "execution_count": null,
   "id": "7c18d26f",
   "metadata": {},
   "outputs": [],
   "source": [
    "['hello' for x in fruits]"
   ]
  },
  {
   "cell_type": "code",
   "execution_count": null,
   "id": "985a16fd",
   "metadata": {},
   "outputs": [],
   "source": [
    "[x if x != \"banana\" else \"orange\" for x in fruits]"
   ]
  },
  {
   "cell_type": "code",
   "execution_count": null,
   "id": "1a121b81",
   "metadata": {},
   "outputs": [],
   "source": [
    "# How do you flatten a nested list?\n",
    "#hint: https://stackoverflow.com/questions/20112776/how-do-i-flatten-a-list-of-lists-nested-lists\n",
    "x = [['pepper', 'zucchini', 'onion'],\n",
    "     ['cabbage', 'lettuce', 'garlic'],\n",
    "     ['apple', 'pear', 'banana']]\n",
    "\n",
    "<your-answer> "
   ]
  },
  {
   "cell_type": "code",
   "execution_count": null,
   "id": "f339cfbb",
   "metadata": {},
   "outputs": [],
   "source": [
    "# create this matrix:\n",
    "# [[0, 1, 2, 3, 4], [0, 1, 2, 3, 4], [0, 1, 2, 3, 4]]\n",
    "\n",
    "<your-answer> "
   ]
  },
  {
   "cell_type": "markdown",
   "id": "613d4ad2",
   "metadata": {},
   "source": [
    "# 10. Functions"
   ]
  },
  {
   "cell_type": "markdown",
   "id": "dd7e24b5",
   "metadata": {},
   "source": [
    "The function definition opens with the keyword def followed by the name of the function (fahr_to_celsius) and a parenthesized list of parameter names (temp). The body of the function — the statements that are executed when it runs — is indented below the definition line. The body concludes with a return keyword followed by the return value.\n",
    "\n",
    "When we call the function, the values we pass to it are assigned to those variables so that we can use them inside the function. Inside the function, we use a return statement to send a result back to whoever asked for it"
   ]
  },
  {
   "cell_type": "code",
   "execution_count": null,
   "id": "ba4319a9",
   "metadata": {},
   "outputs": [],
   "source": [
    "def fahr_to_celsius(temp):\n",
    "    return ((temp - 32) * (5/9))\n"
   ]
  },
  {
   "cell_type": "markdown",
   "id": "9742a999",
   "metadata": {},
   "source": [
    "Write a function rescale that takes an array as input and returns a corresponding array of values scaled to lie in the range 0.0 to 1.0. (Hint: If L and H are the lowest and highest values in the original array, then the replacement for a value v should be (v-L) / (H-L).)"
   ]
  },
  {
   "cell_type": "code",
   "execution_count": null,
   "id": "2de9f5ed",
   "metadata": {},
   "outputs": [],
   "source": [
    "\n",
    "def rescale(input_array):\n",
    "    \"\"\"Takes an 1D array as input, and returns a corresponding array scaled so\n",
    "    that 0 corresponds to the minimum and 1 to the maximum value of the input array.\n",
    "\n",
    "    Examples:\n",
    "    >>> rescale(numpy.arange(10.0))\n",
    "    array([ 0.        ,  0.11111111,  0.22222222,  0.33333333,  0.44444444,\n",
    "           0.55555556,  0.66666667,  0.77777778,  0.88888889,  1.        ])\n",
    "    >>> rescale(numpy.linspace(0, 100, 5))\n",
    "    array([ 0.  ,  0.25,  0.5 ,  0.75,  1.  ])\n",
    "    \"\"\"\n",
    "    <your-answer>\n",
    "    \n",
    "    return "
   ]
  },
  {
   "cell_type": "code",
   "execution_count": 4,
   "id": "e68afdaa",
   "metadata": {},
   "outputs": [
    {
     "data": {
      "text/plain": [
       "array([  0.,  25.,  50.,  75., 100.])"
      ]
     },
     "execution_count": 4,
     "metadata": {},
     "output_type": "execute_result"
    }
   ],
   "source": [
<<<<<<< HEAD
    "import numpy as np\n",
=======
>>>>>>> a2ec677 (just labs and gitatt)
    "np.linspace(0, 100, 5)"
   ]
  },
  {
   "cell_type": "code",
   "execution_count": null,
   "id": "7c8c0c5b",
   "metadata": {},
   "outputs": [],
   "source": [
    "help(rescale)"
   ]
  },
  {
   "cell_type": "markdown",
   "id": "ad025e71",
   "metadata": {},
   "source": [
    "## 10.1 Print versus return"
   ]
  },
  {
   "cell_type": "code",
   "execution_count": null,
   "id": "49d8be32",
   "metadata": {},
   "outputs": [],
   "source": [
    "def add(a, b):\n",
    "    print(a + b)"
   ]
  },
  {
   "cell_type": "code",
   "execution_count": null,
   "id": "22df0d97",
   "metadata": {},
   "outputs": [],
   "source": [
    "A = add(7, 3)\n",
    "print(A)"
   ]
  },
  {
   "cell_type": "code",
   "execution_count": null,
   "id": "57d46dd7",
   "metadata": {},
   "outputs": [],
   "source": [
    "def add2(a, b):\n",
    "    return a + b"
   ]
  },
  {
   "cell_type": "code",
   "execution_count": null,
   "id": "7df7f79e",
   "metadata": {},
   "outputs": [],
   "source": [
    "A = add2(7, 3)\n",
    "print(A)"
   ]
  },
  {
   "cell_type": "markdown",
   "id": "cc32622f",
   "metadata": {},
   "source": [
    "## 10.2 Code structure"
   ]
  },
  {
   "cell_type": "code",
   "execution_count": null,
   "id": "5caa702d",
   "metadata": {},
   "outputs": [],
   "source": [
    "def visualize(filename):\n",
    "\n",
    "    data = np.loadtxt(fname=filename, delimiter=',')\n",
    "\n",
    "    fig = plt.figure(figsize=(10.0, 3.0))\n",
    "\n",
    "    axes1 = fig.add_subplot(1, 3, 1)\n",
    "    axes2 = fig.add_subplot(1, 3, 2)\n",
    "    axes3 = fig.add_subplot(1, 3, 3)\n",
    "\n",
    "    axes1.set_ylabel('average')\n",
    "    axes1.plot(np.mean(data, axis=0))\n",
    "\n",
    "    axes2.set_ylabel('max')\n",
    "    axes2.plot(np.max(data, axis=0))\n",
    "\n",
    "    axes3.set_ylabel('min')\n",
    "    axes3.plot(np.min(data, axis=0))\n",
    "\n",
    "    fig.tight_layout()\n",
    "    plt.show()\n"
   ]
  },
  {
   "cell_type": "code",
   "execution_count": null,
   "id": "355e3e74",
   "metadata": {},
   "outputs": [],
   "source": [
    "filenames = sorted(glob.glob('data/inflammation*.csv'))\n",
    "\n",
    "for filename in filenames[:3]:\n",
    "    print(filename)\n",
    "    visualize(filename)"
   ]
  },
  {
   "cell_type": "code",
   "execution_count": null,
   "id": "be65cd7e",
   "metadata": {},
   "outputs": [],
   "source": [
    "# Put the function visualize inside a file utils.py\n",
    "# restart the notebook\n",
    "# import the file \n",
    "# use the function in this notebook without defining it\n",
    "\n",
    "<your-answer>"
   ]
  },
  {
   "cell_type": "markdown",
   "id": "c491cafd",
   "metadata": {},
   "source": [
    "# 11. Lambda"
   ]
  },
  {
   "cell_type": "markdown",
   "id": "51f88c82",
   "metadata": {},
   "source": [
    "A lambda function is a small anonymous function.\n",
    "\n",
    "A lambda function can take any number of arguments, but can only have one expression."
   ]
  },
  {
   "cell_type": "code",
   "execution_count": null,
   "id": "085c444c",
   "metadata": {},
   "outputs": [],
   "source": [
    "#anonymous function\n",
    "x = lambda a : a + 10\n",
    "print(x(5))"
   ]
  },
  {
   "cell_type": "code",
   "execution_count": null,
   "id": "11965c10",
   "metadata": {},
   "outputs": [],
   "source": [
    "x = lambda a, b : a * b\n",
    "print(x(5, 6))"
   ]
  },
  {
   "cell_type": "code",
   "execution_count": null,
   "id": "0864014c",
   "metadata": {},
   "outputs": [],
   "source": [
    "x = lambda a, b, c : a + b + c\n",
    "print(x(5, 6, 2))"
   ]
  },
  {
   "cell_type": "code",
   "execution_count": 5,
   "id": "80054c55",
   "metadata": {},
   "outputs": [
    {
     "name": "stdout",
     "output_type": "stream",
     "text": [
      "22\n",
      "33\n"
     ]
    }
   ],
   "source": [
    "# giving a name to lambda\n",
    "def myfunc(n):\n",
    "  return lambda a : a * n\n",
    "\n",
    "mydoubler = myfunc(2)\n",
    "mytripler = myfunc(3)\n",
    "\n",
    "print(mydoubler(11))\n",
    "print(mytripler(11))\n"
   ]
  },
  {
   "cell_type": "markdown",
   "id": "6d50a460",
   "metadata": {},
   "source": [
    "# 12. Classes/Objects"
   ]
  },
  {
   "cell_type": "markdown",
   "id": "453c6e1a",
   "metadata": {},
   "source": [
    "Python is an object oriented programming language.\n",
    "\n",
    "Almost everything in Python is an object, with its properties and methods.\n",
    "\n",
    "A Class is like an object constructor, or a \"blueprint\" for creating objects."
   ]
  },
  {
   "cell_type": "code",
   "execution_count": null,
   "id": "304f45a0",
   "metadata": {},
   "outputs": [],
   "source": [
    "class MyClass:\n",
    "  x = 5"
   ]
  },
  {
   "cell_type": "code",
   "execution_count": null,
   "id": "80277f75",
   "metadata": {},
   "outputs": [],
   "source": [
    "p1 = MyClass()\n",
    "print(p1.x)"
   ]
  },
  {
   "cell_type": "markdown",
   "id": "31ca9f51",
   "metadata": {},
   "source": [
    "## 12.1 Built-in __init()__"
   ]
  },
  {
   "cell_type": "markdown",
   "id": "2605d66a",
   "metadata": {},
   "source": [
    "All classes have a function called __init__(), which is always executed when the class is being initiated.\n",
    "\n",
    "Use the __init__() function to assign values to object properties, or other operations that are necessary to do when the object is being created:\n",
    "\n"
   ]
  },
  {
   "cell_type": "code",
   "execution_count": null,
   "id": "75e14c45",
   "metadata": {},
   "outputs": [],
   "source": [
    "class Person:\n",
    "  def __init__(self, name, age):\n",
    "    self.name = name\n",
    "    self.age = age\n",
    "\n",
    "p1 = Person(\"John\", 36)\n",
    "\n",
    "print(p1.name)\n",
    "print(p1.age)"
   ]
  },
  {
   "cell_type": "code",
   "execution_count": null,
   "id": "1276ac7d",
   "metadata": {},
   "outputs": [],
   "source": [
    "class Person:\n",
    "  def __init__(self, name, age):\n",
    "    self.name = name\n",
    "    self.age = age\n",
    "\n",
    "p1 = Person(\"John\", 36)\n",
    "\n",
    "print(p1)"
   ]
  },
  {
   "cell_type": "code",
   "execution_count": null,
   "id": "d772fd27",
   "metadata": {},
   "outputs": [],
   "source": [
    "class Person:\n",
    "  def __init__(self, name, age):\n",
    "    self.name = name\n",
    "    self.age = age\n",
    "\n",
    "  def myfunc(self):\n",
    "    print(\"Hello my name is \" + self.name)\n",
    "\n",
    "p1 = Person(\"John\", 36)\n",
    "p1.myfunc()"
   ]
  },
  {
   "cell_type": "code",
   "execution_count": null,
   "id": "10a62c40",
   "metadata": {},
   "outputs": [],
   "source": [
    "# base class\n",
    "class Animal:\n",
    "    \n",
    "    def eat(self):\n",
    "        print( \"I can eat!\")\n",
    "    \n",
    "    def sleep(self):\n",
    "        print(\"I can sleep!\")\n",
    "\n",
    "# derived class\n",
    "class Dog(Animal):\n",
    "    \n",
    "    def bark(self):\n",
    "        print(\"I can bark! Woof woof!!\")\n",
    "\n",
    "# Create object of the Dog class\n",
    "dog1 = Dog()\n",
    "\n",
    "# Calling members of the base class\n",
    "dog1.eat()\n",
    "dog1.sleep()\n",
    "\n",
    "# Calling member of the derived class\n",
    "dog1.bark();"
   ]
  },
  {
   "cell_type": "code",
   "execution_count": null,
   "id": "81c8b1af",
   "metadata": {},
   "outputs": [],
   "source": [
    "#polymorphism\n",
    "\n",
    "class Polygon:\n",
    "    # method to render a shape\n",
    "    def render(self):\n",
    "        print(\"Rendering Polygon...\")\n",
    "\n",
    "class Square(Polygon):\n",
    "    # renders Square\n",
    "    def render(self):\n",
    "        print(\"Rendering Square...\")\n",
    "\n",
    "class Circle(Polygon):\n",
    "    # renders circle\n",
    "    def render(self):\n",
    "        print(\"Rendering Circle...\")\n",
    "    \n",
    "# create an object of Square\n",
    "s1 = Square()\n",
    "s1.render()\n",
    "\n",
    "# create an object of Circle\n",
    "c1 = Circle()\n",
    "c1.render()"
   ]
  },
  {
   "cell_type": "code",
   "execution_count": null,
   "id": "94bf76df",
   "metadata": {},
   "outputs": [],
   "source": [
    "class Car:\n",
    "    def __init__():\n",
    "        self.color = \"Red\" # ends up on the object\n",
    "        make = \"Mercedes\" # becomes a local variable in the constructor\n",
    "\n",
    "car = Car()\n",
    "print(car.color) # \"Red\"\n",
    "print(car.make) # would result in an error, `make` does not exist on the object"
   ]
  },
  {
   "cell_type": "code",
   "execution_count": null,
   "id": "323d7ac2",
   "metadata": {},
   "outputs": [],
   "source": [
    "class Participant:\n",
    "    def __init__(self, name):\n",
    "        self.name = name\n",
    "        self.points = 0\n",
    "        self.choice = \"\"\n",
    "        \n",
    "    def choose(self):\n",
    "        self.choice = input(\"{name}, select rock, paper or scissor: \".format(name=self.name))\n",
    "        print(\"{name} selects {choice}\".format(name=self.name, choice=self.choice))\n",
    "        \n",
    "    def toNumericalChoice(self):\n",
    "        switcher = {\n",
    "            \"rock\": 0,\n",
    "            \"paper\": 1,\n",
    "            \"scissor\": 2\n",
    "        }\n",
    "        return switcher[self.choice]\n",
    "    \n",
    "    def incrementPoint(self):\n",
    "        self.points += 1\n",
    "\n",
    "class GameRound:\n",
    "    def __init__(self, p1, p2):\n",
    "        self.rules = [\n",
    "            [0, -1, 1],\n",
    "            [1, 0, -1],\n",
    "            [-1, 1, 0]\n",
    "        ]\n",
    "        p1.choose()\n",
    "        p2.choose()\n",
    "        result = self.compareChoices(p1, p2)\n",
    "        print(\"Round resulted in a {result}\".format(result=self.getResultAsString(result)))\n",
    "        \n",
    "        if result > 0:\n",
    "            p1.incrementPoint()\n",
    "        elif result < 0:\n",
    "            p2.incrementPoint()\n",
    "        else:\n",
    "            print(\"No points for anybody.\")\n",
    "    \n",
    "    def compareChoices(self, p1, p2):\n",
    "        return self.rules[p1.toNumericalChoice()][p2.toNumericalChoice()]\n",
    "    \n",
    "    def awardPoints(self):\n",
    "        print(\"implement\")\n",
    "    \n",
    "    def getResultAsString(self, result):\n",
    "        res = {\n",
    "            0: \"draw\",\n",
    "            1: \"win\",\n",
    "            -1: \"loss\"\n",
    "        }\n",
    "        return res[result]\n",
    "\n",
    "class Game:\n",
    "    def __init__(self):\n",
    "        self.endGame = False\n",
    "        self.participant = Participant(\"Spock\")\n",
    "        self.secondParticipant = Participant(\"Kirk\")\n",
    "    \n",
    "    def start(self):\n",
    "        while not self.endGame:\n",
    "            GameRound(self.participant, self.secondParticipant)\n",
    "            self.checkEndCondition()\n",
    "    \n",
    "    def checkEndCondition(self):\n",
    "        answer = input(\"Continue game y/n: \")\n",
    "        if answer == 'y':\n",
    "            GameRound(self.participant, self.secondParticipant)\n",
    "            self.checkEndCondition()\n",
    "        else:\n",
    "            print(\"Game ended, {p1name} has {p1points}, and {p2name} had {p2points}\".format(p1name=self.participant.name, p1points=self.participant.points, p2name=self.secondParticipant.name, p2points=self.secondParticipant.points))\n",
    "            self.determineWinner()\n",
    "            self.endGame = True\n",
    "    \n",
    "    def determineWinner(self):\n",
    "        resultString = \"It's a Draw\"\n",
    "        if self.participant.points > self.secondParticipant.points:\n",
    "            resultString = \"Winner is {name}\".format(name=self.participant.name)\n",
    "        elif self.participant.points < self.secondParticipant.points:\n",
    "            resultString = \"Winner is {name}\".format(name=self.secondParticipant.name)\n",
    "        print(resultString)\n",
    "\n"
   ]
  },
  {
   "cell_type": "code",
   "execution_count": null,
   "id": "b7b961c0",
   "metadata": {},
   "outputs": [],
   "source": [
    "game = Game()\n"
   ]
  },
  {
   "cell_type": "code",
   "execution_count": null,
   "id": "8202cd8b",
   "metadata": {},
   "outputs": [],
   "source": [
    "game.start()"
   ]
  },
  {
   "cell_type": "markdown",
   "id": "b30d1b30",
   "metadata": {},
   "source": [
    "# 13. Inheritance"
   ]
  },
  {
   "cell_type": "code",
   "execution_count": null,
   "id": "fba1c010",
   "metadata": {},
   "outputs": [],
   "source": [
    "class Person:\n",
    "  def __init__(self, fname, lname):\n",
    "    self.firstname = fname\n",
    "    self.lastname = lname\n",
    "\n",
    "  def printname(self):\n",
    "    print(self.firstname, self.lastname)\n",
    "\n",
    "#Use the Person class to create an object, and then execute the printname method:\n",
    "\n",
    "x = Person(\"John\", \"Doe\")\n",
    "x.printname()"
   ]
  },
  {
   "cell_type": "code",
   "execution_count": null,
   "id": "bcc3d707",
   "metadata": {},
   "outputs": [],
   "source": [
    "class Student(Person):\n",
    "  pass"
   ]
  },
  {
   "cell_type": "code",
   "execution_count": null,
   "id": "20ac6dbf",
   "metadata": {},
   "outputs": [],
   "source": [
    "x = Student(\"Mike\", \"Olsen\")\n",
    "x.printname()"
   ]
  },
  {
   "cell_type": "code",
   "execution_count": null,
   "id": "63119bc2",
   "metadata": {},
   "outputs": [],
   "source": [
    "class Student(Person):\n",
    "  def __init__(self, fname, lname, year):\n",
    "    super().__init__(fname, lname)\n",
    "    self.graduationyear = year\n",
    "\n",
    "x=Student(\"Mike\", \"Olsen\", 2019)"
   ]
  },
  {
   "cell_type": "code",
   "execution_count": null,
   "id": "79826cba",
   "metadata": {},
   "outputs": [],
   "source": [
    "x.graduationyear"
   ]
  },
  {
   "cell_type": "markdown",
   "id": "178e8b99",
   "metadata": {},
   "source": [
    "# 14. Iterators"
   ]
  },
  {
   "cell_type": "code",
   "execution_count": null,
   "id": "ee864c94",
   "metadata": {},
   "outputs": [],
   "source": [
    "mytuple = (\"apple\", \"banana\", \"cherry\")\n",
    "myit = iter(mytuple)\n",
    "\n",
    "print(next(myit))\n",
    "print(next(myit))\n",
    "print(next(myit))"
   ]
  },
  {
   "cell_type": "code",
   "execution_count": null,
   "id": "68d49d8e",
   "metadata": {},
   "outputs": [],
   "source": [
    "print(next(myit))"
   ]
  },
  {
   "cell_type": "code",
   "execution_count": null,
   "id": "88e1f4fa",
   "metadata": {},
   "outputs": [],
   "source": [
    "mystr = \"banana\"\n",
    "myit = iter(mystr)\n",
    "\n",
    "print(next(myit))\n",
    "print(next(myit))\n",
    "print(next(myit))\n",
    "print(next(myit))\n",
    "print(next(myit))\n",
    "print(next(myit))\n"
   ]
  },
  {
   "cell_type": "markdown",
   "id": "e0bd9fe1",
   "metadata": {},
   "source": [
    "### Create an iterator\n",
    "\n",
    "To create an object/class as an iterator you have to implement the methods __iter__() and __next__() to your object.\n",
    "\n",
    "As you have learned in the Python Classes/Objects chapter, all classes have a function called __init__(), which allows you to do some initializing when the object is being created.\n",
    "\n",
    "The __iter__() method acts similar, you can do operations (initializing etc.), but must always return the iterator object itself.\n",
    "\n",
    "The __next__() method also allows you to do operations, and must return the next item in the sequence."
   ]
  },
  {
   "cell_type": "code",
   "execution_count": null,
   "id": "02c06dd6",
   "metadata": {},
   "outputs": [],
   "source": [
    "class MyNumbers:\n",
    "  def __iter__(self):\n",
    "    self.a = 1\n",
    "    return self\n",
    "\n",
    "  def __next__(self):\n",
    "    x = self.a\n",
    "    self.a += 1\n",
    "    return x"
   ]
  },
  {
   "cell_type": "code",
   "execution_count": null,
   "id": "028adae0",
   "metadata": {},
   "outputs": [],
   "source": [
    "nub=MyNumbers()"
   ]
  },
  {
   "cell_type": "code",
   "execution_count": null,
   "id": "906b9dde",
   "metadata": {},
   "outputs": [],
   "source": [
    "next(nub)\n"
   ]
  },
  {
   "cell_type": "code",
   "execution_count": null,
   "id": "83b7ac0b",
   "metadata": {},
   "outputs": [],
   "source": [
    "class MyNumbers:\n",
    "  def __iter__(self):\n",
    "    self.a = 1\n",
    "    return self\n",
    "\n",
    "  def __next__(self):\n",
    "    if self.a <= 20:\n",
    "      x = self.a\n",
    "      self.a += 1\n",
    "      return x\n",
    "    else:\n",
    "      raise StopIteration\n",
    "\n",
    "myclass = MyNumbers()\n",
    "myiter = iter(myclass)\n",
    "\n",
    "for x in myiter:\n",
    "  print(x)"
   ]
  },
  {
   "cell_type": "markdown",
   "id": "0cc5288f",
   "metadata": {},
   "source": [
    "# 15. Modules"
   ]
  },
  {
   "cell_type": "code",
   "execution_count": null,
   "id": "a6a09c90",
   "metadata": {},
   "outputs": [],
   "source": [
    "#build the mymodule.py file for this to work:\n",
    "import mymodule\n",
    "\n",
    "mymodule.greeting(\"Jonathan\")\n"
   ]
  },
  {
   "cell_type": "markdown",
   "id": "2dee4991",
   "metadata": {},
   "source": [
    "If you intend to use python further in your studies, study also the chapters 9-12: https://swcarpentry.github.io/python-novice-inflammation/\n",
    "\n",
    "A similar approach to this class can be found here: https://github.com/jakevdp/WhirlwindTourOfPython/tree/6f1daf714fe52a8dde6a288674ba46a7feed8816"
   ]
  },
  {
   "cell_type": "markdown",
   "id": "a338e9a6",
   "metadata": {},
   "source": [
    "# Exercise"
   ]
  },
  {
   "cell_type": "code",
   "execution_count": 8,
   "id": "dd5e80be",
   "metadata": {},
   "outputs": [],
   "source": [
    "import pandas as pd"
   ]
  },
  {
   "cell_type": "code",
   "execution_count": 9,
   "id": "cfc4018f",
   "metadata": {},
   "outputs": [],
   "source": [
    "data = {\n",
    "    'apples': [3, 2, 0, 1], \n",
    "    'oranges': [0, 3, 7, 2]\n",
    "}"
   ]
  },
  {
   "cell_type": "code",
   "execution_count": 10,
   "id": "a8642e6a",
   "metadata": {},
   "outputs": [],
   "source": [
    "purchases = pd.DataFrame(data)"
   ]
  },
  {
   "cell_type": "code",
   "execution_count": 11,
   "id": "b7c092fb",
   "metadata": {},
   "outputs": [],
   "source": [
    "purchases = pd.DataFrame(data, index=['June', 'Robert', 'Lily', 'David'])\n"
   ]
  },
  {
   "cell_type": "code",
   "execution_count": 12,
   "id": "45faf122",
   "metadata": {},
   "outputs": [
    {
     "data": {
      "text/plain": [
       "apples     3\n",
       "oranges    0\n",
       "Name: June, dtype: int64"
      ]
     },
     "execution_count": 12,
     "metadata": {},
     "output_type": "execute_result"
    }
   ],
   "source": [
    "purchases.loc['June']"
   ]
  },
  {
   "cell_type": "code",
   "execution_count": 29,
   "id": "2b8d1976",
   "metadata": {},
   "outputs": [
    {
     "name": "stderr",
     "output_type": "stream",
     "text": [
      "/var/folders/2j/9c98m7n951x4_mbq285bzgr4_55j52/T/ipykernel_1325/889142356.py:3: DtypeWarning: Columns (7) have mixed types. Specify dtype option on import or set low_memory=False.\n",
      "  title_akas = pd.read_csv(\"data/title_akas.tsv\", sep='\\t')\n",
      "/var/folders/2j/9c98m7n951x4_mbq285bzgr4_55j52/T/ipykernel_1325/889142356.py:4: DtypeWarning: Columns (4) have mixed types. Specify dtype option on import or set low_memory=False.\n",
      "  title_basic = pd.read_csv(\"data/title_basics.tsv\", sep='\\t')\n"
     ]
    }
   ],
   "source": [
    "#dataset description: https://www.kaggle.com/datasets/ashirwadsangwan/imdb-dataset\n",
    "\n",
    "title_akas = pd.read_csv(\"data/title_akas.tsv\", sep='\\t')\n",
    "title_basic = pd.read_csv(\"data/title_basics.tsv\", sep='\\t')\n",
    "title_principals = pd.read_csv(\"data/title_principals.tsv\", sep='\\t')\n",
    "title_ratings = pd.read_csv(\"data/title_ratings.tsv\", sep='\\t')\n",
    "name_basics = pd.read_csv(\"data/name_basics.tsv\", sep='\\t')"
   ]
  },
  {
   "cell_type": "code",
   "execution_count": null,
   "id": "b8b634a3",
   "metadata": {},
   "outputs": [],
   "source": [
    "1. select the title from US only\n",
    "2. Add a genres and startYear columns (you should have here: titleid, title, region, startYear, genres)\n",
    "3. Add the name of the director to the film ()"
   ]
  },
  {
   "cell_type": "markdown",
   "id": "6c881ef4",
   "metadata": {},
   "source": [
    "1. Handling duplicates\n",
    "2. Column clean update\n",
    "3. Missing values\n",
    "4. Loc and iloc\n",
    "5. Conditional selection\n",
    "6. Apply functions (and lambda)\n",
    "7. Plotting\n",
    "8. Groupby\n",
    "9. Column transformation\n",
    "10. Save sample as csv"
   ]
  },
  {
   "cell_type": "markdown",
   "id": "b416b343",
   "metadata": {},
   "source": []
  }
 ],
 "metadata": {
  "kernelspec": {
   "display_name": "Python 3.9.13",
   "language": "python",
   "name": "python3"
  },
  "language_info": {
   "codemirror_mode": {
    "name": "ipython",
    "version": 3
   },
   "file_extension": ".py",
   "mimetype": "text/x-python",
   "name": "python",
   "nbconvert_exporter": "python",
   "pygments_lexer": "ipython3",
   "version": "3.9.13"
  },
  "vscode": {
   "interpreter": {
    "hash": "d33a1388bb95f6f47390937b44de6829ea073fadb3ed2a95296fdc5e4fdfba80"
   }
  }
 },
 "nbformat": 4,
 "nbformat_minor": 5
}
