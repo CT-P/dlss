{
 "cells": [
  {
   "cell_type": "markdown",
   "metadata": {},
   "source": [
    "# Week 15 - Class 13\n",
    "\n",
    "This notebook have the most important exercises for theoretical class 12, which covers chapter 12 from the book. The labs from https://github.com/fchollet/deep-learning-with-python-notebooks are a guide for this notebook, mainly the labs 12\n",
    "\n",
    "It will be covered:\n",
    "### Part 1:\n",
    "- Basic neural network\n",
    "- Selecting data\n",
    "- Tensor operations\n",
    "- Full implementation of a NN in Keras (not mandatory)\n",
    "### Part 2:\n",
    "- Linear classifier (not mandatory)\n",
    "- Movies Reviews - binary classsification-\n",
    "- Houses price - regression and k-fold validation-\n",
    "### Part 3:\n",
    "- Model improvememnt"
   ]
  },
  {
   "cell_type": "code",
   "execution_count": null,
   "metadata": {},
   "outputs": [],
   "source": []
  }
 ],
 "metadata": {
  "kernelspec": {
   "display_name": "Python 3.8.10 64-bit",
   "language": "python",
   "name": "python3"
  },
  "language_info": {
   "name": "python",
   "version": "3.8.10"
  },
  "orig_nbformat": 4,
  "vscode": {
   "interpreter": {
    "hash": "e7370f93d1d0cde622a1f8e1c04877d8463912d04d973331ad4851f04de6915a"
   }
  }
 },
 "nbformat": 4,
 "nbformat_minor": 2
}
