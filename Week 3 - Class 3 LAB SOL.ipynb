{
  "cells": [
    {
      "cell_type": "markdown",
      "id": "0bd64156",
      "metadata": {
        "id": "0bd64156"
      },
      "source": [
        "# Week 3 - Class 3\n",
        "\n",
        "This notebook have the most important exercises data wrangling operations for the data used in this course\n",
        "\n",
        "- Text\n",
        "- Numbers\n",
        "- Images Segmentation\n",
        "- Images"
      ]
    },
    {
      "cell_type": "markdown",
      "id": "d5512175",
      "metadata": {
        "id": "d5512175"
      },
      "source": [
        "# Text"
      ]
    },
    {
      "cell_type": "markdown",
      "id": "da184482",
      "metadata": {
        "id": "da184482"
      },
      "source": [
        "Your dataset information:\n",
        "\n",
        "https://keras.io/api/datasets/imdb/"
      ]
    },
    {
      "cell_type": "markdown",
      "id": "c45a2caf",
      "metadata": {
        "id": "c45a2caf"
      },
      "source": [
        "dataset of 25,000 movies reviews from IMDB\n",
        "abeled by sentiment (positive/negative): see set(train_labels)\n",
        "each review is encoded as a list of word indexes (integers): see train_data[0] for example\n",
        "\n",
        "the integer \"5\" encodes the 5th most frequent word in the data\n",
        "## Zero (0)\n",
        "\"0\" does not stand for a specific word, but instead is used to encode the pad token\n",
        "Padding is add the zeros at the end of the sequence to make the samples in the same size\n",
        "\n",
        "maxlen: int or None. Maximum sequence length. Any longer sequence will be truncated. Defaults to None, which means no truncation. None== length of the longest sentence, then truncation never happens\n",
        "\n",
        "## One (1)\n",
        "Start of sentence"
      ]
    },
    {
      "cell_type": "code",
      "execution_count": 1,
      "id": "04a32efc",
      "metadata": {
        "id": "04a32efc",
        "colab": {
          "base_uri": "https://localhost:8080/"
        },
        "outputId": "ce1a791c-c194-4437-b9e5-e6f8da9da708"
      },
      "outputs": [
        {
          "output_type": "stream",
          "name": "stdout",
          "text": [
            "Downloading data from https://storage.googleapis.com/tensorflow/tf-keras-datasets/imdb.npz\n",
            "17464789/17464789 [==============================] - 0s 0us/step\n"
          ]
        }
      ],
      "source": [
        "from tensorflow.keras.datasets import imdb\n",
        "# These are the default parameters\n",
        "start_char = 1\n",
        "oov_char = 2\n",
        "index_from = 3 #start_char+oov_char\n",
        "\n",
        "(train_data, train_labels), (test_data, test_labels) = imdb.load_data(\n",
        "    num_words=10000)"
      ]
    },
    {
      "cell_type": "markdown",
      "id": "96d04665",
      "metadata": {
        "id": "96d04665"
      },
      "source": [
        "The '3-index shift issue': see the load_data() and the get_word_index() as two separate functions. \n",
        "\n",
        "The load_data has special parameters, such as having reserved the 1 and 2 indexes for start_char and oov_char, respectively. \n",
        "\n",
        "The get_word_index gives the indexes of the words by overall frequency in the dataset, being the 1, the most frequent word in the dataset. This is independent from the load_data() function. \n",
        "\n",
        "When we load the data, we can choose to drop x-first indexes, the most frequent words. With a index_from, are saying to the function: 'give me the indexes of words shift +3'. Because of this, when converting the index to words, we need to subtract 3. "
      ]
    },
    {
      "cell_type": "code",
      "execution_count": 2,
      "id": "688ca973",
      "metadata": {
        "id": "688ca973",
        "outputId": "0354a969-6cec-45c7-bea8-ea4d13ce9fec",
        "colab": {
          "base_uri": "https://localhost:8080/"
        }
      },
      "outputs": [
        {
          "output_type": "stream",
          "name": "stdout",
          "text": [
            "zero: [1, 11, 19, 13]\n",
            "3-indx: [1, 14, 22, 16]\n"
          ]
        }
      ],
      "source": [
        "start_char = 1\n",
        "oov_char = 2\n",
        "index_from = 0 \n",
        "\n",
        "(x_train0, _), _ = imdb.load_data(start_char=start_char, oov_char=oov_char, index_from=index_from)\n",
        "\n",
        "index_from = 3 #re assigning \n",
        "(x_train3, _), _ = imdb.load_data(start_char=start_char, oov_char=oov_char, index_from=index_from)\n",
        "\n",
        "print('zero:',x_train0[0][0:4]) #print first sample of train, for the first 5 words\n",
        "print('3-indx:',x_train3[0][0:4])\n"
      ]
    },
    {
      "cell_type": "code",
      "execution_count": 3,
      "id": "c622b22c",
      "metadata": {
        "id": "c622b22c",
        "outputId": "cc105675-8272-44d7-d2c4-6db986f37899",
        "colab": {
          "base_uri": "https://localhost:8080/"
        }
      },
      "outputs": [
        {
          "output_type": "execute_result",
          "data": {
            "text/plain": [
              "[1, 11, 19, 13]"
            ]
          },
          "metadata": {},
          "execution_count": 3
        }
      ],
      "source": [
        "start_char = 1\n",
        "oov_char = 2\n",
        "index_from = 0 #start_char+oov_char\n",
        "\n",
        "(x_train, _), _ = imdb.load_data(start_char=start_char, oov_char=oov_char, index_from=index_from)\n",
        "\n",
        "x_train[0][0:4]\n"
      ]
    },
    {
      "cell_type": "markdown",
      "id": "1adaab85",
      "metadata": {
        "id": "1adaab85"
      },
      "source": [
        "To obtain the words, from the word index, we can subtract 3 from the train data index, or sum 3 from the word index"
      ]
    },
    {
      "cell_type": "code",
      "execution_count": 4,
      "id": "d0648f77",
      "metadata": {
        "id": "d0648f77",
        "colab": {
          "base_uri": "https://localhost:8080/"
        },
        "outputId": "7d29de1e-b0a2-4ce6-c06e-3132a5513bde"
      },
      "outputs": [
        {
          "output_type": "stream",
          "name": "stdout",
          "text": [
            "Downloading data from https://storage.googleapis.com/tensorflow/tf-keras-datasets/imdb_word_index.json\n",
            "1641221/1641221 [==============================] - 0s 0us/step\n"
          ]
        }
      ],
      "source": [
        "# Retrieve the word index file mapping words to indices\n",
        "word_index = imdb.get_word_index()\n",
        "# see the word index sorted\n",
        "#{k: v for k, v in sorted(word_index.items(), key=lambda item: item[1])}\n"
      ]
    },
    {
      "cell_type": "markdown",
      "id": "45f24960",
      "metadata": {
        "id": "45f24960"
      },
      "source": [
        "### Sum to word index example"
      ]
    },
    {
      "cell_type": "code",
      "execution_count": 5,
      "id": "b5c4e686",
      "metadata": {
        "id": "b5c4e686"
      },
      "outputs": [],
      "source": [
        "# Retrieve the word index file mapping words to indices\n",
        "word_index = imdb.get_word_index()\n",
        "# Reverse the word index to obtain a dict mapping indices to words\n",
        "# And add `index_from` to indices to sync with `x_train`\n",
        "inverted_word_index = dict(\n",
        "    (i + index_from, word) for (word, i) in word_index.items()\n",
        ")\n",
        "# Update `inverted_word_index` to include `start_char` and `oov_char`\n",
        "inverted_word_index[start_char] = \"[START]\"\n",
        "inverted_word_index[oov_char] = \"[OOV]\"\n",
        "# Decode the first sequence in the dataset\n",
        "decoded_sequence = \" \".join(inverted_word_index[i] for i in x_train[0])"
      ]
    },
    {
      "cell_type": "code",
      "execution_count": 6,
      "id": "3c0216eb",
      "metadata": {
        "id": "3c0216eb",
        "outputId": "99f059a9-f0c8-4eef-ddb3-f9dfb2d5bcb8",
        "colab": {
          "base_uri": "https://localhost:8080/",
          "height": 105
        }
      },
      "outputs": [
        {
          "output_type": "execute_result",
          "data": {
            "text/plain": [
              "\"[START] this film was just brilliant casting location scenery story direction everyone's really suited [START] part they played [OOV] you could just imagine being there robert redford's is an amazing actor [OOV] now [START] same being director norman's father came from [START] same scottish island as myself so i loved [START] fact there was a real connection with this film [START] witty remarks throughout [START] film were great it was just brilliant so much that i bought [START] film as soon as it was released for retail [OOV] would recommend it to everyone to watch [OOV] [START] fly fishing was amazing really cried at [START] end it was so sad [OOV] you know what they say if you cry at a film it must have been good [OOV] this definitely was also congratulations to [START] two little boy's that played [START] part's of norman [OOV] paul they were just brilliant children are often left out of [START] praising list i think because [START] stars that play them all grown up are such a big profile for [START] whole film but these children are amazing [OOV] should be praised for what they have done don't you think [START] whole story was so lovely because it was true [OOV] was someone's life after all that was shared with us all\""
            ],
            "application/vnd.google.colaboratory.intrinsic+json": {
              "type": "string"
            }
          },
          "metadata": {},
          "execution_count": 6
        }
      ],
      "source": [
        "decoded_sequence"
      ]
    },
    {
      "cell_type": "markdown",
      "id": "3fe9fc41",
      "metadata": {
        "id": "3fe9fc41"
      },
      "source": [
        "### Substract to train_data"
      ]
    },
    {
      "cell_type": "code",
      "execution_count": 7,
      "id": "64f1b875",
      "metadata": {
        "id": "64f1b875"
      },
      "outputs": [],
      "source": [
        "word_index = imdb.get_word_index()\n",
        "reverse_word_index = dict(\n",
        "    [(value, key) for (key, value) in word_index.items()])\n",
        "decoded_review = \" \".join(\n",
        "    [reverse_word_index.get(i - 3, \"?\") for i in train_data[0]])"
      ]
    },
    {
      "cell_type": "code",
      "execution_count": 8,
      "id": "be9bae25",
      "metadata": {
        "id": "be9bae25",
        "outputId": "4d3eb7e0-fc12-4cbc-9016-dffbd4ddba33",
        "colab": {
          "base_uri": "https://localhost:8080/",
          "height": 105
        }
      },
      "outputs": [
        {
          "output_type": "execute_result",
          "data": {
            "text/plain": [
              "\"[START] this film was just brilliant casting location scenery story direction everyone's really suited [START] part they played [OOV] you could just imagine being there robert redford's is an amazing actor [OOV] now [START] same being director norman's father came from [START] same scottish island as myself so i loved [START] fact there was a real connection with this film [START] witty remarks throughout [START] film were great it was just brilliant so much that i bought [START] film as soon as it was released for retail [OOV] would recommend it to everyone to watch [OOV] [START] fly fishing was amazing really cried at [START] end it was so sad [OOV] you know what they say if you cry at a film it must have been good [OOV] this definitely was also congratulations to [START] two little boy's that played [START] part's of norman [OOV] paul they were just brilliant children are often left out of [START] praising list i think because [START] stars that play them all grown up are such a big profile for [START] whole film but these children are amazing [OOV] should be praised for what they have done don't you think [START] whole story was so lovely because it was true [OOV] was someone's life after all that was shared with us all\""
            ],
            "application/vnd.google.colaboratory.intrinsic+json": {
              "type": "string"
            }
          },
          "metadata": {},
          "execution_count": 8
        }
      ],
      "source": [
        "decoded_sequence"
      ]
    },
    {
      "cell_type": "code",
      "execution_count": 9,
      "id": "074c5036",
      "metadata": {
        "id": "074c5036",
        "outputId": "de3cc596-06a0-48bd-f957-50a21f52a265",
        "colab": {
          "base_uri": "https://localhost:8080/"
        }
      },
      "outputs": [
        {
          "output_type": "stream",
          "name": "stdout",
          "text": [
            "(25000,) (25000,)\n",
            "(25000,) (25000,)\n"
          ]
        }
      ],
      "source": [
        "# check the number of samples in training and testing dataset\n",
        "\n",
        "print(train_data.shape,train_labels.shape)\n",
        "print(test_data.shape,test_labels.shape)"
      ]
    },
    {
      "cell_type": "code",
      "execution_count": 10,
      "id": "df0b60a6",
      "metadata": {
        "id": "df0b60a6",
        "outputId": "f68f7a53-ffb4-46a7-c1ab-52babeed10b9",
        "colab": {
          "base_uri": "https://localhost:8080/"
        }
      },
      "outputs": [
        {
          "output_type": "stream",
          "name": "stdout",
          "text": [
            "189 1\n",
            "260 0\n"
          ]
        }
      ],
      "source": [
        "# check the size of training and testing dataset for one sample\n",
        "\n",
        "print(len(train_data[1]), train_labels[0])\n",
        "print(len(test_data[1]), test_labels[0])"
      ]
    },
    {
      "cell_type": "code",
      "execution_count": 11,
      "id": "e8e7ed85",
      "metadata": {
        "id": "e8e7ed85",
        "outputId": "d7e343c9-6452-426f-d1d8-d4689ee63b44",
        "colab": {
          "base_uri": "https://localhost:8080/"
        }
      },
      "outputs": [
        {
          "output_type": "execute_result",
          "data": {
            "text/plain": [
              "9999"
            ]
          },
          "metadata": {},
          "execution_count": 11
        }
      ],
      "source": [
        "# check the maximum length in the data\n",
        "\n",
        "max([max(sequence) for sequence in train_data])\n"
      ]
    },
    {
      "cell_type": "code",
      "execution_count": 12,
      "id": "744763e9",
      "metadata": {
        "id": "744763e9"
      },
      "outputs": [],
      "source": [
        "import numpy as np\n",
        "\n",
        "#create a function to transfor list of word-indexes to vectors\n",
        "def vectorize_sequences(sequences, dimension=10000):\n",
        "    #start by create the placeholder for the word vectors\n",
        "    #np.zeros(rows, columns)-> array with zeros with rows=nb of samples and columns=vocabulary dimension\n",
        "    results = np.zeros((len(sequences), dimension))\n",
        "    #for each row, give an i (index) and the sequence itself\n",
        "    for i, sequence in enumerate(sequences):\n",
        "        #inside the sequence, j will go through the columns\n",
        "        for j in sequence:\n",
        "            #for i (the sequence number) and j (the column in that sequence), assign 1 to that cell in results\n",
        "            #results for row i, in j column will have a 1, if sequence i has j in its values\n",
        "            results[i, j] = 1.\n",
        "    return results\n"
      ]
    },
    {
      "cell_type": "code",
      "execution_count": 13,
      "id": "50e90040",
      "metadata": {
        "id": "50e90040"
      },
      "outputs": [],
      "source": [
        "x_train = vectorize_sequences(train_data)\n",
        "x_test = vectorize_sequences(test_data)"
      ]
    },
    {
      "cell_type": "code",
      "execution_count": 14,
      "id": "c858a331",
      "metadata": {
        "id": "c858a331",
        "outputId": "99c6bbbf-02ce-477b-8447-bd7cfa89fdcd",
        "colab": {
          "base_uri": "https://localhost:8080/"
        }
      },
      "outputs": [
        {
          "output_type": "execute_result",
          "data": {
            "text/plain": [
              "array([0., 1., 1., ..., 0., 0., 0.])"
            ]
          },
          "metadata": {},
          "execution_count": 14
        }
      ],
      "source": [
        "x_train[0]"
      ]
    },
    {
      "cell_type": "code",
      "execution_count": 15,
      "id": "d66543ef",
      "metadata": {
        "id": "d66543ef"
      },
      "outputs": [],
      "source": [
        "y_train = np.asarray(train_labels).astype(\"float32\")\n",
        "y_test = np.asarray(test_labels).astype(\"float32\")"
      ]
    },
    {
      "cell_type": "markdown",
      "id": "7072f1b4",
      "metadata": {
        "id": "7072f1b4"
      },
      "source": [
        "# Numbers"
      ]
    },
    {
      "cell_type": "code",
      "execution_count": 16,
      "id": "c4fdf5cf",
      "metadata": {
        "id": "c4fdf5cf",
        "colab": {
          "base_uri": "https://localhost:8080/"
        },
        "outputId": "51da6868-a87a-4cf9-ad0e-6b26fe5c1f14"
      },
      "outputs": [
        {
          "output_type": "stream",
          "name": "stdout",
          "text": [
            "Downloading data from https://storage.googleapis.com/tensorflow/tf-keras-datasets/boston_housing.npz\n",
            "57026/57026 [==============================] - 0s 0us/step\n"
          ]
        }
      ],
      "source": [
        "from tensorflow.keras.datasets import boston_housing\n",
        "(train_data, train_targets), (test_data, test_targets) = boston_housing.load_data()"
      ]
    },
    {
      "cell_type": "code",
      "execution_count": 17,
      "id": "3983c186",
      "metadata": {
        "id": "3983c186",
        "outputId": "fb7dbf09-010b-4e01-f8d3-5a79c5ed3a5c",
        "colab": {
          "base_uri": "https://localhost:8080/"
        }
      },
      "outputs": [
        {
          "output_type": "execute_result",
          "data": {
            "text/plain": [
              "(404, 13)"
            ]
          },
          "metadata": {},
          "execution_count": 17
        }
      ],
      "source": [
        "train_data.shape"
      ]
    },
    {
      "cell_type": "code",
      "execution_count": 18,
      "id": "688c024a",
      "metadata": {
        "id": "688c024a",
        "outputId": "c34ca140-24ce-46ce-a780-c6607ef41a53",
        "colab": {
          "base_uri": "https://localhost:8080/"
        }
      },
      "outputs": [
        {
          "output_type": "execute_result",
          "data": {
            "text/plain": [
              "(102, 13)"
            ]
          },
          "metadata": {},
          "execution_count": 18
        }
      ],
      "source": [
        "test_data.shape"
      ]
    },
    {
      "cell_type": "code",
      "execution_count": 19,
      "id": "c0b6c3ee",
      "metadata": {
        "id": "c0b6c3ee",
        "outputId": "ea51e36c-ab18-4ad9-edd3-1da317feb984",
        "colab": {
          "base_uri": "https://localhost:8080/"
        }
      },
      "outputs": [
        {
          "output_type": "execute_result",
          "data": {
            "text/plain": [
              "array([15.2, 42.3, 50. , 21.1, 17.7, 18.5, 11.3, 15.6, 15.6, 14.4, 12.1,\n",
              "       17.9, 23.1, 19.9, 15.7,  8.8, 50. , 22.5, 24.1, 27.5, 10.9, 30.8,\n",
              "       32.9, 24. , 18.5, 13.3, 22.9, 34.7, 16.6, 17.5, 22.3, 16.1, 14.9,\n",
              "       23.1, 34.9, 25. , 13.9, 13.1, 20.4, 20. , 15.2, 24.7, 22.2, 16.7,\n",
              "       12.7, 15.6, 18.4, 21. , 30.1, 15.1, 18.7,  9.6, 31.5, 24.8, 19.1,\n",
              "       22. , 14.5, 11. , 32. , 29.4, 20.3, 24.4, 14.6, 19.5, 14.1, 14.3,\n",
              "       15.6, 10.5,  6.3, 19.3, 19.3, 13.4, 36.4, 17.8, 13.5, 16.5,  8.3,\n",
              "       14.3, 16. , 13.4, 28.6, 43.5, 20.2, 22. , 23. , 20.7, 12.5, 48.5,\n",
              "       14.6, 13.4, 23.7, 50. , 21.7, 39.8, 38.7, 22.2, 34.9, 22.5, 31.1,\n",
              "       28.7, 46. , 41.7, 21. , 26.6, 15. , 24.4, 13.3, 21.2, 11.7, 21.7,\n",
              "       19.4, 50. , 22.8, 19.7, 24.7, 36.2, 14.2, 18.9, 18.3, 20.6, 24.6,\n",
              "       18.2,  8.7, 44. , 10.4, 13.2, 21.2, 37. , 30.7, 22.9, 20. , 19.3,\n",
              "       31.7, 32. , 23.1, 18.8, 10.9, 50. , 19.6,  5. , 14.4, 19.8, 13.8,\n",
              "       19.6, 23.9, 24.5, 25. , 19.9, 17.2, 24.6, 13.5, 26.6, 21.4, 11.9,\n",
              "       22.6, 19.6,  8.5, 23.7, 23.1, 22.4, 20.5, 23.6, 18.4, 35.2, 23.1,\n",
              "       27.9, 20.6, 23.7, 28. , 13.6, 27.1, 23.6, 20.6, 18.2, 21.7, 17.1,\n",
              "        8.4, 25.3, 13.8, 22.2, 18.4, 20.7, 31.6, 30.5, 20.3,  8.8, 19.2,\n",
              "       19.4, 23.1, 23. , 14.8, 48.8, 22.6, 33.4, 21.1, 13.6, 32.2, 13.1,\n",
              "       23.4, 18.9, 23.9, 11.8, 23.3, 22.8, 19.6, 16.7, 13.4, 22.2, 20.4,\n",
              "       21.8, 26.4, 14.9, 24.1, 23.8, 12.3, 29.1, 21. , 19.5, 23.3, 23.8,\n",
              "       17.8, 11.5, 21.7, 19.9, 25. , 33.4, 28.5, 21.4, 24.3, 27.5, 33.1,\n",
              "       16.2, 23.3, 48.3, 22.9, 22.8, 13.1, 12.7, 22.6, 15. , 15.3, 10.5,\n",
              "       24. , 18.5, 21.7, 19.5, 33.2, 23.2,  5. , 19.1, 12.7, 22.3, 10.2,\n",
              "       13.9, 16.3, 17. , 20.1, 29.9, 17.2, 37.3, 45.4, 17.8, 23.2, 29. ,\n",
              "       22. , 18. , 17.4, 34.6, 20.1, 25. , 15.6, 24.8, 28.2, 21.2, 21.4,\n",
              "       23.8, 31. , 26.2, 17.4, 37.9, 17.5, 20. ,  8.3, 23.9,  8.4, 13.8,\n",
              "        7.2, 11.7, 17.1, 21.6, 50. , 16.1, 20.4, 20.6, 21.4, 20.6, 36.5,\n",
              "        8.5, 24.8, 10.8, 21.9, 17.3, 18.9, 36.2, 14.9, 18.2, 33.3, 21.8,\n",
              "       19.7, 31.6, 24.8, 19.4, 22.8,  7.5, 44.8, 16.8, 18.7, 50. , 50. ,\n",
              "       19.5, 20.1, 50. , 17.2, 20.8, 19.3, 41.3, 20.4, 20.5, 13.8, 16.5,\n",
              "       23.9, 20.6, 31.5, 23.3, 16.8, 14. , 33.8, 36.1, 12.8, 18.3, 18.7,\n",
              "       19.1, 29. , 30.1, 50. , 50. , 22. , 11.9, 37.6, 50. , 22.7, 20.8,\n",
              "       23.5, 27.9, 50. , 19.3, 23.9, 22.6, 15.2, 21.7, 19.2, 43.8, 20.3,\n",
              "       33.2, 19.9, 22.5, 32.7, 22. , 17.1, 19. , 15. , 16.1, 25.1, 23.7,\n",
              "       28.7, 37.2, 22.6, 16.4, 25. , 29.8, 22.1, 17.4, 18.1, 30.3, 17.5,\n",
              "       24.7, 12.6, 26.5, 28.7, 13.3, 10.4, 24.4, 23. , 20. , 17.8,  7. ,\n",
              "       11.8, 24.4, 13.8, 19.4, 25.2, 19.4, 19.4, 29.1])"
            ]
          },
          "metadata": {},
          "execution_count": 19
        }
      ],
      "source": [
        "train_targets"
      ]
    },
    {
      "cell_type": "code",
      "execution_count": 20,
      "id": "4556c164",
      "metadata": {
        "id": "4556c164"
      },
      "outputs": [],
      "source": [
        "mean = train_data.mean(axis=0)\n",
        "train_data -= mean\n",
        "std = train_data.std(axis=0)\n",
        "train_data /= std\n",
        "test_data -= mean\n",
        "test_data /= std"
      ]
    },
    {
      "cell_type": "markdown",
      "id": "c534c0e9",
      "metadata": {
        "id": "c534c0e9"
      },
      "source": [
        "# Images Segmentation"
      ]
    },
    {
      "cell_type": "markdown",
      "id": "8e4c6e85",
      "metadata": {
        "id": "8e4c6e85"
      },
      "source": [
        "Get the images from these two links and extract them:\n",
        "http://www.robots.ox.ac.uk/~vgg/data/pets/data/images.tar.gz\n",
        "http://www.robots.ox.ac.uk/~vgg/data/pets/data/annotations.tar.gz "
      ]
    },
    {
      "cell_type": "code",
      "execution_count": 21,
      "id": "4131c510",
      "metadata": {
        "id": "4131c510",
        "outputId": "e4487400-cb82-42b3-da92-58e4d12fc2e0",
        "colab": {
          "base_uri": "https://localhost:8080/"
        }
      },
      "outputs": [
        {
          "output_type": "stream",
          "name": "stdout",
          "text": [
            "--2023-03-28 15:37:10--  http://www.robots.ox.ac.uk/~vgg/data/pets/data/images.tar.gz\n",
            "Resolving www.robots.ox.ac.uk (www.robots.ox.ac.uk)... 129.67.94.2\n",
            "Connecting to www.robots.ox.ac.uk (www.robots.ox.ac.uk)|129.67.94.2|:80... connected.\n",
            "HTTP request sent, awaiting response... 301 Moved Permanently\n",
            "Location: https://www.robots.ox.ac.uk/~vgg/data/pets/data/images.tar.gz [following]\n",
            "--2023-03-28 15:37:11--  https://www.robots.ox.ac.uk/~vgg/data/pets/data/images.tar.gz\n",
            "Connecting to www.robots.ox.ac.uk (www.robots.ox.ac.uk)|129.67.94.2|:443... connected.\n",
            "HTTP request sent, awaiting response... 301 Moved Permanently\n",
            "Location: https://thor.robots.ox.ac.uk/~vgg/data/pets/images.tar.gz [following]\n",
            "--2023-03-28 15:37:11--  https://thor.robots.ox.ac.uk/~vgg/data/pets/images.tar.gz\n",
            "Resolving thor.robots.ox.ac.uk (thor.robots.ox.ac.uk)... 129.67.95.98\n",
            "Connecting to thor.robots.ox.ac.uk (thor.robots.ox.ac.uk)|129.67.95.98|:443... connected.\n",
            "HTTP request sent, awaiting response... 301 Moved Permanently\n",
            "Location: https://thor.robots.ox.ac.uk/datasets/pets/images.tar.gz [following]\n",
            "--2023-03-28 15:37:12--  https://thor.robots.ox.ac.uk/datasets/pets/images.tar.gz\n",
            "Reusing existing connection to thor.robots.ox.ac.uk:443.\n",
            "HTTP request sent, awaiting response... 200 OK\n",
            "Length: 791918971 (755M) [application/octet-stream]\n",
            "Saving to: ‘images.tar.gz’\n",
            "\n",
            "images.tar.gz       100%[===================>] 755.23M  28.6MB/s    in 28s     \n",
            "\n",
            "2023-03-28 15:37:40 (27.3 MB/s) - ‘images.tar.gz’ saved [791918971/791918971]\n",
            "\n"
          ]
        }
      ],
      "source": [
        "!wget http://www.robots.ox.ac.uk/~vgg/data/pets/data/images.tar.gz"
      ]
    },
    {
      "cell_type": "code",
      "execution_count": 22,
      "id": "d5e639b8",
      "metadata": {
        "id": "d5e639b8",
        "outputId": "7463bc15-9554-43de-efc6-48a318411957",
        "colab": {
          "base_uri": "https://localhost:8080/"
        }
      },
      "outputs": [
        {
          "output_type": "stream",
          "name": "stdout",
          "text": [
            "--2023-03-28 15:37:40--  http://www.robots.ox.ac.uk/~vgg/data/pets/data/images.tar.gz\n",
            "Resolving www.robots.ox.ac.uk (www.robots.ox.ac.uk)... 129.67.94.2\n",
            "Connecting to www.robots.ox.ac.uk (www.robots.ox.ac.uk)|129.67.94.2|:80... connected.\n",
            "HTTP request sent, awaiting response... 301 Moved Permanently\n",
            "Location: https://www.robots.ox.ac.uk/~vgg/data/pets/data/images.tar.gz [following]\n",
            "--2023-03-28 15:37:40--  https://www.robots.ox.ac.uk/~vgg/data/pets/data/images.tar.gz\n",
            "Connecting to www.robots.ox.ac.uk (www.robots.ox.ac.uk)|129.67.94.2|:443... connected.\n",
            "HTTP request sent, awaiting response... 301 Moved Permanently\n",
            "Location: https://thor.robots.ox.ac.uk/~vgg/data/pets/images.tar.gz [following]\n",
            "--2023-03-28 15:37:40--  https://thor.robots.ox.ac.uk/~vgg/data/pets/images.tar.gz\n",
            "Resolving thor.robots.ox.ac.uk (thor.robots.ox.ac.uk)... 129.67.95.98\n",
            "Connecting to thor.robots.ox.ac.uk (thor.robots.ox.ac.uk)|129.67.95.98|:443... connected.\n",
            "HTTP request sent, awaiting response... 301 Moved Permanently\n",
            "Location: https://thor.robots.ox.ac.uk/datasets/pets/images.tar.gz [following]\n",
            "--2023-03-28 15:37:41--  https://thor.robots.ox.ac.uk/datasets/pets/images.tar.gz\n",
            "Reusing existing connection to thor.robots.ox.ac.uk:443.\n",
            "HTTP request sent, awaiting response... 200 OK\n",
            "Length: 791918971 (755M) [application/octet-stream]\n",
            "Saving to: ‘images.tar.gz.1’\n",
            "\n",
            "images.tar.gz.1     100%[===================>] 755.23M  28.6MB/s    in 27s     \n",
            "\n",
            "2023-03-28 15:38:08 (28.2 MB/s) - ‘images.tar.gz.1’ saved [791918971/791918971]\n",
            "\n",
            "--2023-03-28 15:38:08--  http://www.robots.ox.ac.uk/~vgg/data/pets/data/annotations.tar.gz\n",
            "Resolving www.robots.ox.ac.uk (www.robots.ox.ac.uk)... 129.67.94.2\n",
            "Connecting to www.robots.ox.ac.uk (www.robots.ox.ac.uk)|129.67.94.2|:80... connected.\n",
            "HTTP request sent, awaiting response... 301 Moved Permanently\n",
            "Location: https://www.robots.ox.ac.uk/~vgg/data/pets/data/annotations.tar.gz [following]\n",
            "--2023-03-28 15:38:08--  https://www.robots.ox.ac.uk/~vgg/data/pets/data/annotations.tar.gz\n",
            "Connecting to www.robots.ox.ac.uk (www.robots.ox.ac.uk)|129.67.94.2|:443... connected.\n",
            "HTTP request sent, awaiting response... 301 Moved Permanently\n",
            "Location: https://thor.robots.ox.ac.uk/~vgg/data/pets/annotations.tar.gz [following]\n",
            "--2023-03-28 15:38:09--  https://thor.robots.ox.ac.uk/~vgg/data/pets/annotations.tar.gz\n",
            "Resolving thor.robots.ox.ac.uk (thor.robots.ox.ac.uk)... 129.67.95.98\n",
            "Connecting to thor.robots.ox.ac.uk (thor.robots.ox.ac.uk)|129.67.95.98|:443... connected.\n",
            "HTTP request sent, awaiting response... 301 Moved Permanently\n",
            "Location: https://thor.robots.ox.ac.uk/datasets/pets/annotations.tar.gz [following]\n",
            "--2023-03-28 15:38:09--  https://thor.robots.ox.ac.uk/datasets/pets/annotations.tar.gz\n",
            "Reusing existing connection to thor.robots.ox.ac.uk:443.\n",
            "HTTP request sent, awaiting response... 200 OK\n",
            "Length: 19173078 (18M) [application/octet-stream]\n",
            "Saving to: ‘annotations.tar.gz’\n",
            "\n",
            "annotations.tar.gz  100%[===================>]  18.28M  14.9MB/s    in 1.2s    \n",
            "\n",
            "2023-03-28 15:38:11 (14.9 MB/s) - ‘annotations.tar.gz’ saved [19173078/19173078]\n",
            "\n"
          ]
        }
      ],
      "source": [
        "!wget http://www.robots.ox.ac.uk/~vgg/data/pets/data/images.tar.gz\n",
        "!wget http://www.robots.ox.ac.uk/~vgg/data/pets/data/annotations.tar.gz\n",
        "!tar -xf images.tar.gz\n",
        "!tar -xf annotations.tar.gz"
      ]
    },
    {
      "cell_type": "markdown",
      "id": "3a448c22",
      "metadata": {
        "id": "3a448c22"
      },
      "source": [
        "Do a list of images paths and of target paths"
      ]
    },
    {
      "cell_type": "code",
      "execution_count": 23,
      "id": "f421752b",
      "metadata": {
        "id": "f421752b"
      },
      "outputs": [],
      "source": [
        "import os\n",
        "\n",
        "input_dir = \"images/\"\n",
        "target_dir = \"annotations/trimaps/\"\n",
        "\n",
        "input_img_paths = sorted(\n",
        "    [os.path.join(input_dir, fname)\n",
        "     for fname in os.listdir(input_dir)\n",
        "     if fname.endswith(\".jpg\")])\n",
        "target_paths = sorted(\n",
        "    [os.path.join(target_dir, fname)\n",
        "     for fname in os.listdir(target_dir)\n",
        "     if fname.endswith(\".png\") and not fname.startswith(\".\")])"
      ]
    },
    {
      "cell_type": "markdown",
      "id": "c17695ba",
      "metadata": {
        "id": "c17695ba"
      },
      "source": [
        "Plot the image 10th"
      ]
    },
    {
      "cell_type": "code",
      "execution_count": 24,
      "id": "c42bb269",
      "metadata": {
        "id": "c42bb269",
        "outputId": "dae53177-3531-4bee-8b57-9e1d9a4b3b7e",
        "colab": {
          "base_uri": "https://localhost:8080/",
          "height": 265
        }
      },
      "outputs": [
        {
          "output_type": "execute_result",
          "data": {
            "text/plain": [
              "<matplotlib.image.AxesImage at 0x7ff4d4ae8430>"
            ]
          },
          "metadata": {},
          "execution_count": 24
        },
        {
          "output_type": "display_data",
          "data": {
            "text/plain": [
              "<Figure size 432x288 with 1 Axes>"
            ],
            "image/png": "[encoded data removed]"
          },
          "metadata": {
            "needs_background": "light"
          }
        }
      ],
      "source": [
        "import matplotlib.pyplot as plt\n",
        "from tensorflow.keras.utils import load_img, img_to_array\n",
        "\n",
        "plt.axis(\"off\")\n",
        "plt.imshow(load_img(input_img_paths[9]))"
      ]
    },
    {
      "cell_type": "markdown",
      "id": "806d9a75",
      "metadata": {
        "id": "806d9a75"
      },
      "source": [
        "Plot its target"
      ]
    },
    {
      "cell_type": "code",
      "execution_count": 25,
      "id": "7a9d2d5d",
      "metadata": {
        "id": "7a9d2d5d",
        "outputId": "77e38837-d996-40da-a818-8db9a9b72669",
        "colab": {
          "base_uri": "https://localhost:8080/",
          "height": 248
        }
      },
      "outputs": [
        {
          "output_type": "display_data",
          "data": {
            "text/plain": [
              "<Figure size 432x288 with 1 Axes>"
            ],
            "image/png": "[encoded data removed]"
          },
          "metadata": {
            "needs_background": "light"
          }
        }
      ],
      "source": [
        "def display_target(target_array):\n",
        "    normalized_array = (target_array.astype(\"uint8\") - 1) * 127\n",
        "    plt.axis(\"off\")\n",
        "    plt.imshow(normalized_array[:, :, 0])\n",
        "\n",
        "img = img_to_array(load_img(target_paths[9], color_mode=\"grayscale\"))\n",
        "display_target(img)"
      ]
    },
    {
      "cell_type": "markdown",
      "id": "bc92f073",
      "metadata": {
        "id": "bc92f073"
      },
      "source": [
        "How to load an image to a numeric tensor!"
      ]
    },
    {
      "cell_type": "code",
      "execution_count": 26,
      "id": "f5a56eb4",
      "metadata": {
        "id": "f5a56eb4"
      },
      "outputs": [],
      "source": [
        "import numpy as np\n",
        "import random\n",
        "\n",
        "img_size = (200, 200)\n",
        "num_imgs = len(input_img_paths)\n",
        "\n",
        "random.Random(1337).shuffle(input_img_paths)\n",
        "random.Random(1337).shuffle(target_paths)\n",
        "\n",
        "def path_to_input_image(path):\n",
        "    return img_to_array(load_img(path, target_size=img_size))\n",
        "\n",
        "def path_to_target(path):\n",
        "    img = img_to_array(\n",
        "        load_img(path, target_size=img_size, color_mode=\"grayscale\"))\n",
        "    img = img.astype(\"uint8\") - 1\n",
        "    return img\n",
        "\n",
        "input_imgs = np.zeros((num_imgs,) + img_size + (3,), dtype=\"float32\")\n",
        "targets = np.zeros((num_imgs,) + img_size + (1,), dtype=\"uint8\")\n",
        "for i in range(num_imgs):\n",
        "    input_imgs[i] = path_to_input_image(input_img_paths[i])\n",
        "    targets[i] = path_to_target(target_paths[i])\n",
        "\n",
        "num_val_samples = 1000\n",
        "train_input_imgs = input_imgs[:-num_val_samples]\n",
        "train_targets = targets[:-num_val_samples]\n",
        "val_input_imgs = input_imgs[-num_val_samples:]\n",
        "val_targets = targets[-num_val_samples:]"
      ]
    },
    {
      "cell_type": "markdown",
      "id": "9a7da3c7",
      "metadata": {
        "id": "9a7da3c7"
      },
      "source": [
        "# Images"
      ]
    },
    {
      "cell_type": "code",
      "execution_count": 27,
      "id": "6dd6ec56",
      "metadata": {
        "id": "6dd6ec56",
        "outputId": "c4d1c143-8baf-46d7-8402-0824f50c3bb4",
        "colab": {
          "base_uri": "https://localhost:8080/"
        }
      },
      "outputs": [
        {
          "output_type": "stream",
          "name": "stdout",
          "text": [
            "Downloading dogs-vs-cats.zip to /content\n",
            " 98% 793M/812M [00:04<00:00, 244MB/s]\n",
            "100% 812M/812M [00:04<00:00, 204MB/s]\n"
          ]
        }
      ],
      "source": [
        "!mkdir ~/.kaggle\n",
        "!cp kaggle.json ~/.kaggle/\n",
        "!chmod 600 ~/.kaggle/kaggle.json\n",
        "!kaggle competitions download -c dogs-vs-cats\n",
        "!unzip -qq dogs-vs-cats.zip\n",
        "!unzip -qq train.zip\n"
      ]
    },
    {
      "cell_type": "markdown",
      "id": "0cf18c27",
      "metadata": {
        "id": "0cf18c27"
      },
      "source": [
        "Create directories and datasets"
      ]
    },
    {
      "cell_type": "code",
      "execution_count": 28,
      "id": "02ca3fde",
      "metadata": {
        "id": "02ca3fde",
        "outputId": "dc58a5e0-c8d1-447b-f06a-8e6a2e130ce2",
        "colab": {
          "base_uri": "https://localhost:8080/"
        }
      },
      "outputs": [
        {
          "output_type": "stream",
          "name": "stdout",
          "text": [
            "Found 2000 files belonging to 2 classes.\n",
            "Found 1000 files belonging to 2 classes.\n",
            "Found 2000 files belonging to 2 classes.\n"
          ]
        }
      ],
      "source": [
        "import os, shutil, pathlib\n",
        "from tensorflow.keras.utils import image_dataset_from_directory\n",
        "\n",
        "original_dir = pathlib.Path(\"train\")\n",
        "new_base_dir = pathlib.Path(\"cats_vs_dogs_small\")\n",
        "\n",
        "def make_subset(subset_name, start_index, end_index):\n",
        "    for category in (\"cat\", \"dog\"):\n",
        "        dir = new_base_dir / subset_name / category\n",
        "        os.makedirs(dir)\n",
        "        fnames = [f\"{category}.{i}.jpg\" for i in range(start_index, end_index)]\n",
        "        for fname in fnames:\n",
        "            shutil.copyfile(src=original_dir / fname,\n",
        "                            dst=dir / fname)\n",
        "\n",
        "make_subset(\"train\", start_index=0, end_index=1000)\n",
        "make_subset(\"validation\", start_index=1000, end_index=1500)\n",
        "make_subset(\"test\", start_index=1500, end_index=2500)\n",
        "\n",
        "train_dataset = image_dataset_from_directory(\n",
        "    new_base_dir / \"train\",\n",
        "    image_size=(180, 180),\n",
        "    batch_size=32)\n",
        "validation_dataset = image_dataset_from_directory(\n",
        "    new_base_dir / \"validation\",\n",
        "    image_size=(180, 180),\n",
        "    batch_size=32)\n",
        "test_dataset = image_dataset_from_directory(\n",
        "    new_base_dir / \"test\",\n",
        "    image_size=(180, 180),\n",
        "    batch_size=32)"
      ]
    },
    {
      "cell_type": "code",
      "execution_count": 28,
      "id": "0de2f9fb",
      "metadata": {
        "id": "0de2f9fb"
      },
      "outputs": [],
      "source": []
    }
  ],
  "metadata": {
    "kernelspec": {
      "display_name": "Python 3.9.13",
      "language": "python",
      "name": "python3"
    },
    "language_info": {
      "codemirror_mode": {
        "name": "ipython",
        "version": 3
      },
      "file_extension": ".py",
      "mimetype": "text/x-python",
      "name": "python",
      "nbconvert_exporter": "python",
      "pygments_lexer": "ipython3",
      "version": "3.9.13"
    },
    "vscode": {
      "interpreter": {
        "hash": "d33a1388bb95f6f47390937b44de6829ea073fadb3ed2a95296fdc5e4fdfba80"
      }
    },
    "colab": {
      "provenance": []
    }
  },
  "nbformat": 4,
  "nbformat_minor": 5
}